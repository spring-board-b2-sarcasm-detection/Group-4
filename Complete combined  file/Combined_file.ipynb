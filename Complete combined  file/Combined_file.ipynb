{
 "cells": [
  {
   "cell_type": "markdown",
   "id": "2ec47f66-b4d3-4b09-936d-a329cb0225ed",
   "metadata": {},
   "source": [
    "## Loading dataset & Displayed some row's"
   ]
  },
  {
   "cell_type": "code",
   "execution_count": 40,
   "id": "252e8445-a53e-4f82-b372-f9930ddd8724",
   "metadata": {},
   "outputs": [
    {
     "data": {
      "text/html": [
       "<div>\n",
       "<style scoped>\n",
       "    .dataframe tbody tr th:only-of-type {\n",
       "        vertical-align: middle;\n",
       "    }\n",
       "\n",
       "    .dataframe tbody tr th {\n",
       "        vertical-align: top;\n",
       "    }\n",
       "\n",
       "    .dataframe thead th {\n",
       "        text-align: right;\n",
       "    }\n",
       "</style>\n",
       "<table border=\"1\" class=\"dataframe\">\n",
       "  <thead>\n",
       "    <tr style=\"text-align: right;\">\n",
       "      <th></th>\n",
       "      <th>text</th>\n",
       "      <th>labels</th>\n",
       "    </tr>\n",
       "  </thead>\n",
       "  <tbody>\n",
       "    <tr>\n",
       "      <th>0</th>\n",
       "      <td>&lt;user&gt; thanks for showing up for our appointme...</td>\n",
       "      <td>1</td>\n",
       "    </tr>\n",
       "    <tr>\n",
       "      <th>1</th>\n",
       "      <td>haha .  # lol</td>\n",
       "      <td>1</td>\n",
       "    </tr>\n",
       "    <tr>\n",
       "      <th>2</th>\n",
       "      <td>i love waiting &lt;num&gt; min for a cab - such shor...</td>\n",
       "      <td>1</td>\n",
       "    </tr>\n",
       "    <tr>\n",
       "      <th>3</th>\n",
       "      <td>22 super funny quotes # funnyquotes  # funnysa...</td>\n",
       "      <td>1</td>\n",
       "    </tr>\n",
       "    <tr>\n",
       "      <th>4</th>\n",
       "      <td>goog morning  # sorrynotsorry # morning</td>\n",
       "      <td>1</td>\n",
       "    </tr>\n",
       "  </tbody>\n",
       "</table>\n",
       "</div>"
      ],
      "text/plain": [
       "                                                text  labels\n",
       "0  <user> thanks for showing up for our appointme...       1\n",
       "1                                      haha .  # lol       1\n",
       "2  i love waiting <num> min for a cab - such shor...       1\n",
       "3  22 super funny quotes # funnyquotes  # funnysa...       1\n",
       "4            goog morning  # sorrynotsorry # morning       1"
      ]
     },
     "execution_count": 40,
     "metadata": {},
     "output_type": "execute_result"
    }
   ],
   "source": [
    "import pandas as pd\n",
    "import numpy as np\n",
    "\n",
    "# Load the dataset\n",
    "file_path = 'sarcasm_training (1).csv'\n",
    "df = pd.read_csv(file_path)\n",
    "df.head()"
   ]
  },
  {
   "cell_type": "markdown",
   "id": "ba60eca3-10d7-4c84-a72e-124c7f8c7b40",
   "metadata": {},
   "source": [
    "## Data Cleaning\n",
    "\n",
    "Clean the data by handling missing values, removing duplicates column"
   ]
  },
  {
   "cell_type": "code",
   "execution_count": 3,
   "id": "c4e05a3d-a362-4a41-8c4c-ef92915d57e6",
   "metadata": {},
   "outputs": [
    {
     "name": "stdout",
     "output_type": "stream",
     "text": [
      "text      0\n",
      "labels    0\n",
      "dtype: int64\n",
      "Duplicate rows: 356\n",
      "(19461, 2)\n"
     ]
    },
    {
     "data": {
      "text/html": [
       "<div>\n",
       "<style scoped>\n",
       "    .dataframe tbody tr th:only-of-type {\n",
       "        vertical-align: middle;\n",
       "    }\n",
       "\n",
       "    .dataframe tbody tr th {\n",
       "        vertical-align: top;\n",
       "    }\n",
       "\n",
       "    .dataframe thead th {\n",
       "        text-align: right;\n",
       "    }\n",
       "</style>\n",
       "<table border=\"1\" class=\"dataframe\">\n",
       "  <thead>\n",
       "    <tr style=\"text-align: right;\">\n",
       "      <th></th>\n",
       "      <th>text</th>\n",
       "      <th>labels</th>\n",
       "    </tr>\n",
       "  </thead>\n",
       "  <tbody>\n",
       "    <tr>\n",
       "      <th>0</th>\n",
       "      <td>&lt;user&gt; thanks for showing up for our appointme...</td>\n",
       "      <td>1</td>\n",
       "    </tr>\n",
       "    <tr>\n",
       "      <th>1</th>\n",
       "      <td>haha .  # lol</td>\n",
       "      <td>1</td>\n",
       "    </tr>\n",
       "    <tr>\n",
       "      <th>2</th>\n",
       "      <td>i love waiting &lt;num&gt; min for a cab - such shor...</td>\n",
       "      <td>1</td>\n",
       "    </tr>\n",
       "    <tr>\n",
       "      <th>3</th>\n",
       "      <td>22 super funny quotes # funnyquotes  # funnysa...</td>\n",
       "      <td>1</td>\n",
       "    </tr>\n",
       "    <tr>\n",
       "      <th>4</th>\n",
       "      <td>goog morning  # sorrynotsorry # morning</td>\n",
       "      <td>1</td>\n",
       "    </tr>\n",
       "  </tbody>\n",
       "</table>\n",
       "</div>"
      ],
      "text/plain": [
       "                                                text  labels\n",
       "0  <user> thanks for showing up for our appointme...       1\n",
       "1                                      haha .  # lol       1\n",
       "2  i love waiting <num> min for a cab - such shor...       1\n",
       "3  22 super funny quotes # funnyquotes  # funnysa...       1\n",
       "4            goog morning  # sorrynotsorry # morning       1"
      ]
     },
     "execution_count": 3,
     "metadata": {},
     "output_type": "execute_result"
    }
   ],
   "source": [
    "# Check for missing values\n",
    "print(df.isnull().sum())\n",
    "\n",
    "# Check for duplicates\n",
    "print(f'Duplicate rows: {df.duplicated().sum()}')\n",
    "\n",
    "# Drop duplicates\n",
    "df.drop_duplicates(inplace=True)\n",
    "\n",
    "# Display the cleaned dataset\n",
    "df.reset_index(drop=True, inplace=True)\n",
    "df.head()\n",
    "\n",
    "# Display the shape of the cleaned dataset\n",
    "print(df.shape)\n",
    "df.head()"
   ]
  },
  {
   "cell_type": "markdown",
   "id": "0321bf15-e79c-4233-b14b-d829742d0200",
   "metadata": {},
   "source": [
    "## Removing the emoji\n",
    "Removal of \"emoji\" Patterns: To catch all possible formats of the \"emoji\" strings."
   ]
  },
  {
   "cell_type": "code",
   "execution_count": 4,
   "id": "026b8d66-45be-42b0-9730-1366ee7c4c5f",
   "metadata": {},
   "outputs": [
    {
     "name": "stdout",
     "output_type": "stream",
     "text": [
      "                                                    text  labels\n",
      "0      <user> thanks for showing up for our appointme...       1\n",
      "1                                          haha .  # lol       1\n",
      "2      i love waiting <num> min for a cab - such shor...       1\n",
      "3      22 super funny quotes # funnyquotes  # funnysa...       1\n",
      "4                goog morning  # sorrynotsorry # morning       1\n",
      "...                                                  ...     ...\n",
      "19456                                 such a good read         0\n",
      "19457  this is some people 's living conditions , alw...       0\n",
      "19458  winner - seungyoon ( simple ) - rt if u save -...       0\n",
      "19459  ok but concept : kravitz passing notes between...       0\n",
      "19460                   life is good, you should get one       1\n",
      "\n",
      "[19461 rows x 2 columns]\n"
     ]
    }
   ],
   "source": [
    "import pandas as pd\n",
    "import re\n",
    "\n",
    "\n",
    "# Function to remove emoji followed by numbers\n",
    "def remove_emoji_followed_by_numbers(text):\n",
    "    return re.sub(r'emoji[_\\d]+', '', text)\n",
    "\n",
    "# Apply the function to the DataFrame column\n",
    "df['text'] = df['text'].apply(remove_emoji_followed_by_numbers)\n",
    "\n",
    "# Output the modified DataFrame\n",
    "print(df)"
   ]
  },
  {
   "cell_type": "markdown",
   "id": "63c52029-3d32-4be4-99ec-d4bffa7339ac",
   "metadata": {},
   "source": [
    "## Text preprocessing\n",
    "Text preprocessing includes converting text to lowercase, removing punctuation and special characters, tokenizing, and removing stopwords.\n",
    "\n"
   ]
  },
  {
   "cell_type": "code",
   "execution_count": 5,
   "id": "cf16fd1d-f45f-4dea-abd7-c86d6be5af5a",
   "metadata": {},
   "outputs": [
    {
     "name": "stdout",
     "output_type": "stream",
     "text": [
      "Index(['text', 'labels'], dtype='object')\n"
     ]
    }
   ],
   "source": [
    "print(df.columns)"
   ]
  },
  {
   "cell_type": "code",
   "execution_count": 6,
   "id": "a780f271-c0a2-47f8-a31e-b44667552e78",
   "metadata": {},
   "outputs": [
    {
     "name": "stderr",
     "output_type": "stream",
     "text": [
      "[nltk_data] Downloading package punkt to\n",
      "[nltk_data]     C:\\Users\\91636\\AppData\\Roaming\\nltk_data...\n",
      "[nltk_data]   Package punkt is already up-to-date!\n",
      "[nltk_data] Downloading package wordnet to\n",
      "[nltk_data]     C:\\Users\\91636\\AppData\\Roaming\\nltk_data...\n",
      "[nltk_data]   Package wordnet is already up-to-date!\n",
      "[nltk_data] Downloading package stopwords to\n",
      "[nltk_data]     C:\\Users\\91636\\AppData\\Roaming\\nltk_data...\n",
      "[nltk_data]   Package stopwords is already up-to-date!\n"
     ]
    },
    {
     "data": {
      "text/html": [
       "<div>\n",
       "<style scoped>\n",
       "    .dataframe tbody tr th:only-of-type {\n",
       "        vertical-align: middle;\n",
       "    }\n",
       "\n",
       "    .dataframe tbody tr th {\n",
       "        vertical-align: top;\n",
       "    }\n",
       "\n",
       "    .dataframe thead th {\n",
       "        text-align: right;\n",
       "    }\n",
       "</style>\n",
       "<table border=\"1\" class=\"dataframe\">\n",
       "  <thead>\n",
       "    <tr style=\"text-align: right;\">\n",
       "      <th></th>\n",
       "      <th>text</th>\n",
       "      <th>labels</th>\n",
       "      <th>cleaned_comment</th>\n",
       "    </tr>\n",
       "  </thead>\n",
       "  <tbody>\n",
       "    <tr>\n",
       "      <th>0</th>\n",
       "      <td>&lt;user&gt; thanks for showing up for our appointme...</td>\n",
       "      <td>1</td>\n",
       "      <td>user thanks showing appointment today</td>\n",
       "    </tr>\n",
       "    <tr>\n",
       "      <th>1</th>\n",
       "      <td>haha .  # lol</td>\n",
       "      <td>1</td>\n",
       "      <td>haha lol</td>\n",
       "    </tr>\n",
       "    <tr>\n",
       "      <th>2</th>\n",
       "      <td>i love waiting &lt;num&gt; min for a cab - such shor...</td>\n",
       "      <td>1</td>\n",
       "      <td>love waiting num min cab shortage user please ...</td>\n",
       "    </tr>\n",
       "    <tr>\n",
       "      <th>3</th>\n",
       "      <td>22 super funny quotes # funnyquotes  # funnysa...</td>\n",
       "      <td>1</td>\n",
       "      <td>22 super funny quote funnyquotes funnysayings ...</td>\n",
       "    </tr>\n",
       "    <tr>\n",
       "      <th>4</th>\n",
       "      <td>goog morning  # sorrynotsorry # morning</td>\n",
       "      <td>1</td>\n",
       "      <td>goog morning sorrynotsorry morning</td>\n",
       "    </tr>\n",
       "  </tbody>\n",
       "</table>\n",
       "</div>"
      ],
      "text/plain": [
       "                                                text  labels  \\\n",
       "0  <user> thanks for showing up for our appointme...       1   \n",
       "1                                      haha .  # lol       1   \n",
       "2  i love waiting <num> min for a cab - such shor...       1   \n",
       "3  22 super funny quotes # funnyquotes  # funnysa...       1   \n",
       "4            goog morning  # sorrynotsorry # morning       1   \n",
       "\n",
       "                                     cleaned_comment  \n",
       "0              user thanks showing appointment today  \n",
       "1                                           haha lol  \n",
       "2  love waiting num min cab shortage user please ...  \n",
       "3  22 super funny quote funnyquotes funnysayings ...  \n",
       "4                 goog morning sorrynotsorry morning  "
      ]
     },
     "execution_count": 6,
     "metadata": {},
     "output_type": "execute_result"
    }
   ],
   "source": [
    "import re\n",
    "import nltk\n",
    "from nltk.corpus import stopwords\n",
    "from nltk.tokenize import word_tokenize\n",
    "import string\n",
    "from sklearn.model_selection import train_test_split\n",
    "from sklearn.feature_extraction.text import TfidfVectorizer\n",
    "import nltk\n",
    "\n",
    "# Download NLTK data\n",
    "nltk.download('punkt')\n",
    "nltk.download('wordnet')\n",
    "nltk.download('stopwords')\n",
    "\n",
    "from nltk.tokenize import word_tokenize\n",
    "from nltk.corpus import stopwords\n",
    "from nltk.stem import WordNetLemmatizer\n",
    "\n",
    "# Initialize the lemmatizer\n",
    "lemmatizer = WordNetLemmatizer()\n",
    "# Function to preprocess text\n",
    "def preprocess_text(text):\n",
    "    # Convert to lowercase\n",
    "    text = text.lower()\n",
    "    # Remove punctuation and special characters\n",
    "    text = re.sub(r'[^a-zA-Z0-9\\s]', '', text)\n",
    "    # Tokenize the text\n",
    "    tokens = word_tokenize(text)\n",
    "    # Remove stopwords\n",
    "    stop_words = set(stopwords.words('english'))\n",
    "    tokens = [word for word in tokens if word not in stop_words]\n",
    "    # Lemmatize tokens\n",
    "    tokens = [lemmatizer.lemmatize(word) for word in tokens]\n",
    "    return ' '.join(tokens)\n",
    "    # Apply preprocessing to the comments\n",
    "df['cleaned_comment'] = df['text'].apply(preprocess_text)\n",
    "# Display the first few rows of the preprocessed dataset\n",
    "df.head()"
   ]
  },
  {
   "cell_type": "markdown",
   "id": "50e8fe4e-112f-43b8-9deb-3b912c27166a",
   "metadata": {},
   "source": [
    "## Data Visualization\n",
    "Visualize the distribution of the labels to understand the class balance in dataset. Represent data counts and percentage format for better understanding\n",
    "\n"
   ]
  },
  {
   "cell_type": "code",
   "execution_count": 7,
   "id": "86d9073c-78dd-431f-9084-7c01ec8a953a",
   "metadata": {},
   "outputs": [
    {
     "data": {
      "image/png": "[encoded data removed]",
      "text/plain": [
       "<Figure size 600x400 with 1 Axes>"
      ]
     },
     "metadata": {},
     "output_type": "display_data"
    },
    {
     "name": "stdout",
     "output_type": "stream",
     "text": [
      "labels\n",
      "0    11056\n",
      "1     8405\n",
      "Name: count, dtype: int64\n",
      "labels\n",
      "0    56.811058\n",
      "1    43.188942\n",
      "Name: count, dtype: float64\n"
     ]
    },
    {
     "data": {
      "image/png": "[encoded data removed]",
      "text/plain": [
       "<Figure size 600x600 with 1 Axes>"
      ]
     },
     "metadata": {},
     "output_type": "display_data"
    }
   ],
   "source": [
    "import matplotlib.pyplot as plt\n",
    "import seaborn as sns\n",
    "\n",
    "# Plot the distribution of labels in counts (Bar Chart)\n",
    "plt.figure(figsize=(6,4))\n",
    "sns.countplot(x='labels', data=df)\n",
    "plt.title('Distribution of Sarcasm Labels (Counts)')\n",
    "plt.xlabel('Label')\n",
    "plt.ylabel('Count')\n",
    "plt.show()\n",
    "\n",
    "# Display the value counts of the labels\n",
    "label_counts = df['labels'].value_counts()\n",
    "print(label_counts)\n",
    "\n",
    "# Calculate the percentage distribution of labels\n",
    "label_percentages = 100 * label_counts / len(df)\n",
    "print(label_percentages)\n",
    "\n",
    "# Plot the distribution of labels in percentages (Pie Chart)\n",
    "plt.figure(figsize=(6,6))\n",
    "plt.pie(label_percentages, labels=label_percentages.index, autopct='%1.1f%%', startangle=140)\n",
    "plt.title('Distribution of Sarcasm Labels (Percentages)')\n",
    "plt.axis('equal')  \n",
    "plt.show()\n"
   ]
  },
  {
   "cell_type": "markdown",
   "id": "c0e8e27d-ab2f-458d-8c4a-59f813c58f3b",
   "metadata": {},
   "source": [
    "## Final Preparation\n",
    "Prepare the data for input into a deep learning model by splitting the data into training and testing sets, tokenizing the sequences.\n",
    "\n"
   ]
  },
  {
   "cell_type": "code",
   "execution_count": 9,
   "id": "f4cd8e4b-8325-4fab-8fb1-e2ca281e3e43",
   "metadata": {},
   "outputs": [
    {
     "name": "stdout",
     "output_type": "stream",
     "text": [
      "Training data shape: (15568, 29)\n",
      "Testing data shape: (3893, 29)\n"
     ]
    },
    {
     "data": {
      "text/html": [
       "<div>\n",
       "<style scoped>\n",
       "    .dataframe tbody tr th:only-of-type {\n",
       "        vertical-align: middle;\n",
       "    }\n",
       "\n",
       "    .dataframe tbody tr th {\n",
       "        vertical-align: top;\n",
       "    }\n",
       "\n",
       "    .dataframe thead th {\n",
       "        text-align: right;\n",
       "    }\n",
       "</style>\n",
       "<table border=\"1\" class=\"dataframe\">\n",
       "  <thead>\n",
       "    <tr style=\"text-align: right;\">\n",
       "      <th></th>\n",
       "      <th>text</th>\n",
       "      <th>labels</th>\n",
       "      <th>cleaned_comment</th>\n",
       "    </tr>\n",
       "  </thead>\n",
       "  <tbody>\n",
       "    <tr>\n",
       "      <th>0</th>\n",
       "      <td>&lt;user&gt; thanks for showing up for our appointme...</td>\n",
       "      <td>1</td>\n",
       "      <td>user thanks showing appointment today</td>\n",
       "    </tr>\n",
       "    <tr>\n",
       "      <th>1</th>\n",
       "      <td>haha .  # lol</td>\n",
       "      <td>1</td>\n",
       "      <td>haha lol</td>\n",
       "    </tr>\n",
       "    <tr>\n",
       "      <th>2</th>\n",
       "      <td>i love waiting &lt;num&gt; min for a cab - such shor...</td>\n",
       "      <td>1</td>\n",
       "      <td>love waiting num min cab shortage user please ...</td>\n",
       "    </tr>\n",
       "    <tr>\n",
       "      <th>3</th>\n",
       "      <td>22 super funny quotes # funnyquotes  # funnysa...</td>\n",
       "      <td>1</td>\n",
       "      <td>22 super funny quote funnyquotes funnysayings ...</td>\n",
       "    </tr>\n",
       "    <tr>\n",
       "      <th>4</th>\n",
       "      <td>goog morning  # sorrynotsorry # morning</td>\n",
       "      <td>1</td>\n",
       "      <td>goog morning sorrynotsorry morning</td>\n",
       "    </tr>\n",
       "    <tr>\n",
       "      <th>...</th>\n",
       "      <td>...</td>\n",
       "      <td>...</td>\n",
       "      <td>...</td>\n",
       "    </tr>\n",
       "    <tr>\n",
       "      <th>19456</th>\n",
       "      <td>such a good read</td>\n",
       "      <td>0</td>\n",
       "      <td>good read</td>\n",
       "    </tr>\n",
       "    <tr>\n",
       "      <th>19457</th>\n",
       "      <td>this is some people 's living conditions , alw...</td>\n",
       "      <td>0</td>\n",
       "      <td>people living condition always remember blesse...</td>\n",
       "    </tr>\n",
       "    <tr>\n",
       "      <th>19458</th>\n",
       "      <td>winner - seungyoon ( simple ) - rt if u save -...</td>\n",
       "      <td>0</td>\n",
       "      <td>winner seungyoon simple rt u save repost edit ...</td>\n",
       "    </tr>\n",
       "    <tr>\n",
       "      <th>19459</th>\n",
       "      <td>ok but concept : kravitz passing notes between...</td>\n",
       "      <td>0</td>\n",
       "      <td>ok concept kravitz passing note magnus julia p...</td>\n",
       "    </tr>\n",
       "    <tr>\n",
       "      <th>19460</th>\n",
       "      <td>life is good, you should get one</td>\n",
       "      <td>1</td>\n",
       "      <td>life good get one</td>\n",
       "    </tr>\n",
       "  </tbody>\n",
       "</table>\n",
       "<p>19461 rows × 3 columns</p>\n",
       "</div>"
      ],
      "text/plain": [
       "                                                    text  labels  \\\n",
       "0      <user> thanks for showing up for our appointme...       1   \n",
       "1                                          haha .  # lol       1   \n",
       "2      i love waiting <num> min for a cab - such shor...       1   \n",
       "3      22 super funny quotes # funnyquotes  # funnysa...       1   \n",
       "4                goog morning  # sorrynotsorry # morning       1   \n",
       "...                                                  ...     ...   \n",
       "19456                                 such a good read         0   \n",
       "19457  this is some people 's living conditions , alw...       0   \n",
       "19458  winner - seungyoon ( simple ) - rt if u save -...       0   \n",
       "19459  ok but concept : kravitz passing notes between...       0   \n",
       "19460                   life is good, you should get one       1   \n",
       "\n",
       "                                         cleaned_comment  \n",
       "0                  user thanks showing appointment today  \n",
       "1                                               haha lol  \n",
       "2      love waiting num min cab shortage user please ...  \n",
       "3      22 super funny quote funnyquotes funnysayings ...  \n",
       "4                     goog morning sorrynotsorry morning  \n",
       "...                                                  ...  \n",
       "19456                                          good read  \n",
       "19457  people living condition always remember blesse...  \n",
       "19458  winner seungyoon simple rt u save repost edit ...  \n",
       "19459  ok concept kravitz passing note magnus julia p...  \n",
       "19460                                  life good get one  \n",
       "\n",
       "[19461 rows x 3 columns]"
      ]
     },
     "metadata": {},
     "output_type": "display_data"
    }
   ],
   "source": [
    "from sklearn.model_selection import train_test_split\n",
    "from tensorflow.keras.preprocessing.text import Tokenizer\n",
    "from tensorflow.keras.preprocessing.sequence import pad_sequences\n",
    "\n",
    "# Split the data into training and testing sets\n",
    "X = df['cleaned_comment']\n",
    "y = df['labels']\n",
    "X_train, X_test, y_train, y_test = train_test_split(X, y, test_size=0.2, random_state=42)\n",
    "\n",
    "# Tokenize the text data\n",
    "tokenizer = Tokenizer()\n",
    "tokenizer.fit_on_texts(X_train)\n",
    "X_train_seq = tokenizer.texts_to_sequences(X_train)\n",
    "X_test_seq = tokenizer.texts_to_sequences(X_test)\n",
    "\n",
    "# Pad the sequences\n",
    "max_len = max(len(seq) for seq in X_train_seq)\n",
    "X_train_pad = pad_sequences(X_train_seq, maxlen=max_len, padding='post')\n",
    "X_test_pad = pad_sequences(X_test_seq, maxlen=max_len, padding='post')\n",
    "\n",
    "# Display the shape of the padded data\n",
    "print(f'Training data shape: {X_train_pad.shape}')\n",
    "print(f'Testing data shape: {X_test_pad.shape}')\n",
    "\n",
    "\n",
    "display(df)\n",
    "\n",
    "# df.to_csv('processed_data2.csv', index=False)"
   ]
  },
  {
   "cell_type": "markdown",
   "id": "f55ec7b0-3b69-4a99-b88e-7343f2d68df6",
   "metadata": {},
   "source": [
    "## Data Encoding\n",
    "\n",
    "**TF-IDF Encoding**\n",
    "\r\n",
    "TF-IDF encoding combines Term Frequency (TF) with Inverse Document Frequency (IDF), which measures how unique or rare a term is across a collection of documents. This technique helps in highlighting words that are important to specific documents while down-weighting common terms that appear frequently across many documents. It balances the term's local importance with its global significance, making it a robust method for text representation in natural language processing\n",
    "\n",
    "so, in data encoding section i used TF-IDF encoding techning which is more relevent on youtube comments dataset to encode text format                              ate"
   ]
  },
  {
   "cell_type": "code",
   "execution_count": 11,
   "id": "892edfae-1623-4e61-8cea-ad9851e7c076",
   "metadata": {},
   "outputs": [],
   "source": [
    "import pandas as pd\n",
    "import re\n",
    "import nltk\n",
    "from nltk.corpus import stopwords\n",
    "from nltk.tokenize import word_tokenize\n",
    "from sklearn.feature_extraction.text import TfidfVectorizer, CountVectorizer\n",
    "import numpy as np\n",
    "import matplotlib.pyplot as plt\n",
    "import seaborn as sns"
   ]
  },
  {
   "cell_type": "code",
   "execution_count": 27,
   "id": "88e4a085-4cc2-421f-b0a1-36eca12a1288",
   "metadata": {},
   "outputs": [],
   "source": [
    "#load the pre-processed dataset\n",
    "file_path = 'processed_data2.csv' "
   ]
  },
  {
   "cell_type": "code",
   "execution_count": 23,
   "id": "464c24e9-572e-4f38-a272-bfc2c42e04a8",
   "metadata": {},
   "outputs": [
    {
     "name": "stdout",
     "output_type": "stream",
     "text": [
      "TF-IDF Encoding Results:\n",
      "Test Accuracy: 73.54%\n",
      "Classification Report:\n",
      "              precision    recall  f1-score   support\n",
      "\n",
      "           0       0.73      0.83      0.78      2182\n",
      "           1       0.74      0.62      0.67      1711\n",
      "\n",
      "    accuracy                           0.74      3893\n",
      "   macro avg       0.74      0.72      0.73      3893\n",
      "weighted avg       0.74      0.74      0.73      3893\n",
      "\n",
      "Confusion Matrix:\n",
      "[[1807  375]\n",
      " [ 655 1056]]\n"
     ]
    }
   ],
   "source": [
    "from sklearn.feature_extraction.text import TfidfVectorizer\n",
    "from sklearn.ensemble import RandomForestClassifier\n",
    "from sklearn.metrics import accuracy_score, classification_report, confusion_matrix\n",
    "from sklearn.model_selection import train_test_split\n",
    "\n",
    "# Split data for TF-IDF encoding\n",
    "X_train_text, X_test_text, y_train, y_test = train_test_split(df['cleaned_comment'], df['labels'], test_size=0.2, random_state=42)\n",
    "\n",
    "# TF-IDF Encoding\n",
    "vectorizer_tfidf = TfidfVectorizer(max_features=5000)\n",
    "X_train_tfidf = vectorizer_tfidf.fit_transform(X_train_text)\n",
    "X_test_tfidf = vectorizer_tfidf.transform(X_test_text)\n",
    "\n",
    "# Define and train the Random Forest classifier for TF-IDF\n",
    "def train_rf(X_train, X_test, y_train, y_test):\n",
    "    rf_classifier = RandomForestClassifier(n_estimators=100, random_state=42)\n",
    "    rf_classifier.fit(X_train, y_train)\n",
    "    y_pred = rf_classifier.predict(X_test)\n",
    "    accuracy = accuracy_score(y_test, y_pred)\n",
    "    print(f'Test Accuracy: {accuracy * 100:.2f}%')\n",
    "    print('Classification Report:')\n",
    "    print(classification_report(y_test, y_pred))\n",
    "    print('Confusion Matrix:')\n",
    "    print(confusion_matrix(y_test, y_pred))\n",
    "\n",
    "# TF-IDF Encoding Results\n",
    "print(\"TF-IDF Encoding Results:\")\n",
    "train_rf(X_train_tfidf, X_test_tfidf, y_train, y_test)"
   ]
  },
  {
   "cell_type": "code",
   "execution_count": 25,
   "id": "66c0a59d-6cf3-4a69-b916-71c0b1e188f1",
   "metadata": {},
   "outputs": [
    {
     "name": "stdout",
     "output_type": "stream",
     "text": [
      "Training and testing sets prepared.\n",
      "TF-IDF Encoded shape: (15568, 5000)\n"
     ]
    }
   ],
   "source": [
    "print(\"Training and testing sets prepared.\")\n",
    "print(\"TF-IDF Encoded shape:\", X_train_tfidf.shape)"
   ]
  },
  {
   "cell_type": "markdown",
   "id": "d2b7f886-e68c-4859-956f-76de85fbc774",
   "metadata": {},
   "source": [
    "## Handling Imbalanced Data\n",
    "To address the issue of imbalanced datasets, we use a combination of oversampling, class weight adjustment, and appropriate evaluation metrics.\n",
    "\n",
    "Oversampling: We use SMOTE to balance class distribution by generating synthetic samples for the minority class.\n",
    "Class Weight Adjustment: We adjust model class weights to penalize misclassifications of the minority class more heavily.\n",
    "Evaluation Metrics: Precision, Recall, F1-Score, and AUC-ROC are used instead of accuracy to better evaluate model performance."
   ]
  },
  {
   "cell_type": "code",
   "execution_count": 29,
   "id": "b5e9bae2-5c83-4253-9a51-eda17d756dc4",
   "metadata": {},
   "outputs": [
    {
     "name": "stdout",
     "output_type": "stream",
     "text": [
      "<class 'pandas.core.frame.DataFrame'>\n",
      "RangeIndex: 19461 entries, 0 to 19460\n",
      "Data columns (total 3 columns):\n",
      " #   Column           Non-Null Count  Dtype \n",
      "---  ------           --------------  ----- \n",
      " 0   text             19461 non-null  object\n",
      " 1   labels           19461 non-null  int64 \n",
      " 2   cleaned_comment  19461 non-null  object\n",
      "dtypes: int64(1), object(2)\n",
      "memory usage: 456.2+ KB\n",
      "                                                text  labels  \\\n",
      "0  good mawnin ' phoebe l . erfe # teamdtbysasinu...       0   \n",
      "1                      thank you <user> ! i love it        0   \n",
      "2  programming languages are just tools . learn c...       1   \n",
      "3                           haha . # fitfam # life         1   \n",
      "4  # michelleobamalegacy # fakenews # cnn airs sp...       0   \n",
      "\n",
      "                                     cleaned_comment  \n",
      "0        good mawnin phoebe l erfe teamdtbysasinulog  \n",
      "1                                    thank user love  \n",
      "2  programming language tool learn concept analyt...  \n",
      "3                                   haha fitfam life  \n",
      "4  michelleobamalegacy fakenews cnn air special l...  \n",
      "labels\n",
      "0    0.568111\n",
      "1    0.431889\n",
      "Name: proportion, dtype: float64\n"
     ]
    },
    {
     "data": {
      "image/png": "[encoded data removed]",
      "text/plain": [
       "<Figure size 640x480 with 1 Axes>"
      ]
     },
     "metadata": {},
     "output_type": "display_data"
    },
    {
     "data": {
      "image/png": "[encoded data removed]",
      "text/plain": [
       "<Figure size 640x480 with 1 Axes>"
      ]
     },
     "metadata": {},
     "output_type": "display_data"
    }
   ],
   "source": [
    "import pandas as pd\n",
    "import matplotlib.pyplot as plt\n",
    "from sklearn.utils import resample\n",
    "from imblearn.over_sampling import SMOTE\n",
    "from sklearn.feature_extraction.text import TfidfVectorizer\n",
    "from scipy.sparse import vstack\n",
    "import numpy as np\n",
    "\n",
    "# Display basic info about the dataset\n",
    "df.info()\n",
    "print(df.head())\n",
    "\n",
    "# Examine class distribution\n",
    "label_counts = df['labels'].value_counts(normalize=True)\n",
    "print(label_counts)\n",
    "\n",
    "# Plot class distribution as a pie chart\n",
    "label_counts.plot.pie(autopct=lambda pct: f'{pct:.1f}% ({int(pct * len(df) / 100)})', colors=['blue', 'red'], startangle=90, counterclock=False)\n",
    "plt.title('Class Distribution')\n",
    "plt.ylabel('')\n",
    "plt.show()\n",
    "\n",
    "# Handle missing values in 'cleaned_comment' column\n",
    "df['cleaned_comment'] = df['cleaned_comment'].fillna('')\n",
    "\n",
    "# Separate features and labels\n",
    "features = df['cleaned_comment']\n",
    "labels = df['labels']\n",
    "\n",
    "# Shuffle the data to ensure each chunk gets a mix of classes\n",
    "df = df.sample(frac=1, random_state=42).reset_index(drop=True)\n",
    "features = df['cleaned_comment']\n",
    "labels = df['labels']\n",
    "\n",
    "# Vectorize the text data using TF-IDF\n",
    "tfidf = TfidfVectorizer()\n",
    "features_vectorized = tfidf.fit_transform(features)\n",
    "\n",
    "# Function to generate data chunks\n",
    "def chunk_data(data, target, size):\n",
    "    for start in range(0, data.shape[0], size):\n",
    "        yield data[start:start + size], target[start:start + size]\n",
    "\n",
    "# Define chunk size based on available memory\n",
    "chunk_size = 1000  # Adjust according to your system's memory capacity\n",
    "\n",
    "smote = SMOTE(random_state=42)\n",
    "features_resampled_list = []\n",
    "labels_resampled_list = []\n",
    "\n",
    "for X_chunk, y_chunk in chunk_data(features_vectorized, labels, chunk_size):\n",
    "    # Ensure X_chunk and y_chunk have the same number of samples\n",
    "    if X_chunk.shape[0] != y_chunk.shape[0]:\n",
    "        raise ValueError(f\"Mismatch in number of samples: {X_chunk.shape[0]} in X_chunk, {y_chunk.shape[0]} in y_chunk\")\n",
    "\n",
    "    # Check if chunk contains more than one class\n",
    "    if len(np.unique(y_chunk)) > 1:\n",
    "        X_res, y_res = smote.fit_resample(X_chunk, y_chunk)\n",
    "        features_resampled_list.append(X_res)\n",
    "        labels_resampled_list.append(y_res)\n",
    "\n",
    "# Combine all chunks back together\n",
    "features_resampled = vstack(features_resampled_list)\n",
    "labels_resampled = np.hstack(labels_resampled_list)\n",
    "\n",
    "# Visualize the resampled class distribution\n",
    "resampled_counts = pd.Series(labels_resampled).value_counts(normalize=True)\n",
    "resampled_counts.plot.pie(autopct='%1.1f%%', startangle=90, title='Resampled Class Distribution')\n",
    "plt.ylabel('')\n",
    "plt.show()\n"
   ]
  },
  {
   "cell_type": "markdown",
   "id": "68342b50-f1e1-4f26-93b4-b157aa334fcb",
   "metadata": {},
   "source": [
    "## Evaluating the SVM Machine learning model"
   ]
  },
  {
   "cell_type": "code",
   "execution_count": 31,
   "id": "09d0131a-4f35-47d7-8694-8ffecdb6d8ef",
   "metadata": {},
   "outputs": [
    {
     "name": "stdout",
     "output_type": "stream",
     "text": [
      "                                                text  labels  \\\n",
      "0  without russia 's influence campaign trump wou...       0   \n",
      "1  yy598best1 sliding around auto headshotting in...       1   \n",
      "2                            i 'd never wanna leave        0   \n",
      "3  saturday night conversations with april . # ma...       1   \n",
      "4  you don 't know how excited i am to have louis...       1   \n",
      "\n",
      "                                     cleaned_comment  \n",
      "0  without russia influence campaign trump would ...  \n",
      "1  yy598best1 sliding around auto headshotting pu...  \n",
      "2                                 never wan na leave  \n",
      "3  saturday night conversation april marriedlife ...  \n",
      "4            know excited louis promo revolve around  \n",
      "Sample Text Data: 0    without russia influence campaign trump would ...\n",
      "1    yy598best1 sliding around auto headshotting pu...\n",
      "2                                   never wan na leave\n",
      "3    saturday night conversation april marriedlife ...\n",
      "4              know excited louis promo revolve around\n",
      "Name: cleaned_comment, dtype: object\n"
     ]
    }
   ],
   "source": [
    "import pandas as pd\n",
    "from sklearn.feature_extraction.text import TfidfVectorizer\n",
    "from sklearn.model_selection import train_test_split\n",
    "import matplotlib.pyplot as plt\n",
    "\n",
    "## Display basic info about the dataset\n",
    "#df.info()\n",
    "print(df.head())\n",
    "\n",
    "# Display a sample of the text data\n",
    "print(\"Sample Text Data:\", df['cleaned_comment'].head())"
   ]
  },
  {
   "cell_type": "markdown",
   "id": "cb296268-02ad-4e74-a358-4632705a8d2c",
   "metadata": {},
   "source": [
    "## Class Distribution\n",
    "It analyzes the distribution of different classes (or labels) in the dataset. It calculates the percentage of each class and visualizes it using a pie chart.\n",
    "\n",
    "Calculating Class Distribution: counts each label appears in the 'labels' column of the dataframe df and calculates the percentage.\n",
    "\n",
    "Plotting as Pie Chart: creates a pie chart where each slice represents a class, showing its percentage and count."
   ]
  },
  {
   "cell_type": "code",
   "execution_count": 32,
   "id": "0ed0c395-a172-4b45-890a-f2f68f1be432",
   "metadata": {},
   "outputs": [
    {
     "name": "stdout",
     "output_type": "stream",
     "text": [
      "labels\n",
      "0    0.568111\n",
      "1    0.431889\n",
      "Name: proportion, dtype: float64\n"
     ]
    },
    {
     "data": {
      "image/png": "[encoded data removed]",
      "text/plain": [
       "<Figure size 640x480 with 1 Axes>"
      ]
     },
     "metadata": {},
     "output_type": "display_data"
    }
   ],
   "source": [
    "# Examine class distribution\n",
    "label_counts = df['labels'].value_counts(normalize=True)\n",
    "print(label_counts)\n",
    "\n",
    "# Plot class distribution as a pie chart\n",
    "label_counts.plot.pie(autopct=lambda pct: f'{pct:.1f}% ({int(pct * len(df) / 100)})', colors=['blue', 'red'], startangle=90, counterclock=False)\n",
    "plt.title('Class Distribution')\n",
    "plt.ylabel('')\n",
    "plt.show()\n"
   ]
  },
  {
   "cell_type": "markdown",
   "id": "48eb114d-0554-4ec4-9edd-a267798ced9e",
   "metadata": {},
   "source": [
    "## Vectorize Text Data\n",
    "It prepares textual data for machine learning models by converting it into numerical form using TF-IDF (Term Frequency-Inverse Document Frequency).\n",
    "\n",
    "Handling Missing Values: fillna('') fills any missing comments with an empty string.\n",
    "\n",
    "Vectorization: I used the TF-IDF vectorizer. features_vectorized = tfidf.fit_transform(features) transforms the 'cleaned_comment' text data into a numerical matrix using TF-IDF.\n",
    "\n",
    "DataFrame Creation:\n",
    "\n",
    "features_df = pd.DataFrame(features_vectorized.toarray(), columns=tfidf.get_feature_names_out()) converts the TF-IDF matrix into a pandas DataFramores:\n",
    "\n",
    "get_significant_tfidf_scores() is a function that identifies terms with high TF-IDF scores, indicating their importance in distinguishing classes. A sample of features_df is taken (sample_df) and significant TF-IDF scores are computed and added as significant_tfidf column.\n",
    "\n"
   ]
  },
  {
   "cell_type": "code",
   "execution_count": 33,
   "id": "99bc9040-d43d-41f0-bfe3-32618daf8a3d",
   "metadata": {},
   "outputs": [
    {
     "name": "stderr",
     "output_type": "stream",
     "text": [
      "C:\\Users\\91636\\AppData\\Local\\Temp\\ipykernel_8152\\762510879.py:22: FutureWarning: Series.__getitem__ treating keys as positions is deprecated. In a future version, integer keys will always be treated as labels (consistent with DataFrame behavior). To access a value by position, use `ser.iloc[pos]`\n",
      "  significant_terms = {terms[i]: row[i] for i in range(len(row)) if row[i] > threshold}\n"
     ]
    },
    {
     "name": "stdout",
     "output_type": "stream",
     "text": [
      "Sample DataFrame with Original Comments and Significant TF-IDF Scores:\n",
      "                                        original_comment  label  \\\n",
      "9516  issa conceptual hair shoot celebrating diverse...      0   \n",
      "9546  league champ everysingleperson mattered segvt2017      0   \n",
      "6118   mean kateupton sister stop fail funny sexyblonde      1   \n",
      "7897  best tshirt campaign season rock say president...      0   \n",
      "1157  louis named user one influential people britai...      0   \n",
      "\n",
      "                                      significant_tfidf  \n",
      "9516  {'beauty': 0.24297921924398336, 'black': 0.220...  \n",
      "9546  {'champ': 0.39685888212360765, 'everysingleper...  \n",
      "6118  {'fail': 0.34314728608840017, 'funny': 0.22609...  \n",
      "7897  {'best': 0.2529531502736649, 'campaign': 0.385...  \n",
      "1157  {'britain': 0.4528251299053395, 'influential':...  \n"
     ]
    }
   ],
   "source": [
    "# Replace NaNs with an empty string\n",
    "df['cleaned_comment'] = df['cleaned_comment'].fillna('')\n",
    "\n",
    "# Separate features and labels\n",
    "features = df['cleaned_comment']\n",
    "labels = df['labels']\n",
    "\n",
    "# Vectorize the text data using TF-IDF\n",
    "tfidf = TfidfVectorizer()\n",
    "features_vectorized = tfidf.fit_transform(features)\n",
    "\n",
    "# Convert the vectorized data to a DataFrame\n",
    "features_df = pd.DataFrame(features_vectorized.toarray(), columns=tfidf.get_feature_names_out())\n",
    "\n",
    "# Add the original comments and labels to the DataFrame\n",
    "features_df['original_comment'] = features.values\n",
    "features_df['label'] = labels.values\n",
    "\n",
    "# Function to get significant TF-IDF scores\n",
    "def get_significant_tfidf_scores(row, terms, threshold=0.1):\n",
    "    \"\"\" Get terms with TF-IDF scores above the threshold. \"\"\"\n",
    "    significant_terms = {terms[i]: row[i] for i in range(len(row)) if row[i] > threshold}\n",
    "    return significant_terms\n",
    "\n",
    "# Display a sample of the combined data with significant TF-IDF scores\n",
    "sample_df = features_df.sample(5)  # Sample 5 random rows\n",
    "\n",
    "# Add significant TF-IDF scores to the sample data\n",
    "sample_df['significant_tfidf'] = sample_df.drop(columns=['original_comment', 'label']).apply(\n",
    "    lambda row: get_significant_tfidf_scores(row, tfidf.get_feature_names_out()), axis=1\n",
    ")\n",
    "\n",
    "# Select only the relevant columns to display\n",
    "display_df = sample_df[['original_comment', 'label', 'significant_tfidf']]\n",
    "\n",
    "print(\"Sample DataFrame with Original Comments and Significant TF-IDF Scores:\\n\", display_df)\n"
   ]
  },
  {
   "cell_type": "markdown",
   "id": "2e0697ed-bc7c-427e-8173-4a915e14dbb7",
   "metadata": {},
   "source": [
    "### Split Data into Training and Testing Sets\n",
    "To divide the dataset into training and testing subsets for evaluating machine learning models."
   ]
  },
  {
   "cell_type": "code",
   "execution_count": 35,
   "id": "c665a9f5-6a06-4007-bf15-1fe739d0916f",
   "metadata": {},
   "outputs": [
    {
     "name": "stdout",
     "output_type": "stream",
     "text": [
      "Training data shape: (15568, 27748), Training labels shape: (15568,)\n",
      "Testing data shape: (3893, 27748), Testing labels shape: (3893,)\n"
     ]
    }
   ],
   "source": [
    "from sklearn.model_selection import train_test_split\n",
    "\n",
    "# Split the data into training and testing sets\n",
    "X_train, X_test, y_train, y_test = train_test_split(features_vectorized, labels, test_size=0.2, random_state=42)\n",
    "\n",
    "# Display the shape of the resulting datasets\n",
    "print(f\"Training data shape: {X_train.shape}, Training labels shape: {y_train.shape}\")\n",
    "print(f\"Testing data shape: {X_test.shape}, Testing labels shape: {y_test.shape}\")\n"
   ]
  },
  {
   "cell_type": "markdown",
   "id": "da2aeb14-2418-477a-b27b-34f83d8ff7c4",
   "metadata": {},
   "source": [
    "### Support Vector Machine (SVM)\n",
    "To train a support vector machine (SVM) classifier using the training data and evaluate its performance.\n",
    "\n",
    "SVC() initializes an SVM classifier. svm_clf.fit(X_train, y_train) trains the SVM model. svm_clf.predict(X_test) predicts labels for the test data. Evaluation metrics (classification_report and accuracy_score) assess the model's performance."
   ]
  },
  {
   "cell_type": "code",
   "execution_count": 36,
   "id": "c7f07960-3d54-4529-b682-0ee15cf6eb9b",
   "metadata": {},
   "outputs": [
    {
     "name": "stdout",
     "output_type": "stream",
     "text": [
      "SVM Classification Report:\n",
      "               precision    recall  f1-score   support\n",
      "\n",
      "           0       0.75      0.89      0.82      2216\n",
      "           1       0.81      0.61      0.70      1677\n",
      "\n",
      "    accuracy                           0.77      3893\n",
      "   macro avg       0.78      0.75      0.76      3893\n",
      "weighted avg       0.78      0.77      0.76      3893\n",
      "\n",
      "SVM Accuracy: 0.7698433085024403\n"
     ]
    }
   ],
   "source": [
    "from sklearn.svm import SVC\n",
    "\n",
    "# Train SVM model\n",
    "svm_clf = SVC()\n",
    "svm_clf.fit(X_train, y_train)\n",
    "\n",
    "# Predict on the test set\n",
    "y_pred_svm = svm_clf.predict(X_test)\n",
    "\n",
    "# Evaluate the model\n",
    "print(\"SVM Classification Report:\\n\", classification_report(y_test, y_pred_svm))\n",
    "print(\"SVM Accuracy:\", accuracy_score(y_test, y_pred_svm))"
   ]
  },
  {
   "cell_type": "code",
   "execution_count": 37,
   "id": "4a5c1ba2-1920-4758-8dd1-4e91943f8cc2",
   "metadata": {},
   "outputs": [
    {
     "name": "stdout",
     "output_type": "stream",
     "text": [
      "SVM Accuracy: 76.98%\n"
     ]
    }
   ],
   "source": [
    "accuracy_percentage = accuracy_score(y_test, y_pred_svm) * 100\n",
    "print(f\"SVM Accuracy: {accuracy_percentage:.2f}%\")"
   ]
  },
  {
   "cell_type": "markdown",
   "id": "f06342f3-ed9c-46c8-be8c-39ca490719a9",
   "metadata": {},
   "source": [
    "## Hyperparameter Tuning of SVM\n",
    "\n",
    "Grid SearchCV: Searches for the best hyperparameters (C and kernel for SVM) using cross-validation.\n",
    "param_grid: Specifies the hyperparameter combinations to explore.\n",
    "refit=True: Refits the model with the best parameters on the entire training set.\n",
    "verbose=2: Provides detailed output about the grid search process.\n",
    "grid_search.best_params_: Displays the optimal hyperparameters found.\n",
    "grid_search.best_score_: Shows the best cross-validation accuracy achieved with the optimal hyperparameters."
   ]
  },
  {
   "cell_type": "code",
   "execution_count": 38,
   "id": "58d85f61-1e87-4e80-ba0d-d18c2523b982",
   "metadata": {},
   "outputs": [
    {
     "name": "stdout",
     "output_type": "stream",
     "text": [
      "Fitting 5 folds for each of 8 candidates, totalling 40 fits\n",
      "[CV] END ...............................C=0.1, kernel=linear; total time=  12.3s\n",
      "[CV] END ...............................C=0.1, kernel=linear; total time=  10.6s\n",
      "[CV] END ...............................C=0.1, kernel=linear; total time=  10.6s\n",
      "[CV] END ...............................C=0.1, kernel=linear; total time=  10.3s\n",
      "[CV] END ...............................C=0.1, kernel=linear; total time=  10.9s\n",
      "[CV] END ..................................C=0.1, kernel=rbf; total time=  12.8s\n",
      "[CV] END ..................................C=0.1, kernel=rbf; total time=  12.6s\n",
      "[CV] END ..................................C=0.1, kernel=rbf; total time=  12.4s\n",
      "[CV] END ..................................C=0.1, kernel=rbf; total time=  12.3s\n",
      "[CV] END ..................................C=0.1, kernel=rbf; total time=  12.3s\n",
      "[CV] END .................................C=1, kernel=linear; total time=   8.6s\n",
      "[CV] END .................................C=1, kernel=linear; total time=   9.1s\n",
      "[CV] END .................................C=1, kernel=linear; total time=   8.3s\n",
      "[CV] END .................................C=1, kernel=linear; total time=   8.1s\n",
      "[CV] END .................................C=1, kernel=linear; total time=   8.3s\n",
      "[CV] END ....................................C=1, kernel=rbf; total time=  17.9s\n",
      "[CV] END ....................................C=1, kernel=rbf; total time=  17.7s\n",
      "[CV] END ....................................C=1, kernel=rbf; total time=  17.9s\n",
      "[CV] END ....................................C=1, kernel=rbf; total time=  17.7s\n",
      "[CV] END ....................................C=1, kernel=rbf; total time=  17.7s\n",
      "[CV] END ................................C=10, kernel=linear; total time=  18.7s\n",
      "[CV] END ................................C=10, kernel=linear; total time=  19.6s\n",
      "[CV] END ................................C=10, kernel=linear; total time=  19.8s\n",
      "[CV] END ................................C=10, kernel=linear; total time=  19.0s\n",
      "[CV] END ................................C=10, kernel=linear; total time=  19.0s\n",
      "[CV] END ...................................C=10, kernel=rbf; total time=  27.1s\n",
      "[CV] END ...................................C=10, kernel=rbf; total time=  28.8s\n",
      "[CV] END ...................................C=10, kernel=rbf; total time=  27.7s\n",
      "[CV] END ...................................C=10, kernel=rbf; total time=  27.3s\n",
      "[CV] END ...................................C=10, kernel=rbf; total time=  27.5s\n",
      "[CV] END ...............................C=100, kernel=linear; total time=  24.1s\n",
      "[CV] END ...............................C=100, kernel=linear; total time=  33.2s\n",
      "[CV] END ...............................C=100, kernel=linear; total time=  31.0s\n",
      "[CV] END ...............................C=100, kernel=linear; total time=  28.8s\n",
      "[CV] END ...............................C=100, kernel=linear; total time=  26.9s\n",
      "[CV] END ..................................C=100, kernel=rbf; total time=  27.6s\n",
      "[CV] END ..................................C=100, kernel=rbf; total time=  27.6s\n",
      "[CV] END ..................................C=100, kernel=rbf; total time=  27.7s\n",
      "[CV] END ..................................C=100, kernel=rbf; total time=  27.9s\n",
      "[CV] END ..................................C=100, kernel=rbf; total time=  27.5s\n",
      "Best Parameters:\n",
      "{'C': 10, 'kernel': 'rbf'}\n",
      "Best Score:\n",
      "0.7666367508909226\n"
     ]
    }
   ],
   "source": [
    "from sklearn.model_selection import GridSearchCV\n",
    "\n",
    "# Define the parameter grid\n",
    "param_grid = {'C': [0.1, 1, 10, 100], 'kernel': ['linear', 'rbf']}\n",
    "\n",
    "# Perform Grid Search\n",
    "grid_search = GridSearchCV(SVC(), param_grid, refit=True, verbose=2)\n",
    "grid_search.fit(X_train, y_train)\n",
    "\n",
    "# Get the best parameters and best score\n",
    "print(\"Best Parameters:\")\n",
    "print(grid_search.best_params_)\n",
    "\n",
    "print(\"Best Score:\")\n",
    "print(grid_search.best_score_)"
   ]
  },
  {
   "cell_type": "markdown",
   "id": "0b9b1fe4-e339-4cc7-9e89-04fbbf47ef4c",
   "metadata": {},
   "source": [
    "# Summary\n",
    "\n",
    "## Data Loading and Preprocessing\n",
    "- Loaded the dataset and displayed basic information.\n",
    "- Checked for missing values and filled if necessary.\n",
    "- Encoded the labels.\n",
    "\n",
    "## Handling Imbalanced Data\n",
    "- Used SMOTE to handle imbalanced data.\n",
    "- Visualized the class distribution before and after resampling.\n",
    "\n",
    "## Training and Evaluating the SVM Model\n",
    "- Trained an SVM model using the linear kernel.\n",
    "- Evaluated the model using classification report, confusion matrix, and accuracy score.\n",
    "\n",
    "## Hyperparameter Tuning of SVM\n",
    "- Performed Grid Search to find the best hyperparameters.\n",
    "- Displayed the best parameters and the best score."
   ]
  },
  {
   "cell_type": "code",
   "execution_count": null,
   "id": "e909bde3-135f-4cc5-b0d2-89dd909ad572",
   "metadata": {},
   "outputs": [],
   "source": []
  }
 ],
 "metadata": {
  "kernelspec": {
   "display_name": "Python 3 (ipykernel)",
   "language": "python",
   "name": "python3"
  },
  "language_info": {
   "codemirror_mode": {
    "name": "ipython",
    "version": 3
   },
   "file_extension": ".py",
   "mimetype": "text/x-python",
   "name": "python",
   "nbconvert_exporter": "python",
   "pygments_lexer": "ipython3",
   "version": "3.11.7"
  }
 },
 "nbformat": 4,
 "nbformat_minor": 5
}
