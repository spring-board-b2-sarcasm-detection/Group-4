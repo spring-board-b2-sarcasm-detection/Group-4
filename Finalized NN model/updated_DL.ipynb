{
  "nbformat": 4,
  "nbformat_minor": 0,
  "metadata": {
    "colab": {
      "provenance": [],
      "gpuType": "T4"
    },
    "kernelspec": {
      "name": "python3",
      "display_name": "Python 3"
    },
    "language_info": {
      "name": "python"
    },
    "accelerator": "GPU"
  },
  "cells": [
    {
      "cell_type": "code",
      "execution_count": null,
      "metadata": {
        "id": "Qx9ScX-k1N7M"
      },
      "outputs": [],
      "source": [
        "# Import necessary libraries\n",
        "import numpy as np\n",
        "import pandas as pd\n",
        "from sklearn.model_selection import train_test_split\n",
        "from sklearn.preprocessing import LabelEncoder\n",
        "from sklearn.feature_extraction.text import TfidfVectorizer\n",
        "from keras.models import Sequential\n",
        "from keras.layers import Dense, Dropout\n",
        "from keras.utils import to_categorical\n",
        "from sklearn.metrics import accuracy_score, precision_score, recall_score, f1_score, confusion_matrix, roc_auc_score, roc_curve\n",
        "import matplotlib.pyplot as plt\n",
        "import seaborn as sns"
      ]
    },
    {
      "cell_type": "code",
      "source": [
        "# Load the dataset\n",
        "data = pd.read_csv('processed_data2.csv')\n",
        "\n",
        "# Display the first few rows of the dataset\n",
        "data.head()"
      ],
      "metadata": {
        "colab": {
          "base_uri": "https://localhost:8080/",
          "height": 206
        },
        "id": "oeKvka4A2CGC",
        "outputId": "a1ba5041-4879-4bc5-b561-33450bef098f"
      },
      "execution_count": null,
      "outputs": [
        {
          "output_type": "execute_result",
          "data": {
            "text/plain": [
              "                                                text  labels  \\\n",
              "0  <user> thanks for showing up for our appointme...       1   \n",
              "1                                      haha .  # lol       1   \n",
              "2  i love waiting <num> min for a cab - such shor...       1   \n",
              "3  22 super funny quotes # funnyquotes  # funnysa...       1   \n",
              "4            goog morning  # sorrynotsorry # morning       1   \n",
              "\n",
              "                                     cleaned_comment  \n",
              "0              user thanks showing appointment today  \n",
              "1                                           haha lol  \n",
              "2  love waiting num min cab shortage user please ...  \n",
              "3  22 super funny quote funnyquotes funnysayings ...  \n",
              "4                 goog morning sorrynotsorry morning  "
            ],
            "text/html": [
              "\n",
              "  <div id=\"df-b0ff3120-f434-4b05-9614-108ccd3c2e33\" class=\"colab-df-container\">\n",
              "    <div>\n",
              "<style scoped>\n",
              "    .dataframe tbody tr th:only-of-type {\n",
              "        vertical-align: middle;\n",
              "    }\n",
              "\n",
              "    .dataframe tbody tr th {\n",
              "        vertical-align: top;\n",
              "    }\n",
              "\n",
              "    .dataframe thead th {\n",
              "        text-align: right;\n",
              "    }\n",
              "</style>\n",
              "<table border=\"1\" class=\"dataframe\">\n",
              "  <thead>\n",
              "    <tr style=\"text-align: right;\">\n",
              "      <th></th>\n",
              "      <th>text</th>\n",
              "      <th>labels</th>\n",
              "      <th>cleaned_comment</th>\n",
              "    </tr>\n",
              "  </thead>\n",
              "  <tbody>\n",
              "    <tr>\n",
              "      <th>0</th>\n",
              "      <td>&lt;user&gt; thanks for showing up for our appointme...</td>\n",
              "      <td>1</td>\n",
              "      <td>user thanks showing appointment today</td>\n",
              "    </tr>\n",
              "    <tr>\n",
              "      <th>1</th>\n",
              "      <td>haha .  # lol</td>\n",
              "      <td>1</td>\n",
              "      <td>haha lol</td>\n",
              "    </tr>\n",
              "    <tr>\n",
              "      <th>2</th>\n",
              "      <td>i love waiting &lt;num&gt; min for a cab - such shor...</td>\n",
              "      <td>1</td>\n",
              "      <td>love waiting num min cab shortage user please ...</td>\n",
              "    </tr>\n",
              "    <tr>\n",
              "      <th>3</th>\n",
              "      <td>22 super funny quotes # funnyquotes  # funnysa...</td>\n",
              "      <td>1</td>\n",
              "      <td>22 super funny quote funnyquotes funnysayings ...</td>\n",
              "    </tr>\n",
              "    <tr>\n",
              "      <th>4</th>\n",
              "      <td>goog morning  # sorrynotsorry # morning</td>\n",
              "      <td>1</td>\n",
              "      <td>goog morning sorrynotsorry morning</td>\n",
              "    </tr>\n",
              "  </tbody>\n",
              "</table>\n",
              "</div>\n",
              "    <div class=\"colab-df-buttons\">\n",
              "\n",
              "  <div class=\"colab-df-container\">\n",
              "    <button class=\"colab-df-convert\" onclick=\"convertToInteractive('df-b0ff3120-f434-4b05-9614-108ccd3c2e33')\"\n",
              "            title=\"Convert this dataframe to an interactive table.\"\n",
              "            style=\"display:none;\">\n",
              "\n",
              "  <svg xmlns=\"http://www.w3.org/2000/svg\" height=\"24px\" viewBox=\"0 -960 960 960\">\n",
              "    <path d=\"M120-120v-720h720v720H120Zm60-500h600v-160H180v160Zm220 220h160v-160H400v160Zm0 220h160v-160H400v160ZM180-400h160v-160H180v160Zm440 0h160v-160H620v160ZM180-180h160v-160H180v160Zm440 0h160v-160H620v160Z\"/>\n",
              "  </svg>\n",
              "    </button>\n",
              "\n",
              "  <style>\n",
              "    .colab-df-container {\n",
              "      display:flex;\n",
              "      gap: 12px;\n",
              "    }\n",
              "\n",
              "    .colab-df-convert {\n",
              "      background-color: #E8F0FE;\n",
              "      border: none;\n",
              "      border-radius: 50%;\n",
              "      cursor: pointer;\n",
              "      display: none;\n",
              "      fill: #1967D2;\n",
              "      height: 32px;\n",
              "      padding: 0 0 0 0;\n",
              "      width: 32px;\n",
              "    }\n",
              "\n",
              "    .colab-df-convert:hover {\n",
              "      background-color: #E2EBFA;\n",
              "      box-shadow: 0px 1px 2px rgba(60, 64, 67, 0.3), 0px 1px 3px 1px rgba(60, 64, 67, 0.15);\n",
              "      fill: #174EA6;\n",
              "    }\n",
              "\n",
              "    .colab-df-buttons div {\n",
              "      margin-bottom: 4px;\n",
              "    }\n",
              "\n",
              "    [theme=dark] .colab-df-convert {\n",
              "      background-color: #3B4455;\n",
              "      fill: #D2E3FC;\n",
              "    }\n",
              "\n",
              "    [theme=dark] .colab-df-convert:hover {\n",
              "      background-color: #434B5C;\n",
              "      box-shadow: 0px 1px 3px 1px rgba(0, 0, 0, 0.15);\n",
              "      filter: drop-shadow(0px 1px 2px rgba(0, 0, 0, 0.3));\n",
              "      fill: #FFFFFF;\n",
              "    }\n",
              "  </style>\n",
              "\n",
              "    <script>\n",
              "      const buttonEl =\n",
              "        document.querySelector('#df-b0ff3120-f434-4b05-9614-108ccd3c2e33 button.colab-df-convert');\n",
              "      buttonEl.style.display =\n",
              "        google.colab.kernel.accessAllowed ? 'block' : 'none';\n",
              "\n",
              "      async function convertToInteractive(key) {\n",
              "        const element = document.querySelector('#df-b0ff3120-f434-4b05-9614-108ccd3c2e33');\n",
              "        const dataTable =\n",
              "          await google.colab.kernel.invokeFunction('convertToInteractive',\n",
              "                                                    [key], {});\n",
              "        if (!dataTable) return;\n",
              "\n",
              "        const docLinkHtml = 'Like what you see? Visit the ' +\n",
              "          '<a target=\"_blank\" href=https://colab.research.google.com/notebooks/data_table.ipynb>data table notebook</a>'\n",
              "          + ' to learn more about interactive tables.';\n",
              "        element.innerHTML = '';\n",
              "        dataTable['output_type'] = 'display_data';\n",
              "        await google.colab.output.renderOutput(dataTable, element);\n",
              "        const docLink = document.createElement('div');\n",
              "        docLink.innerHTML = docLinkHtml;\n",
              "        element.appendChild(docLink);\n",
              "      }\n",
              "    </script>\n",
              "  </div>\n",
              "\n",
              "\n",
              "<div id=\"df-be70604b-c572-4ca4-a9cd-4a43d3727550\">\n",
              "  <button class=\"colab-df-quickchart\" onclick=\"quickchart('df-be70604b-c572-4ca4-a9cd-4a43d3727550')\"\n",
              "            title=\"Suggest charts\"\n",
              "            style=\"display:none;\">\n",
              "\n",
              "<svg xmlns=\"http://www.w3.org/2000/svg\" height=\"24px\"viewBox=\"0 0 24 24\"\n",
              "     width=\"24px\">\n",
              "    <g>\n",
              "        <path d=\"M19 3H5c-1.1 0-2 .9-2 2v14c0 1.1.9 2 2 2h14c1.1 0 2-.9 2-2V5c0-1.1-.9-2-2-2zM9 17H7v-7h2v7zm4 0h-2V7h2v10zm4 0h-2v-4h2v4z\"/>\n",
              "    </g>\n",
              "</svg>\n",
              "  </button>\n",
              "\n",
              "<style>\n",
              "  .colab-df-quickchart {\n",
              "      --bg-color: #E8F0FE;\n",
              "      --fill-color: #1967D2;\n",
              "      --hover-bg-color: #E2EBFA;\n",
              "      --hover-fill-color: #174EA6;\n",
              "      --disabled-fill-color: #AAA;\n",
              "      --disabled-bg-color: #DDD;\n",
              "  }\n",
              "\n",
              "  [theme=dark] .colab-df-quickchart {\n",
              "      --bg-color: #3B4455;\n",
              "      --fill-color: #D2E3FC;\n",
              "      --hover-bg-color: #434B5C;\n",
              "      --hover-fill-color: #FFFFFF;\n",
              "      --disabled-bg-color: #3B4455;\n",
              "      --disabled-fill-color: #666;\n",
              "  }\n",
              "\n",
              "  .colab-df-quickchart {\n",
              "    background-color: var(--bg-color);\n",
              "    border: none;\n",
              "    border-radius: 50%;\n",
              "    cursor: pointer;\n",
              "    display: none;\n",
              "    fill: var(--fill-color);\n",
              "    height: 32px;\n",
              "    padding: 0;\n",
              "    width: 32px;\n",
              "  }\n",
              "\n",
              "  .colab-df-quickchart:hover {\n",
              "    background-color: var(--hover-bg-color);\n",
              "    box-shadow: 0 1px 2px rgba(60, 64, 67, 0.3), 0 1px 3px 1px rgba(60, 64, 67, 0.15);\n",
              "    fill: var(--button-hover-fill-color);\n",
              "  }\n",
              "\n",
              "  .colab-df-quickchart-complete:disabled,\n",
              "  .colab-df-quickchart-complete:disabled:hover {\n",
              "    background-color: var(--disabled-bg-color);\n",
              "    fill: var(--disabled-fill-color);\n",
              "    box-shadow: none;\n",
              "  }\n",
              "\n",
              "  .colab-df-spinner {\n",
              "    border: 2px solid var(--fill-color);\n",
              "    border-color: transparent;\n",
              "    border-bottom-color: var(--fill-color);\n",
              "    animation:\n",
              "      spin 1s steps(1) infinite;\n",
              "  }\n",
              "\n",
              "  @keyframes spin {\n",
              "    0% {\n",
              "      border-color: transparent;\n",
              "      border-bottom-color: var(--fill-color);\n",
              "      border-left-color: var(--fill-color);\n",
              "    }\n",
              "    20% {\n",
              "      border-color: transparent;\n",
              "      border-left-color: var(--fill-color);\n",
              "      border-top-color: var(--fill-color);\n",
              "    }\n",
              "    30% {\n",
              "      border-color: transparent;\n",
              "      border-left-color: var(--fill-color);\n",
              "      border-top-color: var(--fill-color);\n",
              "      border-right-color: var(--fill-color);\n",
              "    }\n",
              "    40% {\n",
              "      border-color: transparent;\n",
              "      border-right-color: var(--fill-color);\n",
              "      border-top-color: var(--fill-color);\n",
              "    }\n",
              "    60% {\n",
              "      border-color: transparent;\n",
              "      border-right-color: var(--fill-color);\n",
              "    }\n",
              "    80% {\n",
              "      border-color: transparent;\n",
              "      border-right-color: var(--fill-color);\n",
              "      border-bottom-color: var(--fill-color);\n",
              "    }\n",
              "    90% {\n",
              "      border-color: transparent;\n",
              "      border-bottom-color: var(--fill-color);\n",
              "    }\n",
              "  }\n",
              "</style>\n",
              "\n",
              "  <script>\n",
              "    async function quickchart(key) {\n",
              "      const quickchartButtonEl =\n",
              "        document.querySelector('#' + key + ' button');\n",
              "      quickchartButtonEl.disabled = true;  // To prevent multiple clicks.\n",
              "      quickchartButtonEl.classList.add('colab-df-spinner');\n",
              "      try {\n",
              "        const charts = await google.colab.kernel.invokeFunction(\n",
              "            'suggestCharts', [key], {});\n",
              "      } catch (error) {\n",
              "        console.error('Error during call to suggestCharts:', error);\n",
              "      }\n",
              "      quickchartButtonEl.classList.remove('colab-df-spinner');\n",
              "      quickchartButtonEl.classList.add('colab-df-quickchart-complete');\n",
              "    }\n",
              "    (() => {\n",
              "      let quickchartButtonEl =\n",
              "        document.querySelector('#df-be70604b-c572-4ca4-a9cd-4a43d3727550 button');\n",
              "      quickchartButtonEl.style.display =\n",
              "        google.colab.kernel.accessAllowed ? 'block' : 'none';\n",
              "    })();\n",
              "  </script>\n",
              "</div>\n",
              "\n",
              "    </div>\n",
              "  </div>\n"
            ],
            "application/vnd.google.colaboratory.intrinsic+json": {
              "type": "dataframe",
              "variable_name": "data",
              "summary": "{\n  \"name\": \"data\",\n  \"rows\": 19461,\n  \"fields\": [\n    {\n      \"column\": \"text\",\n      \"properties\": {\n        \"dtype\": \"string\",\n        \"num_unique_values\": 19452,\n        \"samples\": [\n          \"just because i can .. # gifts # craft # crossstitch # funny  # monday\",\n          \"<user> talk about maintaining hygiene and fresh food !  # pathetic # foodstorage # swatchbharat\",\n          \" clearly based on reality .\"\n        ],\n        \"semantic_type\": \"\",\n        \"description\": \"\"\n      }\n    },\n    {\n      \"column\": \"labels\",\n      \"properties\": {\n        \"dtype\": \"number\",\n        \"std\": 0,\n        \"min\": 0,\n        \"max\": 1,\n        \"num_unique_values\": 2,\n        \"samples\": [\n          0,\n          1\n        ],\n        \"semantic_type\": \"\",\n        \"description\": \"\"\n      }\n    },\n    {\n      \"column\": \"cleaned_comment\",\n      \"properties\": {\n        \"dtype\": \"string\",\n        \"num_unique_values\": 19188,\n        \"samples\": [\n          \"shipping today first bumper sticker made idea came many year business school constantly tell think outside box much want shove box know thinkoutsidethebox bumperstickers\",\n          \"look like clearing 2nd half\"\n        ],\n        \"semantic_type\": \"\",\n        \"description\": \"\"\n      }\n    }\n  ]\n}"
            }
          },
          "metadata": {},
          "execution_count": 5
        }
      ]
    },
    {
      "cell_type": "code",
      "source": [
        "# Encode the labels\n",
        "label_encoder = LabelEncoder()\n",
        "labels = label_encoder.fit_transform(data['labels'])\n",
        "\n",
        "# Convert labels to categorical one-hot encoding\n",
        "labels = to_categorical(labels)\n"
      ],
      "metadata": {
        "id": "467FWKWk2E1D"
      },
      "execution_count": null,
      "outputs": []
    },
    {
      "cell_type": "code",
      "source": [
        "# Fill NaN values with an empty string\n",
        "data['cleaned_comment'] = data['cleaned_comment'].fillna('')\n",
        "\n",
        "# Vectorize the text data using TF-IDF\n",
        "tfidf = TfidfVectorizer(max_features=5000)\n",
        "features = tfidf.fit_transform(data['cleaned_comment']).toarray()\n"
      ],
      "metadata": {
        "id": "U4F4be6w2gT1"
      },
      "execution_count": null,
      "outputs": []
    },
    {
      "cell_type": "code",
      "source": [
        "# Split the data into training and testing sets\n",
        "X_train, X_test, y_train, y_test = train_test_split(features, labels, test_size=0.2, random_state=42)\n",
        "\n",
        "# Display the shapes of the training and testing sets\n",
        "print(\"Training set shape:\", X_train.shape)\n",
        "print(\"Testing set shape:\", X_test.shape)\n"
      ],
      "metadata": {
        "colab": {
          "base_uri": "https://localhost:8080/"
        },
        "id": "3eLTy9Hd2kUw",
        "outputId": "5c15bfc9-805f-49a2-b23a-79cbb2854f23"
      },
      "execution_count": null,
      "outputs": [
        {
          "output_type": "stream",
          "name": "stdout",
          "text": [
            "Training set shape: (15568, 5000)\n",
            "Testing set shape: (3893, 5000)\n"
          ]
        }
      ]
    },
    {
      "cell_type": "markdown",
      "source": [
        "## Dense NN model"
      ],
      "metadata": {
        "id": "mqxz0-WATZTX"
      }
    },
    {
      "cell_type": "code",
      "source": [
        "# Build the dense model\n",
        "dense_model = Sequential()\n",
        "dense_model.add(Dense(1024, input_shape=(X_train.shape[1],), activation='relu'))\n",
        "dense_model.add(Dropout(0.5))\n",
        "#dense_model.add(Dense(512, activation='relu'))\n",
        "#dense_model.add(Dropout(0.4))\n",
        "#dense_model.add(Dense(256, activation='relu'))\n",
        "#dense_model.add(Dropout(0.3))\n",
        "#dense_model.add(Dense(128, activation='relu'))\n",
        "#dense_model.add(Dropout(0.2))\n",
        "#dense_model.add(Dense(64, activation='relu'))\n",
        "#dense_model.add(Dropout(0.1))\n",
        "dense_model.add(Dense(y_train.shape[1], activation='softmax'))\n",
        "\n",
        "# Compile the model\n",
        "dense_model.compile(loss='categorical_crossentropy', optimizer='adam', metrics=['accuracy'])\n",
        "\n",
        "# Train the model\n",
        "dense_history = dense_model.fit(X_train, y_train, epochs=10, batch_size=64, validation_data=(X_test, y_test), verbose=1)"
      ],
      "metadata": {
        "colab": {
          "base_uri": "https://localhost:8080/"
        },
        "id": "gBFVuynD2rwx",
        "outputId": "7e56e7f1-6f8f-47ee-836f-6766072f6add"
      },
      "execution_count": null,
      "outputs": [
        {
          "output_type": "stream",
          "name": "stdout",
          "text": [
            "Epoch 1/10\n",
            "244/244 [==============================] - 4s 7ms/step - loss: 0.5426 - accuracy: 0.7173 - val_loss: 0.4863 - val_accuracy: 0.7596\n",
            "Epoch 2/10\n",
            "244/244 [==============================] - 1s 5ms/step - loss: 0.3780 - accuracy: 0.8312 - val_loss: 0.4967 - val_accuracy: 0.7516\n",
            "Epoch 3/10\n",
            "244/244 [==============================] - 1s 5ms/step - loss: 0.3080 - accuracy: 0.8661 - val_loss: 0.5405 - val_accuracy: 0.7583\n",
            "Epoch 4/10\n",
            "244/244 [==============================] - 1s 5ms/step - loss: 0.2486 - accuracy: 0.8980 - val_loss: 0.5957 - val_accuracy: 0.7552\n",
            "Epoch 5/10\n",
            "244/244 [==============================] - 1s 6ms/step - loss: 0.1944 - accuracy: 0.9234 - val_loss: 0.6430 - val_accuracy: 0.7511\n",
            "Epoch 6/10\n",
            "244/244 [==============================] - 2s 6ms/step - loss: 0.1460 - accuracy: 0.9490 - val_loss: 0.7355 - val_accuracy: 0.7511\n",
            "Epoch 7/10\n",
            "244/244 [==============================] - 1s 5ms/step - loss: 0.1082 - accuracy: 0.9644 - val_loss: 0.8021 - val_accuracy: 0.7501\n",
            "Epoch 8/10\n",
            "244/244 [==============================] - 1s 5ms/step - loss: 0.0804 - accuracy: 0.9744 - val_loss: 0.8789 - val_accuracy: 0.7462\n",
            "Epoch 9/10\n",
            "244/244 [==============================] - 1s 5ms/step - loss: 0.0649 - accuracy: 0.9802 - val_loss: 0.9244 - val_accuracy: 0.7493\n",
            "Epoch 10/10\n",
            "244/244 [==============================] - 1s 5ms/step - loss: 0.0533 - accuracy: 0.9836 - val_loss: 0.9810 - val_accuracy: 0.7488\n"
          ]
        }
      ]
    },
    {
      "cell_type": "code",
      "source": [
        "from sklearn.metrics import classification_report, confusion_matrix, roc_curve, auc\n",
        "import seaborn as sns\n",
        "import matplotlib.pyplot as plt\n",
        "import numpy as np\n",
        "\n",
        "# Evaluate the model\n",
        "loss, accuracy = dense_model.evaluate(X_test, y_test, verbose=0)\n",
        "print(f\"Dense Model Accuracy: {accuracy:.4f}\")\n",
        "\n",
        "# Generate classification report\n",
        "y_pred_probs = dense_model.predict(X_test)\n",
        "y_pred = np.argmax(y_pred_probs, axis=1)\n",
        "y_test_true = np.argmax(y_test, axis=1)\n",
        "\n",
        "class_report = classification_report(y_test_true, y_pred, target_names=['Class 0', 'Class 1'])\n",
        "print(\"\\nClassification Report:\\n\", class_report)"
      ],
      "metadata": {
        "colab": {
          "base_uri": "https://localhost:8080/"
        },
        "id": "mn7LDsuk5h_Z",
        "outputId": "d3a60c0d-3277-4cdb-d02d-969efb495223"
      },
      "execution_count": null,
      "outputs": [
        {
          "output_type": "stream",
          "name": "stdout",
          "text": [
            "Dense Model Accuracy: 0.7488\n",
            "122/122 [==============================] - 0s 3ms/step\n",
            "\n",
            "Classification Report:\n",
            "               precision    recall  f1-score   support\n",
            "\n",
            "     Class 0       0.76      0.81      0.78      2182\n",
            "     Class 1       0.73      0.67      0.70      1711\n",
            "\n",
            "    accuracy                           0.75      3893\n",
            "   macro avg       0.75      0.74      0.74      3893\n",
            "weighted avg       0.75      0.75      0.75      3893\n",
            "\n"
          ]
        }
      ]
    },
    {
      "cell_type": "markdown",
      "source": [
        "### Experiment with different number of dense layer and dropout value"
      ],
      "metadata": {
        "id": "XbFRt0VlTFAR"
      }
    },
    {
      "cell_type": "code",
      "source": [
        "# Build the dense model\n",
        "dense_model = Sequential()\n",
        "dense_model.add(Dense(2048, input_shape=(X_train.shape[1],), activation='relu'))\n",
        "dense_model.add(Dropout(0.9))\n",
        "#dense_model.add(Dense(512, activation='relu'))\n",
        "#dense_model.add(Dropout(0.4))\n",
        "#dense_model.add(Dense(256, activation='relu'))\n",
        "#dense_model.add(Dropout(0.3))\n",
        "#dense_model.add(Dense(128, activation='relu'))\n",
        "#dense_model.add(Dropout(0.2))\n",
        "#dense_model.add(Dense(64, activation='relu'))\n",
        "#dense_model.add(Dropout(0.1))\n",
        "dense_model.add(Dense(y_train.shape[1], activation='softmax'))\n",
        "\n",
        "# Compile the model\n",
        "dense_model.compile(loss='categorical_crossentropy', optimizer='adam', metrics=['accuracy'])\n",
        "\n",
        "# Train the model\n",
        "dense_history = dense_model.fit(X_train, y_train, epochs=10, batch_size=64, validation_data=(X_test, y_test), verbose=1)"
      ],
      "metadata": {
        "colab": {
          "base_uri": "https://localhost:8080/"
        },
        "id": "ea6VKpbp51So",
        "outputId": "f7cd5325-048a-4088-db22-bf0c231354df"
      },
      "execution_count": null,
      "outputs": [
        {
          "output_type": "stream",
          "name": "stdout",
          "text": [
            "Epoch 1/10\n",
            "244/244 [==============================] - 3s 9ms/step - loss: 0.5961 - accuracy: 0.6730 - val_loss: 0.5059 - val_accuracy: 0.7578\n",
            "Epoch 2/10\n",
            "244/244 [==============================] - 2s 7ms/step - loss: 0.4559 - accuracy: 0.7848 - val_loss: 0.4886 - val_accuracy: 0.7588\n",
            "Epoch 3/10\n",
            "244/244 [==============================] - 1s 6ms/step - loss: 0.4001 - accuracy: 0.8151 - val_loss: 0.4891 - val_accuracy: 0.7616\n",
            "Epoch 4/10\n",
            "244/244 [==============================] - 1s 6ms/step - loss: 0.3633 - accuracy: 0.8368 - val_loss: 0.5002 - val_accuracy: 0.7616\n",
            "Epoch 5/10\n",
            "244/244 [==============================] - 1s 6ms/step - loss: 0.3403 - accuracy: 0.8517 - val_loss: 0.5095 - val_accuracy: 0.7637\n",
            "Epoch 6/10\n",
            "244/244 [==============================] - 1s 6ms/step - loss: 0.3146 - accuracy: 0.8649 - val_loss: 0.5240 - val_accuracy: 0.7591\n",
            "Epoch 7/10\n",
            "244/244 [==============================] - 1s 6ms/step - loss: 0.2930 - accuracy: 0.8756 - val_loss: 0.5305 - val_accuracy: 0.7588\n",
            "Epoch 8/10\n",
            "244/244 [==============================] - 1s 6ms/step - loss: 0.2729 - accuracy: 0.8886 - val_loss: 0.5447 - val_accuracy: 0.7593\n",
            "Epoch 9/10\n",
            "244/244 [==============================] - 2s 7ms/step - loss: 0.2542 - accuracy: 0.8971 - val_loss: 0.5605 - val_accuracy: 0.7593\n",
            "Epoch 10/10\n",
            "244/244 [==============================] - 2s 7ms/step - loss: 0.2374 - accuracy: 0.9042 - val_loss: 0.5703 - val_accuracy: 0.7588\n"
          ]
        }
      ]
    },
    {
      "cell_type": "markdown",
      "source": [
        "## Classification report"
      ],
      "metadata": {
        "id": "l2mX-ABES-2Q"
      }
    },
    {
      "cell_type": "code",
      "source": [
        "# Evaluate the model\n",
        "loss, accuracy = dense_model.evaluate(X_test, y_test, verbose=0)\n",
        "print(f\"Dense Model Accuracy: {accuracy:.4f}\")\n",
        "\n",
        "# Generate classification report\n",
        "y_pred_probs = dense_model.predict(X_test)\n",
        "y_pred = np.argmax(y_pred_probs, axis=1)\n",
        "y_test_true = np.argmax(y_test, axis=1)\n",
        "\n",
        "class_report = classification_report(y_test_true, y_pred, target_names=['Class 0', 'Class 1'])\n",
        "print(\"\\nClassification Report:\\n\", class_report)"
      ],
      "metadata": {
        "colab": {
          "base_uri": "https://localhost:8080/"
        },
        "id": "0SG6JjJ36DhT",
        "outputId": "46b993f2-2ae9-47a5-8a64-5ef57e9a4752"
      },
      "execution_count": null,
      "outputs": [
        {
          "output_type": "stream",
          "name": "stdout",
          "text": [
            "Dense Model Accuracy: 0.7588\n",
            "122/122 [==============================] - 0s 2ms/step\n",
            "\n",
            "Classification Report:\n",
            "               precision    recall  f1-score   support\n",
            "\n",
            "     Class 0       0.76      0.82      0.79      2182\n",
            "     Class 1       0.75      0.68      0.71      1711\n",
            "\n",
            "    accuracy                           0.76      3893\n",
            "   macro avg       0.76      0.75      0.75      3893\n",
            "weighted avg       0.76      0.76      0.76      3893\n",
            "\n"
          ]
        }
      ]
    }
  ]
}