{
 "cells": [
  {
   "cell_type": "code",
   "execution_count": 1,
   "id": "d367a609-1f1e-47df-ada4-d9fbfa443eab",
   "metadata": {},
   "outputs": [],
   "source": [
    "# Import necessary libraries\n",
    "import numpy as np\n",
    "import pandas as pd\n",
    "from sklearn.model_selection import train_test_split\n",
    "from sklearn.preprocessing import LabelEncoder\n",
    "from sklearn.feature_extraction.text import TfidfVectorizer\n",
    "from keras.models import Sequential\n",
    "from keras.layers import Dense, Dropout\n",
    "from keras.utils import to_categorical\n",
    "from sklearn.metrics import accuracy_score, precision_score, recall_score, f1_score, confusion_matrix, roc_auc_score, roc_curve\n",
    "import matplotlib.pyplot as plt\n",
    "import seaborn as sns\n"
   ]
  },
  {
   "cell_type": "code",
   "execution_count": 3,
   "id": "5ea966b7-797a-4377-8b1e-443002447bfe",
   "metadata": {},
   "outputs": [
    {
     "data": {
      "text/html": [
       "<div>\n",
       "<style scoped>\n",
       "    .dataframe tbody tr th:only-of-type {\n",
       "        vertical-align: middle;\n",
       "    }\n",
       "\n",
       "    .dataframe tbody tr th {\n",
       "        vertical-align: top;\n",
       "    }\n",
       "\n",
       "    .dataframe thead th {\n",
       "        text-align: right;\n",
       "    }\n",
       "</style>\n",
       "<table border=\"1\" class=\"dataframe\">\n",
       "  <thead>\n",
       "    <tr style=\"text-align: right;\">\n",
       "      <th></th>\n",
       "      <th>text</th>\n",
       "      <th>labels</th>\n",
       "      <th>cleaned_comment</th>\n",
       "    </tr>\n",
       "  </thead>\n",
       "  <tbody>\n",
       "    <tr>\n",
       "      <th>0</th>\n",
       "      <td>&lt;user&gt; thanks for showing up for our appointme...</td>\n",
       "      <td>1</td>\n",
       "      <td>user thanks showing appointment today</td>\n",
       "    </tr>\n",
       "    <tr>\n",
       "      <th>1</th>\n",
       "      <td>haha .  # lol</td>\n",
       "      <td>1</td>\n",
       "      <td>haha lol</td>\n",
       "    </tr>\n",
       "    <tr>\n",
       "      <th>2</th>\n",
       "      <td>i love waiting &lt;num&gt; min for a cab - such shor...</td>\n",
       "      <td>1</td>\n",
       "      <td>love waiting num min cab shortage user please ...</td>\n",
       "    </tr>\n",
       "    <tr>\n",
       "      <th>3</th>\n",
       "      <td>22 super funny quotes # funnyquotes  # funnysa...</td>\n",
       "      <td>1</td>\n",
       "      <td>22 super funny quote funnyquotes funnysayings ...</td>\n",
       "    </tr>\n",
       "    <tr>\n",
       "      <th>4</th>\n",
       "      <td>goog morning  # sorrynotsorry # morning</td>\n",
       "      <td>1</td>\n",
       "      <td>goog morning sorrynotsorry morning</td>\n",
       "    </tr>\n",
       "  </tbody>\n",
       "</table>\n",
       "</div>"
      ],
      "text/plain": [
       "                                                text  labels  \\\n",
       "0  <user> thanks for showing up for our appointme...       1   \n",
       "1                                      haha .  # lol       1   \n",
       "2  i love waiting <num> min for a cab - such shor...       1   \n",
       "3  22 super funny quotes # funnyquotes  # funnysa...       1   \n",
       "4            goog morning  # sorrynotsorry # morning       1   \n",
       "\n",
       "                                     cleaned_comment  \n",
       "0              user thanks showing appointment today  \n",
       "1                                           haha lol  \n",
       "2  love waiting num min cab shortage user please ...  \n",
       "3  22 super funny quote funnyquotes funnysayings ...  \n",
       "4                 goog morning sorrynotsorry morning  "
      ]
     },
     "execution_count": 3,
     "metadata": {},
     "output_type": "execute_result"
    }
   ],
   "source": [
    "# Load the dataset\n",
    "data = pd.read_csv('processed_data2.csv')\n",
    "\n",
    "# Display the first few rows of the dataset\n",
    "data.head()\n"
   ]
  },
  {
   "cell_type": "code",
   "execution_count": null,
   "id": "d2c45096-190a-4132-9743-84e6784f1c84",
   "metadata": {},
   "outputs": [],
   "source": []
  },
  {
   "cell_type": "markdown",
   "id": "03e5b5ee-cb73-47ff-9fc8-e8b6da6b45f1",
   "metadata": {},
   "source": [
    "## Encoding the lables\n",
    "\n",
    "Label Encoding: This step converts categorical labels into integer values. One-Hot Encoding: The labels are further transformed into a binary matrix format for multi-class classification."
   ]
  },
  {
   "cell_type": "code",
   "execution_count": 5,
   "id": "26396510-0814-4fd6-af45-56fd29e438b2",
   "metadata": {},
   "outputs": [],
   "source": [
    "# Encode the labels\n",
    "label_encoder = LabelEncoder()\n",
    "labels = label_encoder.fit_transform(data['labels'])\n",
    "\n",
    "# Convert labels to categorical one-hot encoding\n",
    "labels = to_categorical(labels)\n"
   ]
  },
  {
   "cell_type": "markdown",
   "id": "f6933609-7df0-4608-b095-9335559c1ef3",
   "metadata": {},
   "source": [
    "\n",
    "Fill NaN Values: Replaces missing values in the 'cleaned_comment' column with an empty string to avoid issues during vectorization. TF-IDF Vectorization: Transforms the text data into numerical features based on term frequency-inverse document frequency, limited to the top 5000 features."
   ]
  },
  {
   "cell_type": "code",
   "execution_count": 22,
   "id": "86dc326a-c189-4539-8135-987a1859cd10",
   "metadata": {},
   "outputs": [],
   "source": [
    "# Fill NaN values with an empty string\n",
    "data['cleaned_comment'] = data['cleaned_comment'].fillna('')\n",
    "\n",
    "# Vectorize the text data using TF-IDF\n",
    "tfidf = TfidfVectorizer(max_features=5000)\n",
    "features = tfidf.fit_transform(data['cleaned_comment']).toarray()\n"
   ]
  },
  {
   "cell_type": "markdown",
   "id": "601c4e96-59f0-4003-98d1-878469236574",
   "metadata": {},
   "source": [
    "## split the data\n",
    "\n",
    "Train-Test Split: Splits the dataset into training and testing sets to evaluate model performance.\n",
    "Display Shapes: Shows the dimensions of the training and testing sets to verify the split."
   ]
  },
  {
   "cell_type": "code",
   "execution_count": 7,
   "id": "a6e18d32-4e60-4229-bb40-1bbb33a65732",
   "metadata": {},
   "outputs": [
    {
     "name": "stdout",
     "output_type": "stream",
     "text": [
      "Training set shape: (15568, 5000)\n",
      "Testing set shape: (3893, 5000)\n"
     ]
    }
   ],
   "source": [
    "# Split the data into training and testing sets\n",
    "X_train, X_test, y_train, y_test = train_test_split(features, labels, test_size=0.2, random_state=42)\n",
    "\n",
    "# Display the shapes of the training and testing sets\n",
    "print(\"Training set shape:\", X_train.shape)\n",
    "print(\"Testing set shape:\", X_test.shape)\n"
   ]
  },
  {
   "cell_type": "markdown",
   "id": "0c7521c7-2093-43ff-966d-7d1cf9abe5d7",
   "metadata": {},
   "source": [
    "## Dense Neural Network Model\n",
    "\n",
    "A dense neural network, also known as a fully connected network, is one of the simplest types of neural networks. It consists of layers where each neuron is connected to every neuron in the previous layer.\n",
    "\n",
    " We will create a Sequential model and add Dense layers. The first layer has 512 neurons with ReLU activation and receives input of the shape of our training data. Dropout layers are added to prevent overfitting by randomly setting a fraction of input units to 0 at each update during training.\n",
    "The model is compiled with the categorical crossentropy loss function (suitable for multi-class classification) and the Adam optimizer. Accuracy is used as the metric to evaluate the model.\n",
    " The model is trained using the training data for 10 epochs with a batch size of 64. Validation data is used to monitor the model's performance on unseen data during training."
   ]
  },
  {
   "cell_type": "code",
   "execution_count": 8,
   "id": "ea62b7ff-b7e0-417b-818c-0515d86e20f8",
   "metadata": {},
   "outputs": [
    {
     "name": "stderr",
     "output_type": "stream",
     "text": [
      "C:\\Users\\91636\\anaconda3\\Lib\\site-packages\\keras\\src\\layers\\core\\dense.py:87: UserWarning: Do not pass an `input_shape`/`input_dim` argument to a layer. When using Sequential models, prefer using an `Input(shape)` object as the first layer in the model instead.\n",
      "  super().__init__(activity_regularizer=activity_regularizer, **kwargs)\n"
     ]
    },
    {
     "name": "stdout",
     "output_type": "stream",
     "text": [
      "Epoch 1/10\n",
      "\u001b[1m244/244\u001b[0m \u001b[32m━━━━━━━━━━━━━━━━━━━━\u001b[0m\u001b[37m\u001b[0m \u001b[1m9s\u001b[0m 33ms/step - accuracy: 0.6513 - loss: 0.6144 - val_accuracy: 0.7614 - val_loss: 0.4878\n",
      "Epoch 2/10\n",
      "\u001b[1m244/244\u001b[0m \u001b[32m━━━━━━━━━━━━━━━━━━━━\u001b[0m\u001b[37m\u001b[0m \u001b[1m8s\u001b[0m 33ms/step - accuracy: 0.8406 - loss: 0.3694 - val_accuracy: 0.7588 - val_loss: 0.5030\n",
      "Epoch 3/10\n",
      "\u001b[1m244/244\u001b[0m \u001b[32m━━━━━━━━━━━━━━━━━━━━\u001b[0m\u001b[37m\u001b[0m \u001b[1m8s\u001b[0m 33ms/step - accuracy: 0.8891 - loss: 0.2729 - val_accuracy: 0.7562 - val_loss: 0.5469\n",
      "Epoch 4/10\n",
      "\u001b[1m244/244\u001b[0m \u001b[32m━━━━━━━━━━━━━━━━━━━━\u001b[0m\u001b[37m\u001b[0m \u001b[1m8s\u001b[0m 33ms/step - accuracy: 0.9320 - loss: 0.1795 - val_accuracy: 0.7465 - val_loss: 0.6678\n",
      "Epoch 5/10\n",
      "\u001b[1m244/244\u001b[0m \u001b[32m━━━━━━━━━━━━━━━━━━━━\u001b[0m\u001b[37m\u001b[0m \u001b[1m8s\u001b[0m 33ms/step - accuracy: 0.9599 - loss: 0.1159 - val_accuracy: 0.7444 - val_loss: 0.8052\n",
      "Epoch 6/10\n",
      "\u001b[1m244/244\u001b[0m \u001b[32m━━━━━━━━━━━━━━━━━━━━\u001b[0m\u001b[37m\u001b[0m \u001b[1m8s\u001b[0m 33ms/step - accuracy: 0.9732 - loss: 0.0744 - val_accuracy: 0.7454 - val_loss: 0.8785\n",
      "Epoch 7/10\n",
      "\u001b[1m244/244\u001b[0m \u001b[32m━━━━━━━━━━━━━━━━━━━━\u001b[0m\u001b[37m\u001b[0m \u001b[1m8s\u001b[0m 33ms/step - accuracy: 0.9805 - loss: 0.0580 - val_accuracy: 0.7436 - val_loss: 0.9924\n",
      "Epoch 8/10\n",
      "\u001b[1m244/244\u001b[0m \u001b[32m━━━━━━━━━━━━━━━━━━━━\u001b[0m\u001b[37m\u001b[0m \u001b[1m8s\u001b[0m 34ms/step - accuracy: 0.9812 - loss: 0.0525 - val_accuracy: 0.7457 - val_loss: 1.0703\n",
      "Epoch 9/10\n",
      "\u001b[1m244/244\u001b[0m \u001b[32m━━━━━━━━━━━━━━━━━━━━\u001b[0m\u001b[37m\u001b[0m \u001b[1m8s\u001b[0m 33ms/step - accuracy: 0.9844 - loss: 0.0390 - val_accuracy: 0.7380 - val_loss: 1.0585\n",
      "Epoch 10/10\n",
      "\u001b[1m244/244\u001b[0m \u001b[32m━━━━━━━━━━━━━━━━━━━━\u001b[0m\u001b[37m\u001b[0m \u001b[1m8s\u001b[0m 33ms/step - accuracy: 0.9855 - loss: 0.0383 - val_accuracy: 0.7444 - val_loss: 1.1505\n"
     ]
    }
   ],
   "source": [
    "# Build the dense model\n",
    "dense_model = Sequential()\n",
    "dense_model.add(Dense(512, input_shape=(X_train.shape[1],), activation='relu'))\n",
    "dense_model.add(Dropout(0.5))\n",
    "dense_model.add(Dense(256, activation='relu'))\n",
    "dense_model.add(Dropout(0.5))\n",
    "dense_model.add(Dense(y_train.shape[1], activation='softmax'))\n",
    "\n",
    "# Compile the model\n",
    "dense_model.compile(loss='categorical_crossentropy', optimizer='adam', metrics=['accuracy'])\n",
    "\n",
    "# Train the model\n",
    "dense_history = dense_model.fit(X_train, y_train, epochs=10, batch_size=64, validation_data=(X_test, y_test), verbose=1)\n"
   ]
  },
  {
   "cell_type": "code",
   "execution_count": 10,
   "id": "25a1b1a4-3460-447d-ad65-82f320044335",
   "metadata": {},
   "outputs": [],
   "source": [
    "from keras.models import Sequential\n",
    "from keras.layers import Conv1D, MaxPooling1D, Flatten\n"
   ]
  },
  {
   "cell_type": "markdown",
   "id": "1bdf1768-ac5d-4257-a125-d40949cebf60",
   "metadata": {},
   "source": [
    "## Convolutional Neural Network (CNN) Model\n",
    " CNNs are particularly powerful for capturing spatial hierarchies in data, and are widely used in image and text classification tasks.\n",
    "\n",
    "Since CNNs expect multi-dimensional input, we need to reshape our feature data to include a single channel dimension.\n",
    "X_train_cnn and X_test_cnn are reshaped to have an additional dimension.\n",
    " create a Sequential model and add layers specific to CNNs.\n",
    "Applies a 1D convolution to the input data with 64 filters and a kernel size of 3, using ReLU activation.\n",
    "**maxpooling** Reduces the dimensions (down-sampling) by a factor of 2.\n",
    "**Flatten Layer:** Flattens the multi-dimensional output from the convolutional layers into a single vector.\n",
    "**Dense Layers:** Fully connected layers with ReLU activation, followed by a Dropout layer to prevent overfitting, and an output layer with softmax activation for multi-class classification.\n",
    "The model is compiled with the categorical crossentropy loss function and the Adam optimizer. Accuracy is used as the metric to evaluate the model.\n"
   ]
  },
  {
   "cell_type": "code",
   "execution_count": 11,
   "id": "7b528d83-37f9-4db0-a37d-feffcf81a573",
   "metadata": {},
   "outputs": [
    {
     "name": "stderr",
     "output_type": "stream",
     "text": [
      "C:\\Users\\91636\\anaconda3\\Lib\\site-packages\\keras\\src\\layers\\convolutional\\base_conv.py:107: UserWarning: Do not pass an `input_shape`/`input_dim` argument to a layer. When using Sequential models, prefer using an `Input(shape)` object as the first layer in the model instead.\n",
      "  super().__init__(activity_regularizer=activity_regularizer, **kwargs)\n"
     ]
    },
    {
     "name": "stdout",
     "output_type": "stream",
     "text": [
      "Epoch 1/10\n",
      "\u001b[1m244/244\u001b[0m \u001b[32m━━━━━━━━━━━━━━━━━━━━\u001b[0m\u001b[37m\u001b[0m \u001b[1m171s\u001b[0m 691ms/step - accuracy: 0.6829 - loss: 0.5880 - val_accuracy: 0.7393 - val_loss: 0.5114\n",
      "Epoch 2/10\n",
      "\u001b[1m244/244\u001b[0m \u001b[32m━━━━━━━━━━━━━━━━━━━━\u001b[0m\u001b[37m\u001b[0m \u001b[1m166s\u001b[0m 682ms/step - accuracy: 0.8164 - loss: 0.4011 - val_accuracy: 0.7426 - val_loss: 0.5230\n",
      "Epoch 3/10\n",
      "\u001b[1m244/244\u001b[0m \u001b[32m━━━━━━━━━━━━━━━━━━━━\u001b[0m\u001b[37m\u001b[0m \u001b[1m166s\u001b[0m 682ms/step - accuracy: 0.8621 - loss: 0.3225 - val_accuracy: 0.7470 - val_loss: 0.5509\n",
      "Epoch 4/10\n",
      "\u001b[1m244/244\u001b[0m \u001b[32m━━━━━━━━━━━━━━━━━━━━\u001b[0m\u001b[37m\u001b[0m \u001b[1m165s\u001b[0m 675ms/step - accuracy: 0.9023 - loss: 0.2548 - val_accuracy: 0.7449 - val_loss: 0.6246\n",
      "Epoch 5/10\n",
      "\u001b[1m244/244\u001b[0m \u001b[32m━━━━━━━━━━━━━━━━━━━━\u001b[0m\u001b[37m\u001b[0m \u001b[1m164s\u001b[0m 672ms/step - accuracy: 0.9314 - loss: 0.1907 - val_accuracy: 0.7385 - val_loss: 0.7134\n",
      "Epoch 6/10\n",
      "\u001b[1m244/244\u001b[0m \u001b[32m━━━━━━━━━━━━━━━━━━━━\u001b[0m\u001b[37m\u001b[0m \u001b[1m163s\u001b[0m 669ms/step - accuracy: 0.9529 - loss: 0.1338 - val_accuracy: 0.7367 - val_loss: 0.8388\n",
      "Epoch 7/10\n",
      "\u001b[1m244/244\u001b[0m \u001b[32m━━━━━━━━━━━━━━━━━━━━\u001b[0m\u001b[37m\u001b[0m \u001b[1m178s\u001b[0m 729ms/step - accuracy: 0.9694 - loss: 0.1004 - val_accuracy: 0.7380 - val_loss: 0.9492\n",
      "Epoch 8/10\n",
      "\u001b[1m244/244\u001b[0m \u001b[32m━━━━━━━━━━━━━━━━━━━━\u001b[0m\u001b[37m\u001b[0m \u001b[1m166s\u001b[0m 680ms/step - accuracy: 0.9672 - loss: 0.0883 - val_accuracy: 0.7375 - val_loss: 1.0272\n",
      "Epoch 9/10\n",
      "\u001b[1m244/244\u001b[0m \u001b[32m━━━━━━━━━━━━━━━━━━━━\u001b[0m\u001b[37m\u001b[0m \u001b[1m167s\u001b[0m 686ms/step - accuracy: 0.9759 - loss: 0.0725 - val_accuracy: 0.7431 - val_loss: 1.0785\n",
      "Epoch 10/10\n",
      "\u001b[1m244/244\u001b[0m \u001b[32m━━━━━━━━━━━━━━━━━━━━\u001b[0m\u001b[37m\u001b[0m \u001b[1m169s\u001b[0m 691ms/step - accuracy: 0.9812 - loss: 0.0631 - val_accuracy: 0.7408 - val_loss: 1.1138\n"
     ]
    }
   ],
   "source": [
    "# Reshape data for CNN\n",
    "X_train_cnn = X_train.reshape(X_train.shape[0], X_train.shape[1], 1)\n",
    "X_test_cnn = X_test.reshape(X_test.shape[0], X_test.shape[1], 1)\n",
    "\n",
    "# Build the CNN model\n",
    "cnn_model = Sequential()\n",
    "cnn_model.add(Conv1D(64, 3, activation='relu', input_shape=(X_train.shape[1], 1)))\n",
    "cnn_model.add(MaxPooling1D(2))\n",
    "cnn_model.add(Flatten())\n",
    "cnn_model.add(Dense(256, activation='relu'))\n",
    "cnn_model.add(Dropout(0.5))\n",
    "cnn_model.add(Dense(y_train.shape[1], activation='softmax'))\n",
    "\n",
    "# Compile the model\n",
    "cnn_model.compile(loss='categorical_crossentropy', optimizer='adam', metrics=['accuracy'])\n",
    "\n",
    "# Train the model\n",
    "cnn_history = cnn_model.fit(X_train_cnn, y_train, epochs=10, batch_size=64, validation_data=(X_test_cnn, y_test), verbose=1)\n"
   ]
  },
  {
   "cell_type": "code",
   "execution_count": 13,
   "id": "fc898813-6cf0-4882-88a2-87d42412e1de",
   "metadata": {},
   "outputs": [],
   "source": [
    "from tensorflow.keras.models import Sequential\n",
    "from tensorflow.keras.layers import LSTM, Dropout, Dense\n"
   ]
  },
  {
   "cell_type": "markdown",
   "id": "a21c951c-b2bb-4117-8936-f8fa55209f96",
   "metadata": {},
   "source": [
    "## LSTM\n",
    "\n",
    "LSTMs are a type of recurrent neural network (RNN) well-suited for sequential data and are effective at capturing temporal dependencies.\n",
    " create a Sequential model and add layers specific to LSTMs.\n",
    "*LSTM Layer:* Adds an LSTM layer with 100 units to capture sequential dependencies in the input data.\n",
    "*Dropout Layer:* Adds a Dropout layer to prevent overfitting by randomly setting a fraction of input units to 0 at each update during training.\n",
    "*Dense Layer:* Adds a fully connected output layer with softmax activation for multi-class classification.\n"
   ]
  },
  {
   "cell_type": "code",
   "execution_count": 14,
   "id": "05e7590f-4677-44c5-bb68-27aff8dec114",
   "metadata": {},
   "outputs": [
    {
     "name": "stderr",
     "output_type": "stream",
     "text": [
      "C:\\Users\\91636\\anaconda3\\Lib\\site-packages\\keras\\src\\layers\\rnn\\rnn.py:204: UserWarning: Do not pass an `input_shape`/`input_dim` argument to a layer. When using Sequential models, prefer using an `Input(shape)` object as the first layer in the model instead.\n",
      "  super().__init__(**kwargs)\n"
     ]
    },
    {
     "name": "stdout",
     "output_type": "stream",
     "text": [
      "Epoch 1/10\n",
      "\u001b[1m244/244\u001b[0m \u001b[32m━━━━━━━━━━━━━━━━━━━━\u001b[0m\u001b[37m\u001b[0m \u001b[1m9s\u001b[0m 29ms/step - accuracy: 0.5947 - loss: 0.6630 - val_accuracy: 0.7493 - val_loss: 0.5285\n",
      "Epoch 2/10\n",
      "\u001b[1m244/244\u001b[0m \u001b[32m━━━━━━━━━━━━━━━━━━━━\u001b[0m\u001b[37m\u001b[0m \u001b[1m7s\u001b[0m 27ms/step - accuracy: 0.8062 - loss: 0.4493 - val_accuracy: 0.7611 - val_loss: 0.4819\n",
      "Epoch 3/10\n",
      "\u001b[1m244/244\u001b[0m \u001b[32m━━━━━━━━━━━━━━━━━━━━\u001b[0m\u001b[37m\u001b[0m \u001b[1m7s\u001b[0m 27ms/step - accuracy: 0.8436 - loss: 0.3670 - val_accuracy: 0.7570 - val_loss: 0.4993\n",
      "Epoch 4/10\n",
      "\u001b[1m244/244\u001b[0m \u001b[32m━━━━━━━━━━━━━━━━━━━━\u001b[0m\u001b[37m\u001b[0m \u001b[1m7s\u001b[0m 28ms/step - accuracy: 0.8557 - loss: 0.3334 - val_accuracy: 0.7567 - val_loss: 0.5255\n",
      "Epoch 5/10\n",
      "\u001b[1m244/244\u001b[0m \u001b[32m━━━━━━━━━━━━━━━━━━━━\u001b[0m\u001b[37m\u001b[0m \u001b[1m7s\u001b[0m 29ms/step - accuracy: 0.8671 - loss: 0.3147 - val_accuracy: 0.7529 - val_loss: 0.5504\n",
      "Epoch 6/10\n",
      "\u001b[1m244/244\u001b[0m \u001b[32m━━━━━━━━━━━━━━━━━━━━\u001b[0m\u001b[37m\u001b[0m \u001b[1m7s\u001b[0m 28ms/step - accuracy: 0.8706 - loss: 0.2969 - val_accuracy: 0.7521 - val_loss: 0.5789\n",
      "Epoch 7/10\n",
      "\u001b[1m244/244\u001b[0m \u001b[32m━━━━━━━━━━━━━━━━━━━━\u001b[0m\u001b[37m\u001b[0m \u001b[1m7s\u001b[0m 27ms/step - accuracy: 0.8854 - loss: 0.2784 - val_accuracy: 0.7490 - val_loss: 0.6063\n",
      "Epoch 8/10\n",
      "\u001b[1m244/244\u001b[0m \u001b[32m━━━━━━━━━━━━━━━━━━━━\u001b[0m\u001b[37m\u001b[0m \u001b[1m7s\u001b[0m 27ms/step - accuracy: 0.8814 - loss: 0.2752 - val_accuracy: 0.7478 - val_loss: 0.6312\n",
      "Epoch 9/10\n",
      "\u001b[1m244/244\u001b[0m \u001b[32m━━━━━━━━━━━━━━━━━━━━\u001b[0m\u001b[37m\u001b[0m \u001b[1m7s\u001b[0m 27ms/step - accuracy: 0.8865 - loss: 0.2626 - val_accuracy: 0.7431 - val_loss: 0.6583\n",
      "Epoch 10/10\n",
      "\u001b[1m244/244\u001b[0m \u001b[32m━━━━━━━━━━━━━━━━━━━━\u001b[0m\u001b[37m\u001b[0m \u001b[1m7s\u001b[0m 28ms/step - accuracy: 0.8939 - loss: 0.2557 - val_accuracy: 0.7442 - val_loss: 0.6831\n"
     ]
    }
   ],
   "source": [
    "# Reshape data for LSTM\n",
    "X_train_lstm = X_train.reshape(X_train.shape[0], 1, X_train.shape[1])\n",
    "X_test_lstm = X_test.reshape(X_test.shape[0], 1, X_test.shape[1])\n",
    "\n",
    "# Build the LSTM model\n",
    "lstm_model = Sequential()\n",
    "lstm_model.add(LSTM(100, input_shape=(1, X_train.shape[1])))\n",
    "lstm_model.add(Dropout(0.5))\n",
    "lstm_model.add(Dense(y_train.shape[1], activation='softmax'))\n",
    "\n",
    "# Compile the model\n",
    "lstm_model.compile(loss='categorical_crossentropy', optimizer='adam', metrics=['accuracy'])\n",
    "\n",
    "# Train the model\n",
    "lstm_history = lstm_model.fit(X_train_lstm, y_train, epochs=10, batch_size=64, validation_data=(X_test_lstm, y_test), verbose=1)\n"
   ]
  },
  {
   "cell_type": "markdown",
   "id": "9d1e8861-b47b-4181-99f5-17b35aa1382b",
   "metadata": {},
   "source": [
    "## Evalutation the model and calculate metrix\n",
    "\n",
    "Model Evaluation:\n",
    "Evaluates the model on the test set to get the loss and accuracy.\n",
    "\n",
    "Predictions: \n",
    "Generates predictions and calculates the predicted labels.\n",
    "    \n",
    "Display Labels:\n",
    "Shows the first 10 actual and predicted labels for reference.\n",
    "                                              \n",
    "Calculate Metrics: \n",
    "Computes accuracy, precision, recall, F1 score, confusion matrix, and ROC AUC to assess the model’s performance.\n",
    "    \n",
    "Print Metrics: \n",
    "Outputs the computed metrics for analysis.\n",
    "                    \n",
    "Plot Confusion Matrix:\n",
    "Visualizes the confusion matrix to show the model’s performance in terms of true positives, true negatives, false positives, and false negatives.\n",
    "                    \n",
    "Plot ROC Curve:\n",
    "Visualizes the ROC curves for each class to show the model’s ability to distinguish between classes."
   ]
  },
  {
   "cell_type": "code",
   "execution_count": 21,
   "id": "a5708a52-198c-4581-aab5-347bccbe4cb2",
   "metadata": {},
   "outputs": [
    {
     "name": "stdout",
     "output_type": "stream",
     "text": [
      "\u001b[1m122/122\u001b[0m \u001b[32m━━━━━━━━━━━━━━━━━━━━\u001b[0m\u001b[37m\u001b[0m \u001b[1m0s\u001b[0m 2ms/step\n",
      "Dense Model - Accuracy: 0.7444, Precision: 0.7435, Recall: 0.7444, F1 Score: 0.7426, ROC AUC: 0.8191\n",
      "\u001b[1m122/122\u001b[0m \u001b[32m━━━━━━━━━━━━━━━━━━━━\u001b[0m\u001b[37m\u001b[0m \u001b[1m7s\u001b[0m 55ms/step\n",
      "CNN Model - Accuracy: 0.7408, Precision: 0.7398, Recall: 0.7408, F1 Score: 0.7398, ROC AUC: 0.8099\n",
      "\u001b[1m122/122\u001b[0m \u001b[32m━━━━━━━━━━━━━━━━━━━━\u001b[0m\u001b[37m\u001b[0m \u001b[1m0s\u001b[0m 2ms/step\n",
      "LSTM Model - Accuracy: 0.7442, Precision: 0.7431, Recall: 0.7442, F1 Score: 0.7428, ROC AUC: 0.8144\n"
     ]
    }
   ],
   "source": [
    "from sklearn.metrics import accuracy_score, precision_score, recall_score, f1_score, confusion_matrix, roc_auc_score, roc_curve, auc\n",
    "import matplotlib.pyplot as plt\n",
    "import seaborn as sns\n",
    "import numpy as np\n",
    "\n",
    "def evaluate_model(model, X_test, y_test):\n",
    "    y_pred_probs = model.predict(X_test)\n",
    "    y_pred = np.argmax(y_pred_probs, axis=1)\n",
    "    y_test_true = np.argmax(y_test, axis=1)\n",
    "    \n",
    "    accuracy = accuracy_score(y_test_true, y_pred)\n",
    "    precision = precision_score(y_test_true, y_pred, average='weighted')\n",
    "    recall = recall_score(y_test_true, y_pred, average='weighted')\n",
    "    f1 = f1_score(y_test_true, y_pred, average='weighted')\n",
    "    roc_auc = roc_auc_score(y_test, y_pred_probs, multi_class='ovr')\n",
    "    \n",
    "    return accuracy, precision, recall, f1, roc_auc\n",
    "\n",
    "# Evaluate Dense Model\n",
    "dense_metrics = evaluate_model(dense_model, X_test, y_test)\n",
    "print(\"Dense Model - Accuracy: {:.4f}, Precision: {:.4f}, Recall: {:.4f}, F1 Score: {:.4f}, ROC AUC: {:.4f}\".format(*dense_metrics))\n",
    "\n",
    "# Evaluate CNN Model\n",
    "cnn_metrics = evaluate_model(cnn_model, X_test_cnn, y_test)\n",
    "print(\"CNN Model - Accuracy: {:.4f}, Precision: {:.4f}, Recall: {:.4f}, F1 Score: {:.4f}, ROC AUC: {:.4f}\".format(*cnn_metrics))\n",
    "\n",
    "# Evaluate LSTM Model\n",
    "lstm_metrics = evaluate_model(lstm_model, X_test_lstm, y_test)\n",
    "print(\"LSTM Model - Accuracy: {:.4f}, Precision: {:.4f}, Recall: {:.4f}, F1 Score: {:.4f}, ROC AUC: {:.4f}\".format(*lstm_metrics))\n"
   ]
  },
  {
   "cell_type": "markdown",
   "id": "ac2187b7-57b5-4c67-93ce-8e4182e0b294",
   "metadata": {},
   "source": [
    "## Selecting and Evaluating the Best Deep Learning Model\n",
    "\n",
    " Determine the best model among the Dense, CNN, and LSTM models based on their accuracy. We then re-evaluate the best model for a detailed analysis, including the confusion matrix and ROC curve.\n",
    "\n",
    "\n",
    "Initialization:\n",
    "\n",
    "We initialize variables to keep track of the best model (best_model), its metrics (best_metrics), and its name (best_name).\n",
    "Determining the Best Model:\n",
    "\n",
    "We iterate through each model, compare their accuracies, and update best_model, best_metrics, and best_name accordingly.\n",
    "Re-evaluation for Detailed Analysis:\n",
    "\n",
    "Based on the best model, we prepare the test data (X_test_best) in the required format for re-evaluation.\n",
    "We make predictions on the test data and convert the predicted probabilities to class labels.\n",
    "We also convert the true labels from one-hot encoding to class labels.\n",
    "Confusion Matrix:\n",
    "\n",
    "We compute the confusion matrix to visualize the performance of the best model.\n",
    "A confusion matrix shows the counts of actual vs. predicted classifications, which helps in understanding the model's performance in detail.\n",
    "ROC Curve:\n",
    "\n",
    "We calculate the ROC curve for each class to evaluate the model's performance.\n",
    "ROC curves plot the true positive rate (sensitivity) against the false positive rate (1-specificity), providing insight into the trade-off between sensitivity and specificity for different threshold values.\n",
    "The Area Under the Curve (AUC) is also computed to summarize the model's performance across all thresholds."
   ]
  },
  {
   "cell_type": "code",
   "execution_count": 17,
   "id": "af30a9d1-4262-4c06-81b3-c8866cb6ab72",
   "metadata": {},
   "outputs": [
    {
     "name": "stdout",
     "output_type": "stream",
     "text": [
      "Best model is Dense with accuracy 0.7444\n",
      "\u001b[1m122/122\u001b[0m \u001b[32m━━━━━━━━━━━━━━━━━━━━\u001b[0m\u001b[37m\u001b[0m \u001b[1m0s\u001b[0m 2ms/step\n"
     ]
    },
    {
     "data": {
      "image/png": "[encoded data removed]",
      "text/plain": [
       "<Figure size 1000x700 with 2 Axes>"
      ]
     },
     "metadata": {},
     "output_type": "display_data"
    },
    {
     "data": {
      "image/png": "[encoded data removed]",
      "text/plain": [
       "<Figure size 640x480 with 1 Axes>"
      ]
     },
     "metadata": {},
     "output_type": "display_data"
    }
   ],
   "source": [
    "best_model = None\n",
    "best_metrics = None\n",
    "best_name = \"\"\n",
    "\n",
    "# Determine the best model based on accuracy\n",
    "models = [dense_model, cnn_model, lstm_model]\n",
    "metrics = [dense_metrics, cnn_metrics, lstm_metrics]\n",
    "names = [\"Dense\", \"CNN\", \"LSTM\"]\n",
    "\n",
    "for model, metric, name in zip(models, metrics, names):\n",
    "    if best_metrics is None or metric[0] > best_metrics[0]:  # Compare by accuracy\n",
    "        best_model = model\n",
    "        best_metrics = metric\n",
    "        best_name = name\n",
    "\n",
    "print(f\"Best model is {best_name} with accuracy {best_metrics[0]:.4f}\")\n",
    "\n",
    "# Re-evaluate best model for detailed analysis\n",
    "X_test_best = X_test_cnn if best_name == \"CNN\" else (X_test_lstm if best_name in [\"LSTM\", \"BiLSTM\"] else X_test)\n",
    "y_pred_probs = best_model.predict(X_test_best)\n",
    "y_pred = np.argmax(y_pred_probs, axis=1)\n",
    "y_test_true = np.argmax(y_test, axis=1)\n",
    "\n",
    "# Calculate confusion matrix\n",
    "conf_matrix = confusion_matrix(y_test_true, y_pred)\n",
    "plt.figure(figsize=(10, 7))\n",
    "sns.heatmap(conf_matrix, annot=True, fmt='d', cmap='Blues')\n",
    "plt.xlabel('Predicted')\n",
    "plt.ylabel('Actual')\n",
    "plt.title(f'Confusion Matrix for {best_name}')\n",
    "plt.show()\n",
    "\n",
    "# Plot ROC Curve\n",
    "fpr = {}\n",
    "tpr = {}\n",
    "roc_auc = {}\n",
    "for i in range(y_test.shape[1]):\n",
    "    fpr[i], tpr[i], _ = roc_curve(y_test[:, i], y_pred_probs[:, i])\n",
    "    roc_auc[i] = auc(fpr[i], tpr[i])\n",
    "\n",
    "plt.figure()\n",
    "colors = ['aqua', 'darkorange', 'cornflowerblue']\n",
    "for i, color in zip(range(y_test.shape[1]), colors):\n",
    "    plt.plot(fpr[i], tpr[i], color=color, lw=2, label='ROC curve of class {0} (area = {1:0.2f})'.format(i, roc_auc[i]))\n",
    "\n",
    "plt.plot([0, 1], [0, 1], 'k--', lw=2)\n",
    "plt.xlim([0.0, 1.0])\n",
    "plt.ylim([0.0, 1.05])\n",
    "plt.xlabel('False Positive Rate')\n",
    "plt.ylabel('True Positive Rate')\n",
    "plt.title(f'ROC Curve for {best_name}')\n",
    "plt.legend(loc=\"lower right\")\n",
    "plt.show()\n"
   ]
  },
  {
   "cell_type": "markdown",
   "id": "c0c7b26b-e1e7-4c31-9792-f3961a9c03e0",
   "metadata": {},
   "source": [
    "## In Summary\n",
    "\n",
    "among these three models Dense model has more accuracy so we finilized the dense model.\n",
    "\n",
    "## Confusion Matrix for Dense Model\n",
    " 1767 instances where the model correctly predicted class 0.\n",
    " 415 instances where the model incorrectly predicted class 1.\n",
    "\n",
    "## ROC Curve for Dense Model\n",
    "True Positive Rate (TPR): Also known as recall or sensitivity, this measures the proportion of actual positives correctly identified.                                                      \n",
    "False Positive Rate (FPR): This measures the proportion of actual negatives incorrectly identified as positives.                                                      \n",
    "ROC Curve: Plots TPR against FPR at various threshold settings, showing the trade-off between sensitivity and specificity.                                                     \n",
    "AUC (Area Under the Curve): Represents the degree of separability achieved by the model. AUC values close to 1 indicate a good model, while values close to 0.5 suggest a model that performs no better than random guessing.\n",
    "\n",
    "## Observations in curve\n",
    "Class 0 and Class 1 AUC Scores, Both classes have an AUC score of 0.82, indicating a fairly good performance of the dense model in distinguishing between the two classes."
   ]
  },
  {
   "cell_type": "code",
   "execution_count": null,
   "id": "e37a75d2-a43e-4ab1-a9ee-1f0c96b3bf74",
   "metadata": {},
   "outputs": [],
   "source": []
  }
 ],
 "metadata": {
  "kernelspec": {
   "display_name": "Python 3 (ipykernel)",
   "language": "python",
   "name": "python3"
  },
  "language_info": {
   "codemirror_mode": {
    "name": "ipython",
    "version": 3
   },
   "file_extension": ".py",
   "mimetype": "text/x-python",
   "name": "python",
   "nbconvert_exporter": "python",
   "pygments_lexer": "ipython3",
   "version": "3.11.7"
  }
 },
 "nbformat": 4,
 "nbformat_minor": 5
}
