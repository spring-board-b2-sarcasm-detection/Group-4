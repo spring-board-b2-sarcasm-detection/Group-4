{
 "cells": [
  {
   "cell_type": "markdown",
   "id": "c8e97481-535a-4083-9fff-144c3ce467fd",
   "metadata": {
    "id": "c8e97481-535a-4083-9fff-144c3ce467fd"
   },
   "source": [
    "# Sarcasm Detection on YouTube Comments - Data Preprocessing\n",
    "\n",
    "This notebook demonstrates the steps for preprocessing a dataset for sarcasm detection in YouTube comments using deep learning. The preprocessing steps include loading the dataset, cleaning the data, text normalization, and preparing the data for model training.\n",
    "\n",
    "## Dataset Overview\n",
    "\n",
    "We are using a dataset of YouTube comments which contains the following columns:\n",
    "- `text`: The text of the YouTube comment.\n",
    "- `labels`: The target label indicating whether the comment is sarcastic (1) or not (0).\n",
    "\n",
    "Let's load the dataset and take a look at its structure.\n",
    "\n"
   ]
  },
  {
   "cell_type": "code",
   "execution_count": 40,
   "id": "73fd188c-e404-4a7b-bbc7-7662b95d0c66",
   "metadata": {
    "id": "73fd188c-e404-4a7b-bbc7-7662b95d0c66"
   },
   "outputs": [],
   "source": [
    "import numpy as np\n",
    "import pandas as pd\n"
   ]
  },
  {
   "cell_type": "code",
   "execution_count": 41,
   "id": "fad4737b-676a-4fa6-aab8-d5462342efc1",
   "metadata": {
    "id": "fad4737b-676a-4fa6-aab8-d5462342efc1"
   },
   "outputs": [],
   "source": [
    "# Load the dataset\n",
    "file_path = 'M:\\\\Internships\\\\infosys_springboard\\\\Notebooks\\\\sarcasm_training.csv'\n",
    "df = pd.read_csv(file_path)\n",
    "\n"
   ]
  },
  {
   "cell_type": "code",
   "execution_count": 42,
   "id": "9c4cf2b3-1653-4eb5-8b0a-54076e54c9ca",
   "metadata": {
    "colab": {
     "base_uri": "https://localhost:8080/",
     "height": 206
    },
    "id": "9c4cf2b3-1653-4eb5-8b0a-54076e54c9ca",
    "outputId": "6af767bd-da1d-458b-ed67-82961e1c92f2"
   },
   "outputs": [
    {
     "data": {
      "text/html": [
       "<div>\n",
       "<style scoped>\n",
       "    .dataframe tbody tr th:only-of-type {\n",
       "        vertical-align: middle;\n",
       "    }\n",
       "\n",
       "    .dataframe tbody tr th {\n",
       "        vertical-align: top;\n",
       "    }\n",
       "\n",
       "    .dataframe thead th {\n",
       "        text-align: right;\n",
       "    }\n",
       "</style>\n",
       "<table border=\"1\" class=\"dataframe\">\n",
       "  <thead>\n",
       "    <tr style=\"text-align: right;\">\n",
       "      <th></th>\n",
       "      <th>text</th>\n",
       "      <th>labels</th>\n",
       "    </tr>\n",
       "  </thead>\n",
       "  <tbody>\n",
       "    <tr>\n",
       "      <th>0</th>\n",
       "      <td>&lt;user&gt; thanks for showing up for our appointme...</td>\n",
       "      <td>1</td>\n",
       "    </tr>\n",
       "    <tr>\n",
       "      <th>1</th>\n",
       "      <td>haha .  # lol</td>\n",
       "      <td>1</td>\n",
       "    </tr>\n",
       "    <tr>\n",
       "      <th>2</th>\n",
       "      <td>i love waiting &lt;num&gt; min for a cab - such shor...</td>\n",
       "      <td>1</td>\n",
       "    </tr>\n",
       "    <tr>\n",
       "      <th>3</th>\n",
       "      <td>22 super funny quotes # funnyquotes  # funnysa...</td>\n",
       "      <td>1</td>\n",
       "    </tr>\n",
       "    <tr>\n",
       "      <th>4</th>\n",
       "      <td>goog morning  # sorrynotsorry # morning</td>\n",
       "      <td>1</td>\n",
       "    </tr>\n",
       "  </tbody>\n",
       "</table>\n",
       "</div>"
      ],
      "text/plain": [
       "                                                text  labels\n",
       "0  <user> thanks for showing up for our appointme...       1\n",
       "1                                      haha .  # lol       1\n",
       "2  i love waiting <num> min for a cab - such shor...       1\n",
       "3  22 super funny quotes # funnyquotes  # funnysa...       1\n",
       "4            goog morning  # sorrynotsorry # morning       1"
      ]
     },
     "execution_count": 42,
     "metadata": {},
     "output_type": "execute_result"
    }
   ],
   "source": [
    "# Display the first few rows of the dataset\n",
    "df.head()"
   ]
  },
  {
   "cell_type": "markdown",
   "id": "757a74a1-c332-4fe2-84ff-ecbe208c4673",
   "metadata": {
    "id": "757a74a1-c332-4fe2-84ff-ecbe208c4673"
   },
   "source": [
    "### Data Cleaning:\n",
    "- **Removing Mentions, Hashtags, URLs, HTML Tags, Punctuations, and Numbers**: \n",
    "  This step involves eliminating various non-essential elements from the text data, including mentions (e.g., \"@username\"), hashtags (e.g., \"#hashtag\"), URLs, HTML tags, punctuations, and numeric characters."
   ]
  },
  {
   "cell_type": "code",
   "execution_count": 43,
   "id": "da68136c-f267-40dc-b0f3-760fece1b942",
   "metadata": {
    "colab": {
     "base_uri": "https://localhost:8080/"
    },
    "id": "da68136c-f267-40dc-b0f3-760fece1b942",
    "outputId": "a728ecf8-1bd6-4483-e1b5-a69277b3b5f9"
   },
   "outputs": [
    {
     "name": "stdout",
     "output_type": "stream",
     "text": [
      "text      0\n",
      "labels    0\n",
      "dtype: int64\n"
     ]
    }
   ],
   "source": [
    "# Check for missing values\n",
    "print(df.isnull().sum())\n"
   ]
  },
  {
   "cell_type": "markdown",
   "id": "f6cfa247-05e5-4710-9093-83e225a05faa",
   "metadata": {
    "id": "f6cfa247-05e5-4710-9093-83e225a05faa"
   },
   "source": [
    "-> There is no null values in this dataset."
   ]
  },
  {
   "cell_type": "code",
   "execution_count": 44,
   "id": "7738098f-db85-4e6c-b468-5ea415b6b91d",
   "metadata": {
    "colab": {
     "base_uri": "https://localhost:8080/"
    },
    "id": "7738098f-db85-4e6c-b468-5ea415b6b91d",
    "outputId": "91cc84fb-8e95-4031-9f21-a2cd76278285"
   },
   "outputs": [
    {
     "name": "stdout",
     "output_type": "stream",
     "text": [
      "Duplicate rows: 356\n"
     ]
    }
   ],
   "source": [
    "# Check for duplicates\n",
    "print(f'Duplicate rows: {df.duplicated().sum()}')"
   ]
  },
  {
   "cell_type": "code",
   "execution_count": 45,
   "id": "d9cced94-cb3c-4600-9b9e-dac074984f9c",
   "metadata": {
    "id": "d9cced94-cb3c-4600-9b9e-dac074984f9c"
   },
   "outputs": [],
   "source": [
    "# Drop duplicates\n",
    "df.drop_duplicates(inplace=True)"
   ]
  },
  {
   "cell_type": "code",
   "execution_count": 46,
   "id": "1d783c9c-1e3a-4759-bf98-9760350c243d",
   "metadata": {
    "colab": {
     "base_uri": "https://localhost:8080/",
     "height": 386
    },
    "id": "1d783c9c-1e3a-4759-bf98-9760350c243d",
    "outputId": "669eae86-4a75-471a-f58f-cc7f3d64ffba"
   },
   "outputs": [
    {
     "data": {
      "text/html": [
       "<div>\n",
       "<style scoped>\n",
       "    .dataframe tbody tr th:only-of-type {\n",
       "        vertical-align: middle;\n",
       "    }\n",
       "\n",
       "    .dataframe tbody tr th {\n",
       "        vertical-align: top;\n",
       "    }\n",
       "\n",
       "    .dataframe thead th {\n",
       "        text-align: right;\n",
       "    }\n",
       "</style>\n",
       "<table border=\"1\" class=\"dataframe\">\n",
       "  <thead>\n",
       "    <tr style=\"text-align: right;\">\n",
       "      <th></th>\n",
       "      <th>text</th>\n",
       "      <th>labels</th>\n",
       "    </tr>\n",
       "  </thead>\n",
       "  <tbody>\n",
       "    <tr>\n",
       "      <th>0</th>\n",
       "      <td>&lt;user&gt; thanks for showing up for our appointme...</td>\n",
       "      <td>1</td>\n",
       "    </tr>\n",
       "    <tr>\n",
       "      <th>1</th>\n",
       "      <td>haha .  # lol</td>\n",
       "      <td>1</td>\n",
       "    </tr>\n",
       "    <tr>\n",
       "      <th>2</th>\n",
       "      <td>i love waiting &lt;num&gt; min for a cab - such shor...</td>\n",
       "      <td>1</td>\n",
       "    </tr>\n",
       "    <tr>\n",
       "      <th>3</th>\n",
       "      <td>22 super funny quotes # funnyquotes  # funnysa...</td>\n",
       "      <td>1</td>\n",
       "    </tr>\n",
       "    <tr>\n",
       "      <th>4</th>\n",
       "      <td>goog morning  # sorrynotsorry # morning</td>\n",
       "      <td>1</td>\n",
       "    </tr>\n",
       "  </tbody>\n",
       "</table>\n",
       "</div>"
      ],
      "text/plain": [
       "                                                text  labels\n",
       "0  <user> thanks for showing up for our appointme...       1\n",
       "1                                      haha .  # lol       1\n",
       "2  i love waiting <num> min for a cab - such shor...       1\n",
       "3  22 super funny quotes # funnyquotes  # funnysa...       1\n",
       "4            goog morning  # sorrynotsorry # morning       1"
      ]
     },
     "execution_count": 46,
     "metadata": {},
     "output_type": "execute_result"
    }
   ],
   "source": [
    "# Display the cleaned dataset\n",
    "df.reset_index(drop=True, inplace=True)\n",
    "df.head()"
   ]
  },
  {
   "cell_type": "code",
   "execution_count": 47,
   "id": "dc50915d-6a5b-43d4-82eb-4ba0870f6492",
   "metadata": {
    "colab": {
     "base_uri": "https://localhost:8080/"
    },
    "id": "dc50915d-6a5b-43d4-82eb-4ba0870f6492",
    "outputId": "c4d25c4e-7584-4645-ddb6-860297997a47"
   },
   "outputs": [
    {
     "data": {
      "text/plain": [
       "(19461, 2)"
      ]
     },
     "execution_count": 47,
     "metadata": {},
     "output_type": "execute_result"
    }
   ],
   "source": [
    "df.shape"
   ]
  },
  {
   "cell_type": "markdown",
   "id": "33229afd-e210-480d-9604-a20c7ffdfa97",
   "metadata": {},
   "source": [
    "## Removing Text Emojis Followed by Numbers"
   ]
  },
  {
   "cell_type": "markdown",
   "id": "428803cf-613d-40ad-a804-88373719b7c0",
   "metadata": {},
   "source": [
    "### Finding the Problem:\n",
    "-> We discovered a discrepancy in the number of emojis within our dataset. While we expected around 3,782 emojis, the dataset indicated a count of 7,993.\n",
    "\n",
    "-> The issue occurred because I struggled to accurately recognize and map the emojis in the dataset."
   ]
  },
  {
   "cell_type": "code",
   "execution_count": 48,
   "id": "nibrhI9PQPKT",
   "metadata": {
    "colab": {
     "base_uri": "https://localhost:8080/"
    },
    "id": "nibrhI9PQPKT",
    "outputId": "5d25dfaf-6754-44c6-b5bc-89784f85fcb0"
   },
   "outputs": [
    {
     "name": "stdout",
     "output_type": "stream",
     "text": [
      "                                                    text  labels\n",
      "0      <user> thanks for showing up for our appointme...       1\n",
      "1                                          haha .  # lol       1\n",
      "2      i love waiting <num> min for a cab - such shor...       1\n",
      "3      22 super funny quotes # funnyquotes  # funnysa...       1\n",
      "4                goog morning  # sorrynotsorry # morning       1\n",
      "...                                                  ...     ...\n",
      "19456                                 such a good read         0\n",
      "19457  this is some people 's living conditions , alw...       0\n",
      "19458  winner - seungyoon ( simple ) - rt if u save -...       0\n",
      "19459  ok but concept : kravitz passing notes between...       0\n",
      "19460                   life is good, you should get one       1\n",
      "\n",
      "[19461 rows x 2 columns]\n"
     ]
    }
   ],
   "source": [
    "import pandas as pd\n",
    "import re\n",
    "\n",
    "\n",
    "# Function to remove emoji followed by numbers\n",
    "def remove_emoji_followed_by_numbers(text):\n",
    "    return re.sub(r'emoji[_\\d]+', '', text)\n",
    "\n",
    "# Apply the function to the DataFrame column\n",
    "df['text'] = df['text'].apply(remove_emoji_followed_by_numbers)\n",
    "\n",
    "# Output the modified DataFrame\n",
    "print(df)\n"
   ]
  },
  {
   "cell_type": "code",
   "execution_count": 49,
   "id": "8a766c4f-8542-4b06-a509-b9f388bdc81b",
   "metadata": {},
   "outputs": [],
   "source": [
    "import pandas as pd\n",
    "\n",
    "def remove_empty_rows(df, column_name):\n",
    "    \"\"\"\n",
    "    Removes rows with empty strings in the specified column of the DataFrame.\n",
    "\n",
    "    Parameters:\n",
    "        df (DataFrame): The input DataFrame.\n",
    "        column_name (str): The name of the column to check for empty strings.\n",
    "\n",
    "    Returns:\n",
    "        DataFrame: The DataFrame with empty rows removed.\n",
    "    \"\"\"\n",
    "    return df[df[column_name].str.strip().astype(bool)].reset_index(drop=True)\n",
    "\n",
    "\n",
    "    # Specifying the column containing the text data\n",
    "    text_column_name = 'text'\n",
    "    \n",
    "    # Removing rows with empty strings in the specified column\n",
    "    df_cleaned = remove_empty_rows(df, text_column_name)\n",
    "    \n",
    "    # Saving the modified dataset\n",
    "    df_cleaned.to_csv('comments_without_empty_strings.csv', index=False)\n"
   ]
  },
  {
   "cell_type": "code",
   "execution_count": 50,
   "id": "9f7357c6-b2e0-4c5d-9102-2477a6e86902",
   "metadata": {},
   "outputs": [],
   "source": [
    "# Saving the modified dataset\n",
    "df.to_csv('comments_without_empty_strings.csv', index=False)#"
   ]
  },
  {
   "cell_type": "markdown",
   "id": "e1dd2115-a26c-4d2f-a138-5abdfd1dd165",
   "metadata": {
    "id": "e1dd2115-a26c-4d2f-a138-5abdfd1dd165"
   },
   "source": [
    "### Tokenization and Lemmatization:\n",
    "- **Tokenization and Lemmatization**:\n",
    "  - **Tokenization**: Splitting text into individual words or tokens.\n",
    "  - **Lemmatization**: Converting tokens to their base or root forms. For example, \"running\" becomes \"run\" after lemmatization."
   ]
  },
  {
   "cell_type": "code",
   "execution_count": 51,
   "id": "5203966d-487f-4162-aefa-2865becd45af",
   "metadata": {
    "id": "5203966d-487f-4162-aefa-2865becd45af"
   },
   "outputs": [],
   "source": [
    "import re\n",
    "import nltk\n",
    "from nltk.corpus import stopwords\n",
    "from nltk.tokenize import word_tokenize"
   ]
  },
  {
   "cell_type": "code",
   "execution_count": 52,
   "id": "bac37fa3-708c-4dc6-8683-adfc2288ccd6",
   "metadata": {
    "colab": {
     "base_uri": "https://localhost:8080/"
    },
    "id": "bac37fa3-708c-4dc6-8683-adfc2288ccd6",
    "outputId": "2748ec2f-c02f-4dd5-dd6b-479f21f252de"
   },
   "outputs": [
    {
     "name": "stderr",
     "output_type": "stream",
     "text": [
      "[nltk_data] Downloading package punkt to\n",
      "[nltk_data]     C:\\Users\\manis\\AppData\\Roaming\\nltk_data...\n",
      "[nltk_data]   Package punkt is already up-to-date!\n",
      "[nltk_data] Downloading package wordnet to\n",
      "[nltk_data]     C:\\Users\\manis\\AppData\\Roaming\\nltk_data...\n",
      "[nltk_data]   Package wordnet is already up-to-date!\n",
      "[nltk_data] Downloading package stopwords to\n",
      "[nltk_data]     C:\\Users\\manis\\AppData\\Roaming\\nltk_data...\n",
      "[nltk_data]   Package stopwords is already up-to-date!\n"
     ]
    }
   ],
   "source": [
    "import string\n",
    "from sklearn.model_selection import train_test_split\n",
    "from sklearn.feature_extraction.text import TfidfVectorizer\n",
    "import nltk\n",
    "\n",
    "# Download NLTK data\n",
    "nltk.download('punkt')\n",
    "nltk.download('wordnet')\n",
    "nltk.download('stopwords')\n",
    "\n",
    "from nltk.tokenize import word_tokenize\n",
    "from nltk.corpus import stopwords\n",
    "from nltk.stem import WordNetLemmatizer\n"
   ]
  },
  {
   "cell_type": "code",
   "execution_count": 53,
   "id": "dfa50219-f0b9-4cfc-8b2c-b6ac0afee898",
   "metadata": {},
   "outputs": [],
   "source": [
    "# Initialize the lemmatizer\n",
    "lemmatizer = WordNetLemmatizer()"
   ]
  },
  {
   "cell_type": "code",
   "execution_count": 54,
   "id": "573f0628-9a8c-462c-a15d-87c3842c6375",
   "metadata": {
    "id": "573f0628-9a8c-462c-a15d-87c3842c6375"
   },
   "outputs": [],
   "source": [
    "# Function to preprocess text\n",
    "def preprocess_text(text):\n",
    "    # Convert to lowercase\n",
    "    text = text.lower()\n",
    "    # Remove punctuation and special characters\n",
    "    text = re.sub(r'[^a-zA-Z0-9\\s]', '', text)\n",
    "    # Tokenize the text\n",
    "    tokens = word_tokenize(text)\n",
    "    # Remove stopwords\n",
    "    stop_words = set(stopwords.words('english'))\n",
    "    tokens = [word for word in tokens if word not in stop_words]\n",
    "    # Lemmatize tokens\n",
    "    tokens = [lemmatizer.lemmatize(word) for word in tokens]\n",
    "    return ' '.join(tokens)"
   ]
  },
  {
   "cell_type": "code",
   "execution_count": 55,
   "id": "6b96fa78-51ed-42b8-85cc-0abd78189d9c",
   "metadata": {
    "id": "6b96fa78-51ed-42b8-85cc-0abd78189d9c"
   },
   "outputs": [],
   "source": [
    "# Apply preprocessing to the comments\n",
    "df['cleaned_comment'] = df['text'].apply(preprocess_text)"
   ]
  },
  {
   "cell_type": "code",
   "execution_count": 73,
   "id": "d1f9b4ee-e9d5-404c-91de-5f7111303b21",
   "metadata": {},
   "outputs": [],
   "source": [
    "# Filter out rows where 'cleaned_comment' is empty\n",
    "df = df[df['cleaned_comment'].str.strip() != '']\n"
   ]
  },
  {
   "cell_type": "code",
   "execution_count": 74,
   "id": "b7d0d4d7-9122-4777-b378-dc62dc0a5e32",
   "metadata": {
    "colab": {
     "base_uri": "https://localhost:8080/",
     "height": 206
    },
    "id": "b7d0d4d7-9122-4777-b378-dc62dc0a5e32",
    "outputId": "a241f77c-68c6-41e9-b01b-958a0daed2eb",
    "scrolled": true
   },
   "outputs": [
    {
     "data": {
      "text/html": [
       "<div>\n",
       "<style scoped>\n",
       "    .dataframe tbody tr th:only-of-type {\n",
       "        vertical-align: middle;\n",
       "    }\n",
       "\n",
       "    .dataframe tbody tr th {\n",
       "        vertical-align: top;\n",
       "    }\n",
       "\n",
       "    .dataframe thead th {\n",
       "        text-align: right;\n",
       "    }\n",
       "</style>\n",
       "<table border=\"1\" class=\"dataframe\">\n",
       "  <thead>\n",
       "    <tr style=\"text-align: right;\">\n",
       "      <th></th>\n",
       "      <th>labels</th>\n",
       "      <th>cleaned_comment</th>\n",
       "    </tr>\n",
       "  </thead>\n",
       "  <tbody>\n",
       "    <tr>\n",
       "      <th>0</th>\n",
       "      <td>1</td>\n",
       "      <td>user thanks showing appointment today</td>\n",
       "    </tr>\n",
       "    <tr>\n",
       "      <th>1</th>\n",
       "      <td>1</td>\n",
       "      <td>haha lol</td>\n",
       "    </tr>\n",
       "    <tr>\n",
       "      <th>2</th>\n",
       "      <td>1</td>\n",
       "      <td>love waiting num min cab shortage user please ...</td>\n",
       "    </tr>\n",
       "    <tr>\n",
       "      <th>3</th>\n",
       "      <td>1</td>\n",
       "      <td>22 super funny quote funnyquotes funnysayings ...</td>\n",
       "    </tr>\n",
       "    <tr>\n",
       "      <th>4</th>\n",
       "      <td>1</td>\n",
       "      <td>goog morning sorrynotsorry morning</td>\n",
       "    </tr>\n",
       "  </tbody>\n",
       "</table>\n",
       "</div>"
      ],
      "text/plain": [
       "   labels                                    cleaned_comment\n",
       "0       1              user thanks showing appointment today\n",
       "1       1                                           haha lol\n",
       "2       1  love waiting num min cab shortage user please ...\n",
       "3       1  22 super funny quote funnyquotes funnysayings ...\n",
       "4       1                 goog morning sorrynotsorry morning"
      ]
     },
     "execution_count": 74,
     "metadata": {},
     "output_type": "execute_result"
    }
   ],
   "source": [
    "# Display the first few rows of the preprocessed dataset\n",
    "df.head()"
   ]
  },
  {
   "cell_type": "code",
   "execution_count": 75,
   "id": "e9104f6d-7733-4081-a5d2-e3fbd9aa5610",
   "metadata": {},
   "outputs": [],
   "source": [
    "# #loading the dataset\n",
    "#df.to_csv('M:/Internships/infosys_springboard/Notebooks/Preprocessing/preprocessed_dataset111.csv',index = False)"
   ]
  },
  {
   "cell_type": "code",
   "execution_count": 58,
   "id": "c6f024c4-d05a-43b6-85b6-04ebd763554e",
   "metadata": {},
   "outputs": [
    {
     "name": "stdout",
     "output_type": "stream",
     "text": [
      "Number of empty strings: 41\n"
     ]
    }
   ],
   "source": [
    "\n",
    "# Checking for empty strings in the 'cleaned_comment' column\n",
    "empty_strings_mask = df['cleaned_comment'].str.strip().astype(bool)\n",
    "\n",
    "# Now, you can use this mask to filter the DataFrame\n",
    "non_empty_df = df[empty_strings_mask]\n",
    "\n",
    "# To count the number of empty strings:\n",
    "num_empty_strings = (~empty_strings_mask).sum()\n",
    "\n",
    "print(\"Number of empty strings:\", num_empty_strings)"
   ]
  },
  {
   "cell_type": "markdown",
   "id": "3c1ca543-42df-4b9e-81a3-56d5291b8199",
   "metadata": {
    "id": "3c1ca543-42df-4b9e-81a3-56d5291b8199"
   },
   "source": [
    "## Data Visualization\n",
    "\n",
    "We can visualize the distribution of the labels to understand the class balance in our dataset. This is important as it impacts model training.\n",
    "\n"
   ]
  },
  {
   "cell_type": "code",
   "execution_count": 59,
   "id": "13c95120-e7ee-4ce8-8c7c-679d7feab64c",
   "metadata": {
    "id": "13c95120-e7ee-4ce8-8c7c-679d7feab64c"
   },
   "outputs": [],
   "source": [
    "import matplotlib.pyplot as plt\n",
    "import seaborn as sns\n"
   ]
  },
  {
   "cell_type": "code",
   "execution_count": 60,
   "id": "ced82334-af71-4d98-9b17-b3b47b0aaa34",
   "metadata": {
    "colab": {
     "base_uri": "https://localhost:8080/",
     "height": 497
    },
    "id": "ced82334-af71-4d98-9b17-b3b47b0aaa34",
    "outputId": "10861853-41d6-4703-fde5-54c32bcae9d9"
   },
   "outputs": [
    {
     "name": "stderr",
     "output_type": "stream",
     "text": [
      "C:\\Users\\manis\\AppData\\Local\\Temp\\ipykernel_13388\\914287683.py:14: FutureWarning: \n",
      "\n",
      "Passing `palette` without assigning `hue` is deprecated and will be removed in v0.14.0. Assign the `x` variable to `hue` and set `legend=False` for the same effect.\n",
      "\n",
      "  ax = sns.countplot(x='labels', data=df, palette=color_palette)\n"
     ]
    },
    {
     "data": {
      "image/png": "[encoded data removed]",
      "text/plain": [
       "<Figure size 600x400 with 1 Axes>"
      ]
     },
     "metadata": {},
     "output_type": "display_data"
    }
   ],
   "source": [
    "import matplotlib.pyplot as plt\n",
    "import seaborn as sns\n",
    "\n",
    "# Assuming 'labels' is the column containing the labels in your DataFrame\n",
    "\n",
    "# Calculate percentage of each label\n",
    "label_counts = df['labels'].value_counts(normalize=True) * 100\n",
    "\n",
    "plt.figure(figsize=(6,4))\n",
    "\n",
    "# Define a color palette for each label\n",
    "color_palette = sns.color_palette(\"Set2\", len(label_counts))\n",
    "\n",
    "ax = sns.countplot(x='labels', data=df, palette=color_palette)\n",
    "\n",
    "total = len(df)\n",
    "# Annotate the bars with percentages\n",
    "for p in ax.patches:\n",
    "    percentage = '{:.2f}%'.format((p.get_height() * 100) / total)\n",
    "    ax.annotate(percentage, (p.get_x() + p.get_width() / 2., p.get_height()),\n",
    "                ha='center', va='center', fontsize=11, color='black', xytext=(0, 5),\n",
    "                textcoords='offset points')\n",
    "\n",
    "plt.title('Distribution of Sarcasm Labels')\n",
    "plt.xlabel('Label')\n",
    "plt.ylabel('Count')\n",
    "plt.show()\n"
   ]
  },
  {
   "cell_type": "code",
   "execution_count": 61,
   "id": "8970e7e5-3238-4441-923c-57af68a704f0",
   "metadata": {
    "colab": {
     "base_uri": "https://localhost:8080/"
    },
    "id": "8970e7e5-3238-4441-923c-57af68a704f0",
    "outputId": "60c34575-6e11-4ad1-f040-d8a333b9fd87"
   },
   "outputs": [
    {
     "data": {
      "text/plain": [
       "labels\n",
       "0    11056\n",
       "1     8405\n",
       "Name: count, dtype: int64"
      ]
     },
     "execution_count": 61,
     "metadata": {},
     "output_type": "execute_result"
    }
   ],
   "source": [
    "df.value_counts('labels')"
   ]
  },
  {
   "cell_type": "markdown",
   "id": "e200c698-6fc3-425b-895a-eb3f57c5fd66",
   "metadata": {},
   "source": [
    "### Droping the text column"
   ]
  },
  {
   "cell_type": "code",
   "execution_count": 62,
   "id": "534cf9c5-e754-4f33-b667-900d924c1dfe",
   "metadata": {},
   "outputs": [],
   "source": [
    "df.drop('text',axis = 1,inplace = True )"
   ]
  },
  {
   "cell_type": "code",
   "execution_count": 63,
   "id": "ca4df72a-aa36-4fa0-bd4e-0f76cd3bf2e6",
   "metadata": {},
   "outputs": [
    {
     "data": {
      "text/html": [
       "<div>\n",
       "<style scoped>\n",
       "    .dataframe tbody tr th:only-of-type {\n",
       "        vertical-align: middle;\n",
       "    }\n",
       "\n",
       "    .dataframe tbody tr th {\n",
       "        vertical-align: top;\n",
       "    }\n",
       "\n",
       "    .dataframe thead th {\n",
       "        text-align: right;\n",
       "    }\n",
       "</style>\n",
       "<table border=\"1\" class=\"dataframe\">\n",
       "  <thead>\n",
       "    <tr style=\"text-align: right;\">\n",
       "      <th></th>\n",
       "      <th>labels</th>\n",
       "      <th>cleaned_comment</th>\n",
       "    </tr>\n",
       "  </thead>\n",
       "  <tbody>\n",
       "    <tr>\n",
       "      <th>0</th>\n",
       "      <td>1</td>\n",
       "      <td>user thanks showing appointment today</td>\n",
       "    </tr>\n",
       "    <tr>\n",
       "      <th>1</th>\n",
       "      <td>1</td>\n",
       "      <td>haha lol</td>\n",
       "    </tr>\n",
       "    <tr>\n",
       "      <th>2</th>\n",
       "      <td>1</td>\n",
       "      <td>love waiting num min cab shortage user please ...</td>\n",
       "    </tr>\n",
       "    <tr>\n",
       "      <th>3</th>\n",
       "      <td>1</td>\n",
       "      <td>22 super funny quote funnyquotes funnysayings ...</td>\n",
       "    </tr>\n",
       "    <tr>\n",
       "      <th>4</th>\n",
       "      <td>1</td>\n",
       "      <td>goog morning sorrynotsorry morning</td>\n",
       "    </tr>\n",
       "  </tbody>\n",
       "</table>\n",
       "</div>"
      ],
      "text/plain": [
       "   labels                                    cleaned_comment\n",
       "0       1              user thanks showing appointment today\n",
       "1       1                                           haha lol\n",
       "2       1  love waiting num min cab shortage user please ...\n",
       "3       1  22 super funny quote funnyquotes funnysayings ...\n",
       "4       1                 goog morning sorrynotsorry morning"
      ]
     },
     "execution_count": 63,
     "metadata": {},
     "output_type": "execute_result"
    }
   ],
   "source": [
    "df.head()"
   ]
  },
  {
   "cell_type": "code",
   "execution_count": 64,
   "id": "ba5fc9c2-3387-43d4-82bd-bf98af5a3af4",
   "metadata": {},
   "outputs": [
    {
     "data": {
      "text/html": [
       "<div>\n",
       "<style scoped>\n",
       "    .dataframe tbody tr th:only-of-type {\n",
       "        vertical-align: middle;\n",
       "    }\n",
       "\n",
       "    .dataframe tbody tr th {\n",
       "        vertical-align: top;\n",
       "    }\n",
       "\n",
       "    .dataframe thead th {\n",
       "        text-align: right;\n",
       "    }\n",
       "</style>\n",
       "<table border=\"1\" class=\"dataframe\">\n",
       "  <thead>\n",
       "    <tr style=\"text-align: right;\">\n",
       "      <th></th>\n",
       "      <th>labels</th>\n",
       "      <th>cleaned_comment</th>\n",
       "    </tr>\n",
       "  </thead>\n",
       "  <tbody>\n",
       "    <tr>\n",
       "      <th>19456</th>\n",
       "      <td>0</td>\n",
       "      <td>good read</td>\n",
       "    </tr>\n",
       "    <tr>\n",
       "      <th>19457</th>\n",
       "      <td>0</td>\n",
       "      <td>people living condition always remember blesse...</td>\n",
       "    </tr>\n",
       "    <tr>\n",
       "      <th>19458</th>\n",
       "      <td>0</td>\n",
       "      <td>winner seungyoon simple rt u save repost edit ...</td>\n",
       "    </tr>\n",
       "    <tr>\n",
       "      <th>19459</th>\n",
       "      <td>0</td>\n",
       "      <td>ok concept kravitz passing note magnus julia p...</td>\n",
       "    </tr>\n",
       "    <tr>\n",
       "      <th>19460</th>\n",
       "      <td>1</td>\n",
       "      <td>life good get one</td>\n",
       "    </tr>\n",
       "  </tbody>\n",
       "</table>\n",
       "</div>"
      ],
      "text/plain": [
       "       labels                                    cleaned_comment\n",
       "19456       0                                          good read\n",
       "19457       0  people living condition always remember blesse...\n",
       "19458       0  winner seungyoon simple rt u save repost edit ...\n",
       "19459       0  ok concept kravitz passing note magnus julia p...\n",
       "19460       1                                  life good get one"
      ]
     },
     "execution_count": 64,
     "metadata": {},
     "output_type": "execute_result"
    }
   ],
   "source": [
    "df.tail()"
   ]
  },
  {
   "cell_type": "markdown",
   "id": "2dec31c8-91f9-44d0-9599-1b5724b4ff23",
   "metadata": {
    "id": "2dec31c8-91f9-44d0-9599-1b5724b4ff23"
   },
   "source": [
    "## Final Preparation\n",
    "\n",
    "The final step is to prepare the data for input into a deep learning model. This includes splitting the data into training and testing sets and vectorizing the text data.\n",
    "\n"
   ]
  },
  {
   "cell_type": "markdown",
   "id": "eeba4e39-e617-4f37-aca0-6867924c989b",
   "metadata": {},
   "source": [
    "### Train-Test Split:\n",
    "- **Train-Test Split**:\n",
    "  - Splitting the dataset into two subsets: a training set used to train the model and a testing set used to evaluate its performance. This ensures an unbiased assessment of the model's effectiveness.\n"
   ]
  },
  {
   "cell_type": "code",
   "execution_count": 65,
   "id": "cbb5cfcc-e730-4f43-a6ee-9f0842da149f",
   "metadata": {
    "id": "cbb5cfcc-e730-4f43-a6ee-9f0842da149f"
   },
   "outputs": [],
   "source": [
    "from sklearn.model_selection import train_test_split\n",
    "from tensorflow.keras.preprocessing.text import Tokenizer\n",
    "from tensorflow.keras.preprocessing.sequence import pad_sequences"
   ]
  },
  {
   "cell_type": "code",
   "execution_count": 66,
   "id": "b9c30ac7-b1d5-405d-884d-505ec9cccd78",
   "metadata": {
    "id": "b9c30ac7-b1d5-405d-884d-505ec9cccd78"
   },
   "outputs": [],
   "source": [
    "# Split the data into training and testing sets\n",
    "X = df['cleaned_comment']\n",
    "y = df['labels']\n",
    "X_train, X_test, y_train, y_test = train_test_split(X, y, test_size=0.2, random_state=42)"
   ]
  },
  {
   "cell_type": "markdown",
   "id": "ac1a0640-15af-46e2-9d32-a2b51989cced",
   "metadata": {},
   "source": [
    "### Tokenization for Deep Learning:\n",
    "- **Tokenization for Deep Learning**:\n",
    "  - Converting text data into sequences of integers, where each unique word is represented by a unique integer. This process prepares the text data for input into deep learning models.\n"
   ]
  },
  {
   "cell_type": "code",
   "execution_count": 67,
   "id": "05c1de35-ff4a-49e3-95fd-d61bef30e996",
   "metadata": {
    "id": "05c1de35-ff4a-49e3-95fd-d61bef30e996"
   },
   "outputs": [],
   "source": [
    "# Tokenize the text data\n",
    "tokenizer = Tokenizer()\n",
    "tokenizer.fit_on_texts(X_train)\n",
    "X_train_seq = tokenizer.texts_to_sequences(X_train)\n",
    "X_test_seq = tokenizer.texts_to_sequences(X_test)"
   ]
  },
  {
   "cell_type": "markdown",
   "id": "ded5162e-cbc3-4c66-8175-4f7fa242af9c",
   "metadata": {},
   "source": [
    "### Padding Sequences:\n",
    "- **Padding Sequences**:\n",
    "  - Ensuring that all sequences have the same length by adding padding (usually zeros) to shorter sequences. This uniform length requirement is necessary for feeding data into deep learning models.\n"
   ]
  },
  {
   "cell_type": "code",
   "execution_count": 68,
   "id": "05f2450b-7912-49f1-ab83-5d20931e8065",
   "metadata": {
    "id": "05f2450b-7912-49f1-ab83-5d20931e8065"
   },
   "outputs": [],
   "source": [
    "# Pad the sequences\n",
    "max_len = max(len(seq) for seq in X_train_seq)\n",
    "X_train_pad = pad_sequences(X_train_seq, maxlen=max_len, padding='post')\n",
    "X_test_pad = pad_sequences(X_test_seq, maxlen=max_len, padding='post')"
   ]
  },
  {
   "cell_type": "code",
   "execution_count": 69,
   "id": "66c4d06d-62ee-4855-8fcd-900efa9f34db",
   "metadata": {
    "colab": {
     "base_uri": "https://localhost:8080/"
    },
    "id": "66c4d06d-62ee-4855-8fcd-900efa9f34db",
    "outputId": "a034d33d-b407-4332-f233-b24a99e8c5b9"
   },
   "outputs": [
    {
     "name": "stdout",
     "output_type": "stream",
     "text": [
      "Training data shape: (15568, 29)\n",
      "Testing data shape: (3893, 29)\n"
     ]
    }
   ],
   "source": [
    "# Display the shape of the padded data\n",
    "print(f'Training data shape: {X_train_pad.shape}')\n",
    "print(f'Testing data shape: {X_test_pad.shape}')"
   ]
  },
  {
   "cell_type": "markdown",
   "id": "e212c739-3bbc-45e8-8c1f-320110c544ce",
   "metadata": {},
   "source": [
    "### Saving Data:\n",
    "- **Saving Data**:\n",
    "  - Storing the preprocessed data and tokenizer for future use. This ensures that the processed data can be reused without the need for repeating preprocessing steps.\n"
   ]
  },
  {
   "cell_type": "code",
   "execution_count": 70,
   "id": "fbdff04c-3239-464d-b249-1be49d8e8ebd",
   "metadata": {},
   "outputs": [],
   "source": [
    "# Save the preprocessed data and tokenizer for future use\n",
    "np.save('X_train_pad.npy', X_train_pad)\n",
    "np.save('X_test_pad.npy', X_test_pad)\n",
    "np.save('y_train.npy', y_train)\n",
    "np.save('y_test.npy', y_test)\n"
   ]
  },
  {
   "cell_type": "code",
   "execution_count": 71,
   "id": "be631a76-0781-4027-9304-92d26ee981e6",
   "metadata": {},
   "outputs": [],
   "source": [
    "import pickle\n",
    "\n",
    "# Save the tokenizer\n",
    "with open('tokenizer.pkl', 'wb') as file:\n",
    "    pickle.dump(tokenizer, file)\n",
    "\n"
   ]
  },
  {
   "cell_type": "markdown",
   "id": "0f96c084-af8a-48b0-b064-6909b62bbb97",
   "metadata": {
    "id": "0f96c084-af8a-48b0-b064-6909b62bbb97"
   },
   "source": [
    "## Conclusion\n",
    "\n",
    "This notebook has demonstrated the preprocessing steps for preparing a dataset of YouTube comments for sarcasm detection using deep learning. The steps include loading the dataset, cleaning the data, text preprocessing, and preparing the data for model training.\n",
    "\n",
    "You can now proceed with training a deep learning model using the preprocessed data.\n",
    "\n"
   ]
  },
  {
   "cell_type": "code",
   "execution_count": 72,
   "id": "zqU9P_jCT6R0",
   "metadata": {
    "id": "zqU9P_jCT6R0"
   },
   "outputs": [],
   "source": [
    "#loading the dataset\n",
    "# df.to_csv('M:/Internships/infosys_springboard/Notebooks/Preprocessing/preprocessed_dataset111.csv',index = False)"
   ]
  },
  {
   "cell_type": "code",
   "execution_count": null,
   "id": "a2287636-e899-4a75-b102-ea510b0824ac",
   "metadata": {},
   "outputs": [],
   "source": []
  }
 ],
 "metadata": {
  "colab": {
   "provenance": []
  },
  "kernelspec": {
   "display_name": "Python 3 (ipykernel)",
   "language": "python",
   "name": "python3"
  },
  "language_info": {
   "codemirror_mode": {
    "name": "ipython",
    "version": 3
   },
   "file_extension": ".py",
   "mimetype": "text/x-python",
   "name": "python",
   "nbconvert_exporter": "python",
   "pygments_lexer": "ipython3",
   "version": "3.12.1"
  }
 },
 "nbformat": 4,
 "nbformat_minor": 5
}
