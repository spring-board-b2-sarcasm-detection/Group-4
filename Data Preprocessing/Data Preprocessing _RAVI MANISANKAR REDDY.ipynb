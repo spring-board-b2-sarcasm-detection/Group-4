{
 "cells": [
  {
   "cell_type": "markdown",
   "id": "c8e97481-535a-4083-9fff-144c3ce467fd",
   "metadata": {},
   "source": [
    "# Sarcasm Detection on YouTube Comments - Data Preprocessing\n",
    "\n",
    "This notebook demonstrates the steps for preprocessing a dataset for sarcasm detection in YouTube comments using deep learning. The preprocessing steps include loading the dataset, cleaning the data, text normalization, and preparing the data for model training.\n",
    "\n",
    "## Dataset Overview\n",
    "\n",
    "We are using a dataset of YouTube comments which contains the following columns:\n",
    "- `comment`: The text of the YouTube comment.\n",
    "- `label`: The target label indicating whether the comment is sarcastic (1) or not (0).\n",
    "\n",
    "Let's load the dataset and take a look at its structure.\n",
    "\n"
   ]
  },
  {
   "cell_type": "code",
   "execution_count": 5,
   "id": "73fd188c-e404-4a7b-bbc7-7662b95d0c66",
   "metadata": {},
   "outputs": [],
   "source": [
    "import numpy as np\n",
    "import pandas as pd\n",
    "\n",
    "\n"
   ]
  },
  {
   "cell_type": "code",
   "execution_count": 6,
   "id": "fad4737b-676a-4fa6-aab8-d5462342efc1",
   "metadata": {},
   "outputs": [],
   "source": [
    "# Load the dataset\n",
    "file_path = 'M:\\\\Internships\\\\infosys_springboard\\\\DataExploring\\\\Youtube_comments_dataset.csv'\n",
    "df = pd.read_csv(file_path)\n",
    "\n"
   ]
  },
  {
   "cell_type": "code",
   "execution_count": 7,
   "id": "9c4cf2b3-1653-4eb5-8b0a-54076e54c9ca",
   "metadata": {},
   "outputs": [
    {
     "data": {
      "text/html": [
       "<div>\n",
       "<style scoped>\n",
       "    .dataframe tbody tr th:only-of-type {\n",
       "        vertical-align: middle;\n",
       "    }\n",
       "\n",
       "    .dataframe tbody tr th {\n",
       "        vertical-align: top;\n",
       "    }\n",
       "\n",
       "    .dataframe thead th {\n",
       "        text-align: right;\n",
       "    }\n",
       "</style>\n",
       "<table border=\"1\" class=\"dataframe\">\n",
       "  <thead>\n",
       "    <tr style=\"text-align: right;\">\n",
       "      <th></th>\n",
       "      <th>label</th>\n",
       "      <th>comment</th>\n",
       "    </tr>\n",
       "  </thead>\n",
       "  <tbody>\n",
       "    <tr>\n",
       "      <th>0</th>\n",
       "      <td>1</td>\n",
       "      <td>thanks for showing up for our appointment today</td>\n",
       "    </tr>\n",
       "    <tr>\n",
       "      <th>1</th>\n",
       "      <td>1</td>\n",
       "      <td>haha lol</td>\n",
       "    </tr>\n",
       "    <tr>\n",
       "      <th>2</th>\n",
       "      <td>1</td>\n",
       "      <td>i love waiting min for a cab such shortage ple...</td>\n",
       "    </tr>\n",
       "    <tr>\n",
       "      <th>3</th>\n",
       "      <td>1</td>\n",
       "      <td>22 super funny quotes funnyquotes funnysayings...</td>\n",
       "    </tr>\n",
       "    <tr>\n",
       "      <th>4</th>\n",
       "      <td>1</td>\n",
       "      <td>goog morning sorrynotsorry morning</td>\n",
       "    </tr>\n",
       "  </tbody>\n",
       "</table>\n",
       "</div>"
      ],
      "text/plain": [
       "   label                                            comment\n",
       "0      1    thanks for showing up for our appointment today\n",
       "1      1                                           haha lol\n",
       "2      1  i love waiting min for a cab such shortage ple...\n",
       "3      1  22 super funny quotes funnyquotes funnysayings...\n",
       "4      1                 goog morning sorrynotsorry morning"
      ]
     },
     "execution_count": 7,
     "metadata": {},
     "output_type": "execute_result"
    }
   ],
   "source": [
    "# Display the first few rows of the dataset\n",
    "df.head()"
   ]
  },
  {
   "cell_type": "markdown",
   "id": "757a74a1-c332-4fe2-84ff-ecbe208c4673",
   "metadata": {},
   "source": [
    "## Data Cleaning\n",
    "\n",
    "Data cleaning involves handling missing values, removing duplicates, and dropping unnecessary columns. We will start by checking for missing values and then proceed with cleaning the data.\n",
    "\n"
   ]
  },
  {
   "cell_type": "code",
   "execution_count": 8,
   "id": "da68136c-f267-40dc-b0f3-760fece1b942",
   "metadata": {},
   "outputs": [
    {
     "name": "stdout",
     "output_type": "stream",
     "text": [
      "label      0\n",
      "comment    0\n",
      "dtype: int64\n"
     ]
    }
   ],
   "source": [
    "# Check for missing values\n",
    "print(df.isnull().sum())\n"
   ]
  },
  {
   "cell_type": "markdown",
   "id": "f6cfa247-05e5-4710-9093-83e225a05faa",
   "metadata": {},
   "source": [
    "-> There is no null values in this dataset."
   ]
  },
  {
   "cell_type": "code",
   "execution_count": 9,
   "id": "7738098f-db85-4e6c-b468-5ea415b6b91d",
   "metadata": {},
   "outputs": [
    {
     "name": "stdout",
     "output_type": "stream",
     "text": [
      "Duplicate rows: 409\n"
     ]
    }
   ],
   "source": [
    "# Check for duplicates\n",
    "print(f'Duplicate rows: {df.duplicated().sum()}')"
   ]
  },
  {
   "cell_type": "code",
   "execution_count": 10,
   "id": "d9cced94-cb3c-4600-9b9e-dac074984f9c",
   "metadata": {},
   "outputs": [],
   "source": [
    "# Drop duplicates\n",
    "df.drop_duplicates(inplace=True)"
   ]
  },
  {
   "cell_type": "code",
   "execution_count": 11,
   "id": "1d783c9c-1e3a-4759-bf98-9760350c243d",
   "metadata": {},
   "outputs": [
    {
     "data": {
      "text/html": [
       "<div>\n",
       "<style scoped>\n",
       "    .dataframe tbody tr th:only-of-type {\n",
       "        vertical-align: middle;\n",
       "    }\n",
       "\n",
       "    .dataframe tbody tr th {\n",
       "        vertical-align: top;\n",
       "    }\n",
       "\n",
       "    .dataframe thead th {\n",
       "        text-align: right;\n",
       "    }\n",
       "</style>\n",
       "<table border=\"1\" class=\"dataframe\">\n",
       "  <thead>\n",
       "    <tr style=\"text-align: right;\">\n",
       "      <th></th>\n",
       "      <th>label</th>\n",
       "      <th>comment</th>\n",
       "    </tr>\n",
       "  </thead>\n",
       "  <tbody>\n",
       "    <tr>\n",
       "      <th>0</th>\n",
       "      <td>1</td>\n",
       "      <td>thanks for showing up for our appointment today</td>\n",
       "    </tr>\n",
       "    <tr>\n",
       "      <th>1</th>\n",
       "      <td>1</td>\n",
       "      <td>haha lol</td>\n",
       "    </tr>\n",
       "    <tr>\n",
       "      <th>2</th>\n",
       "      <td>1</td>\n",
       "      <td>i love waiting min for a cab such shortage ple...</td>\n",
       "    </tr>\n",
       "    <tr>\n",
       "      <th>3</th>\n",
       "      <td>1</td>\n",
       "      <td>22 super funny quotes funnyquotes funnysayings...</td>\n",
       "    </tr>\n",
       "    <tr>\n",
       "      <th>4</th>\n",
       "      <td>1</td>\n",
       "      <td>goog morning sorrynotsorry morning</td>\n",
       "    </tr>\n",
       "  </tbody>\n",
       "</table>\n",
       "</div>"
      ],
      "text/plain": [
       "   label                                            comment\n",
       "0      1    thanks for showing up for our appointment today\n",
       "1      1                                           haha lol\n",
       "2      1  i love waiting min for a cab such shortage ple...\n",
       "3      1  22 super funny quotes funnyquotes funnysayings...\n",
       "4      1                 goog morning sorrynotsorry morning"
      ]
     },
     "execution_count": 11,
     "metadata": {},
     "output_type": "execute_result"
    }
   ],
   "source": [
    "# Display the cleaned dataset\n",
    "df.reset_index(drop=True, inplace=True)\n",
    "df.head()"
   ]
  },
  {
   "cell_type": "code",
   "execution_count": 15,
   "id": "dc50915d-6a5b-43d4-82eb-4ba0870f6492",
   "metadata": {},
   "outputs": [
    {
     "data": {
      "text/plain": [
       "(19408, 2)"
      ]
     },
     "execution_count": 15,
     "metadata": {},
     "output_type": "execute_result"
    }
   ],
   "source": [
    "df.shape"
   ]
  },
  {
   "cell_type": "markdown",
   "id": "e1dd2115-a26c-4d2f-a138-5abdfd1dd165",
   "metadata": {},
   "source": [
    "## Text Preprocessing\n",
    "\n",
    "Text preprocessing involves several steps such as:\n",
    "1. Converting text to lowercase\n",
    "2. Removing punctuation and special characters\n",
    "3. Tokenizing the text\n",
    "4. Removing stopwords\n",
    "\n",
    "We will use the NLTK library for some of these tasks.\n",
    "\n"
   ]
  },
  {
   "cell_type": "code",
   "execution_count": 19,
   "id": "5203966d-487f-4162-aefa-2865becd45af",
   "metadata": {},
   "outputs": [],
   "source": [
    "import re\n",
    "import nltk\n",
    "from nltk.corpus import stopwords\n",
    "from nltk.tokenize import word_tokenize"
   ]
  },
  {
   "cell_type": "code",
   "execution_count": 20,
   "id": "bac37fa3-708c-4dc6-8683-adfc2288ccd6",
   "metadata": {},
   "outputs": [
    {
     "name": "stderr",
     "output_type": "stream",
     "text": [
      "[nltk_data] Downloading package stopwords to\n",
      "[nltk_data]     C:\\Users\\manis\\AppData\\Roaming\\nltk_data...\n",
      "[nltk_data]   Unzipping corpora\\stopwords.zip.\n",
      "[nltk_data] Downloading package punkt to\n",
      "[nltk_data]     C:\\Users\\manis\\AppData\\Roaming\\nltk_data...\n",
      "[nltk_data]   Unzipping tokenizers\\punkt.zip.\n"
     ]
    },
    {
     "data": {
      "text/plain": [
       "True"
      ]
     },
     "execution_count": 20,
     "metadata": {},
     "output_type": "execute_result"
    }
   ],
   "source": [
    "# Download stopwords\n",
    "nltk.download('stopwords')\n",
    "nltk.download('punkt')"
   ]
  },
  {
   "cell_type": "code",
   "execution_count": 21,
   "id": "573f0628-9a8c-462c-a15d-87c3842c6375",
   "metadata": {},
   "outputs": [],
   "source": [
    "# Function to preprocess text\n",
    "def preprocess_text(text):\n",
    "    # Convert to lowercase\n",
    "    text = text.lower()\n",
    "    # Remove punctuation and special characters\n",
    "    text = re.sub(r'[^a-zA-Z0-9\\s]', '', text)\n",
    "    # Tokenize the text\n",
    "    tokens = word_tokenize(text)\n",
    "    # Remove stopwords\n",
    "    stop_words = set(stopwords.words('english'))\n",
    "    tokens = [word for word in tokens if word not in stop_words]\n",
    "    return ' '.join(tokens)\n"
   ]
  },
  {
   "cell_type": "code",
   "execution_count": 22,
   "id": "6b96fa78-51ed-42b8-85cc-0abd78189d9c",
   "metadata": {},
   "outputs": [],
   "source": [
    "# Apply preprocessing to the comments\n",
    "df['cleaned_comment'] = df['comment'].apply(preprocess_text)"
   ]
  },
  {
   "cell_type": "code",
   "execution_count": 23,
   "id": "b7d0d4d7-9122-4777-b378-dc62dc0a5e32",
   "metadata": {},
   "outputs": [
    {
     "data": {
      "text/html": [
       "<div>\n",
       "<style scoped>\n",
       "    .dataframe tbody tr th:only-of-type {\n",
       "        vertical-align: middle;\n",
       "    }\n",
       "\n",
       "    .dataframe tbody tr th {\n",
       "        vertical-align: top;\n",
       "    }\n",
       "\n",
       "    .dataframe thead th {\n",
       "        text-align: right;\n",
       "    }\n",
       "</style>\n",
       "<table border=\"1\" class=\"dataframe\">\n",
       "  <thead>\n",
       "    <tr style=\"text-align: right;\">\n",
       "      <th></th>\n",
       "      <th>label</th>\n",
       "      <th>comment</th>\n",
       "      <th>cleaned_comment</th>\n",
       "    </tr>\n",
       "  </thead>\n",
       "  <tbody>\n",
       "    <tr>\n",
       "      <th>0</th>\n",
       "      <td>1</td>\n",
       "      <td>thanks for showing up for our appointment today</td>\n",
       "      <td>thanks showing appointment today</td>\n",
       "    </tr>\n",
       "    <tr>\n",
       "      <th>1</th>\n",
       "      <td>1</td>\n",
       "      <td>haha lol</td>\n",
       "      <td>haha lol</td>\n",
       "    </tr>\n",
       "    <tr>\n",
       "      <th>2</th>\n",
       "      <td>1</td>\n",
       "      <td>i love waiting min for a cab such shortage ple...</td>\n",
       "      <td>love waiting min cab shortage please allow ube...</td>\n",
       "    </tr>\n",
       "    <tr>\n",
       "      <th>3</th>\n",
       "      <td>1</td>\n",
       "      <td>22 super funny quotes funnyquotes funnysayings...</td>\n",
       "      <td>22 super funny quotes funnyquotes funnysayings...</td>\n",
       "    </tr>\n",
       "    <tr>\n",
       "      <th>4</th>\n",
       "      <td>1</td>\n",
       "      <td>goog morning sorrynotsorry morning</td>\n",
       "      <td>goog morning sorrynotsorry morning</td>\n",
       "    </tr>\n",
       "  </tbody>\n",
       "</table>\n",
       "</div>"
      ],
      "text/plain": [
       "   label                                            comment  \\\n",
       "0      1    thanks for showing up for our appointment today   \n",
       "1      1                                           haha lol   \n",
       "2      1  i love waiting min for a cab such shortage ple...   \n",
       "3      1  22 super funny quotes funnyquotes funnysayings...   \n",
       "4      1                 goog morning sorrynotsorry morning   \n",
       "\n",
       "                                     cleaned_comment  \n",
       "0                   thanks showing appointment today  \n",
       "1                                           haha lol  \n",
       "2  love waiting min cab shortage please allow ube...  \n",
       "3  22 super funny quotes funnyquotes funnysayings...  \n",
       "4                 goog morning sorrynotsorry morning  "
      ]
     },
     "execution_count": 23,
     "metadata": {},
     "output_type": "execute_result"
    }
   ],
   "source": [
    "# Display the first few rows of the preprocessed dataset\n",
    "df.head()"
   ]
  },
  {
   "cell_type": "markdown",
   "id": "3c1ca543-42df-4b9e-81a3-56d5291b8199",
   "metadata": {},
   "source": [
    "## Data Visualization\n",
    "\n",
    "We can visualize the distribution of the labels to understand the class balance in our dataset. This is important as it impacts model training.\n",
    "\n"
   ]
  },
  {
   "cell_type": "code",
   "execution_count": 29,
   "id": "13c95120-e7ee-4ce8-8c7c-679d7feab64c",
   "metadata": {},
   "outputs": [],
   "source": [
    "import matplotlib.pyplot as plt\n",
    "import seaborn as sns\n"
   ]
  },
  {
   "cell_type": "code",
   "execution_count": 30,
   "id": "ced82334-af71-4d98-9b17-b3b47b0aaa34",
   "metadata": {},
   "outputs": [
    {
     "data": {
      "image/png": "[encoded data removed]",
      "text/plain": [
       "<Figure size 600x400 with 1 Axes>"
      ]
     },
     "metadata": {},
     "output_type": "display_data"
    }
   ],
   "source": [
    "# Plot the distribution of labels\n",
    "plt.figure(figsize=(6,4))\n",
    "sns.countplot(x='label', data=df)\n",
    "plt.title('Distribution of Sarcasm Labels')\n",
    "plt.xlabel('Label')\n",
    "plt.ylabel('Count')\n",
    "plt.show()"
   ]
  },
  {
   "cell_type": "code",
   "execution_count": 31,
   "id": "8970e7e5-3238-4441-923c-57af68a704f0",
   "metadata": {},
   "outputs": [
    {
     "data": {
      "text/plain": [
       "label\n",
       "0    11023\n",
       "1     8385\n",
       "Name: count, dtype: int64"
      ]
     },
     "execution_count": 31,
     "metadata": {},
     "output_type": "execute_result"
    }
   ],
   "source": [
    "df.value_counts('label')"
   ]
  },
  {
   "cell_type": "markdown",
   "id": "2dec31c8-91f9-44d0-9599-1b5724b4ff23",
   "metadata": {},
   "source": [
    "## Final Preparation\n",
    "\n",
    "The final step is to prepare the data for input into a deep learning model. This includes splitting the data into training and testing sets and vectorizing the text data.\n",
    "\n"
   ]
  },
  {
   "cell_type": "code",
   "execution_count": 38,
   "id": "cbb5cfcc-e730-4f43-a6ee-9f0842da149f",
   "metadata": {},
   "outputs": [],
   "source": [
    "from sklearn.model_selection import train_test_split\n",
    "from tensorflow.keras.preprocessing.text import Tokenizer\n",
    "from tensorflow.keras.preprocessing.sequence import pad_sequences"
   ]
  },
  {
   "cell_type": "code",
   "execution_count": 39,
   "id": "b9c30ac7-b1d5-405d-884d-505ec9cccd78",
   "metadata": {},
   "outputs": [],
   "source": [
    "# Split the data into training and testing sets\n",
    "X = df['cleaned_comment']\n",
    "y = df['label']\n",
    "X_train, X_test, y_train, y_test = train_test_split(X, y, test_size=0.2, random_state=42)"
   ]
  },
  {
   "cell_type": "code",
   "execution_count": 40,
   "id": "05c1de35-ff4a-49e3-95fd-d61bef30e996",
   "metadata": {},
   "outputs": [],
   "source": [
    "# Tokenize the text data\n",
    "tokenizer = Tokenizer()\n",
    "tokenizer.fit_on_texts(X_train)\n",
    "X_train_seq = tokenizer.texts_to_sequences(X_train)\n",
    "X_test_seq = tokenizer.texts_to_sequences(X_test)"
   ]
  },
  {
   "cell_type": "code",
   "execution_count": 41,
   "id": "05f2450b-7912-49f1-ab83-5d20931e8065",
   "metadata": {},
   "outputs": [],
   "source": [
    "# Pad the sequences\n",
    "max_len = max(len(seq) for seq in X_train_seq)\n",
    "X_train_pad = pad_sequences(X_train_seq, maxlen=max_len, padding='post')\n",
    "X_test_pad = pad_sequences(X_test_seq, maxlen=max_len, padding='post')"
   ]
  },
  {
   "cell_type": "code",
   "execution_count": 42,
   "id": "66c4d06d-62ee-4855-8fcd-900efa9f34db",
   "metadata": {},
   "outputs": [
    {
     "name": "stdout",
     "output_type": "stream",
     "text": [
      "Training data shape: (15526, 63)\n",
      "Testing data shape: (3882, 63)\n"
     ]
    }
   ],
   "source": [
    "# Display the shape of the padded data\n",
    "print(f'Training data shape: {X_train_pad.shape}')\n",
    "print(f'Testing data shape: {X_test_pad.shape}')"
   ]
  },
  {
   "cell_type": "code",
   "execution_count": 35,
   "id": "5ab3e083-7878-4cb6-a4ef-6a8b7bed38f2",
   "metadata": {},
   "outputs": [],
   "source": [
    "# Vectorize the text data using CountVectorizer\n",
    "vectorizer = CountVectorizer()\n",
    "X_train_vec = vectorizer.fit_transform(X_train)\n",
    "X_test_vec = vectorizer.transform(X_test)"
   ]
  },
  {
   "cell_type": "code",
   "execution_count": 36,
   "id": "db79eb7c-70f0-413b-82c5-d41bdae79615",
   "metadata": {},
   "outputs": [
    {
     "name": "stdout",
     "output_type": "stream",
     "text": [
      "Training data shape: (15526, 26616)\n",
      "Testing data shape: (3882, 26616)\n"
     ]
    }
   ],
   "source": [
    "# Display the shape of the vectorized data\n",
    "print(f'Training data shape: {X_train_vec.shape}')\n",
    "print(f'Testing data shape: {X_test_vec.shape}')\n"
   ]
  },
  {
   "cell_type": "markdown",
   "id": "0f96c084-af8a-48b0-b064-6909b62bbb97",
   "metadata": {},
   "source": [
    "## Conclusion\n",
    "\n",
    "This notebook has demonstrated the preprocessing steps for preparing a dataset of YouTube comments for sarcasm detection using deep learning. The steps include loading the dataset, cleaning the data, text preprocessing, and preparing the data for model training.\n",
    "\n",
    "You can now proceed with training a deep learning model using the preprocessed data.\n",
    "\n"
   ]
  }
 ],
 "metadata": {
  "kernelspec": {
   "display_name": "Python 3 (ipykernel)",
   "language": "python",
   "name": "python3"
  },
  "language_info": {
   "codemirror_mode": {
    "name": "ipython",
    "version": 3
   },
   "file_extension": ".py",
   "mimetype": "text/x-python",
   "name": "python",
   "nbconvert_exporter": "python",
   "pygments_lexer": "ipython3",
   "version": "3.12.1"
  }
 },
 "nbformat": 4,
 "nbformat_minor": 5
}
