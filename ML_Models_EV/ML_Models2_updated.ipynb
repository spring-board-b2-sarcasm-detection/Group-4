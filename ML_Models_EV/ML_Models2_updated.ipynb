{
 "cells": [
  {
   "cell_type": "markdown",
   "id": "4ca1569a-7a7c-4ff8-baff-e7745bc5dbc9",
   "metadata": {},
   "source": [
    "## MACHINE LEARNING MODELS\n",
    "\n"
   ]
  },
  {
   "cell_type": "code",
   "execution_count": 3,
   "id": "07f277c4-3289-45ee-baa1-ee660b9425aa",
   "metadata": {},
   "outputs": [
    {
     "name": "stdout",
     "output_type": "stream",
     "text": [
      "                                                text  labels  \\\n",
      "0  <user> thanks for showing up for our appointme...       1   \n",
      "1                                      haha .  # lol       1   \n",
      "2  i love waiting <num> min for a cab - such shor...       1   \n",
      "3  22 super funny quotes # funnyquotes  # funnysa...       1   \n",
      "4            goog morning  # sorrynotsorry # morning       1   \n",
      "\n",
      "                                     cleaned_comment  \n",
      "0              user thanks showing appointment today  \n",
      "1                                           haha lol  \n",
      "2  love waiting num min cab shortage user please ...  \n",
      "3  22 super funny quote funnyquotes funnysayings ...  \n",
      "4                 goog morning sorrynotsorry morning  \n",
      "Sample Text Data: 0                user thanks showing appointment today\n",
      "1                                             haha lol\n",
      "2    love waiting num min cab shortage user please ...\n",
      "3    22 super funny quote funnyquotes funnysayings ...\n",
      "4                   goog morning sorrynotsorry morning\n",
      "Name: cleaned_comment, dtype: object\n"
     ]
    }
   ],
   "source": [
    "# Load the necessary libraries\n",
    "import pandas as pd\n",
    "from sklearn.feature_extraction.text import TfidfVectorizer\n",
    "from sklearn.model_selection import train_test_split\n",
    "import matplotlib.pyplot as plt\n",
    "\n",
    "# Load the dataset\n",
    "file_path = 'processed_data2.csv'\n",
    "df = pd.read_csv(file_path)\n",
    "\n",
    "## Display basic info about the dataset\n",
    "#df.info()\n",
    "print(df.head())\n",
    "\n",
    "# Display a sample of the text data\n",
    "print(\"Sample Text Data:\", df['cleaned_comment'].head())\n"
   ]
  },
  {
   "cell_type": "markdown",
   "id": "aa9f8f35-84dc-47d6-ac64-585cc419d163",
   "metadata": {},
   "source": [
    "## Class Distribution\n",
    "\n",
    "It analyzes the distribution of different classes (or labels) in the dataset. It calculates the percentage of each class and visualizes it using a pie chart.\n",
    "\n",
    "\n",
    "\n",
    "**Calculating Class Distribution:**\n",
    " counts each label appears in the 'labels' column of the dataframe df and calculates the percentage.\n",
    "\n",
    "**Plotting as Pie Chart:**\n",
    " creates a pie chart where each slice represents a class, showing its percentage and count."
   ]
  },
  {
   "cell_type": "code",
   "execution_count": 4,
   "id": "550eb281-adc4-41e4-a9bf-fe90d0057e34",
   "metadata": {},
   "outputs": [
    {
     "name": "stdout",
     "output_type": "stream",
     "text": [
      "labels\n",
      "0    0.568111\n",
      "1    0.431889\n",
      "Name: proportion, dtype: float64\n"
     ]
    },
    {
     "data": {
      "image/png": "[encoded data removed]",
      "text/plain": [
       "<Figure size 640x480 with 1 Axes>"
      ]
     },
     "metadata": {},
     "output_type": "display_data"
    }
   ],
   "source": [
    "# Examine class distribution\n",
    "label_counts = df['labels'].value_counts(normalize=True)\n",
    "print(label_counts)\n",
    "\n",
    "# Plot class distribution as a pie chart\n",
    "label_counts.plot.pie(autopct=lambda pct: f'{pct:.1f}% ({int(pct * len(df) / 100)})', colors=['blue', 'red'], startangle=90, counterclock=False)\n",
    "plt.title('Class Distribution')\n",
    "plt.ylabel('')\n",
    "plt.show()\n"
   ]
  },
  {
   "cell_type": "markdown",
   "id": "e3040f20-5753-40fe-831a-716494bc6913",
   "metadata": {},
   "source": [
    "## Vectorize Text Data\n",
    "\n",
    "It prepares textual data for machine learning models by converting it into numerical form using TF-IDF (Term Frequency-Inverse Document Frequency).\n",
    "\n",
    "\n",
    "**Handling Missing Values:**\n",
    " fillna('') fills any missing comments with an empty string.\n",
    "\n",
    "**Vectorization:**\n",
    " I used the TF-IDF vectorizer.\n",
    "features_vectorized = tfidf.fit_transform(features) transforms the 'cleaned_comment' text data into a numerical matrix using TF-IDF.\n",
    "\n",
    "DataFrame Creation:\n",
    "\r\n",
    "features_df = pd.DataFrame(features_vectorized.toarray(), columns=tfidf.get_feature_names_out()) converts the TF-IDF matrix into a pandas DataFramores:\r\n",
    "\r\n",
    "get_significant_tfidf_scores() is a function that identifies terms with high TF-IDF scores, indicating their importance in distinguishing classes.\r\n",
    "A sample of features_df is taken (sample_df) and significant TF-IDF scores are computed and added as significant_tfidf column."
   ]
  },
  {
   "cell_type": "code",
   "execution_count": 5,
   "id": "501e3d08-16ef-41de-a4ab-c493c3d161ba",
   "metadata": {},
   "outputs": [
    {
     "name": "stderr",
     "output_type": "stream",
     "text": [
      "C:\\Users\\91636\\AppData\\Local\\Temp\\ipykernel_25072\\762510879.py:22: FutureWarning: Series.__getitem__ treating keys as positions is deprecated. In a future version, integer keys will always be treated as labels (consistent with DataFrame behavior). To access a value by position, use `ser.iloc[pos]`\n",
      "  significant_terms = {terms[i]: row[i] for i in range(len(row)) if row[i] > threshold}\n"
     ]
    },
    {
     "name": "stdout",
     "output_type": "stream",
     "text": [
      "Sample DataFrame with Original Comments and Significant TF-IDF Scores:\n",
      "                                    original_comment  label  \\\n",
      "11525             beautiful night user addict owner      0   \n",
      "18098                                  fox dailyfox      0   \n",
      "9731                            sidewalk saved life      0   \n",
      "18052                      wise word lmao wisewords      1   \n",
      "3417   graham six grape reserve porto cherry garcia      1   \n",
      "\n",
      "                                       significant_tfidf  \n",
      "11525  {'addict': 0.6654870861412011, 'beautiful': 0....  \n",
      "18098  {'dailyfox': 0.7604665514739389, 'fox': 0.6493...  \n",
      "9731   {'lieutenant': 0.3939119190693158, 'savebees':...  \n",
      "18052  {'lm': 0.44235563389323745, 'wisdomwednesday':...  \n",
      "3417   {'cherry': 0.3709213218273487, 'garcia': 0.391...  \n"
     ]
    }
   ],
   "source": [
    "# Replace NaNs with an empty string\n",
    "df['cleaned_comment'] = df['cleaned_comment'].fillna('')\n",
    "\n",
    "# Separate features and labels\n",
    "features = df['cleaned_comment']\n",
    "labels = df['labels']\n",
    "\n",
    "# Vectorize the text data using TF-IDF\n",
    "tfidf = TfidfVectorizer()\n",
    "features_vectorized = tfidf.fit_transform(features)\n",
    "\n",
    "# Convert the vectorized data to a DataFrame\n",
    "features_df = pd.DataFrame(features_vectorized.toarray(), columns=tfidf.get_feature_names_out())\n",
    "\n",
    "# Add the original comments and labels to the DataFrame\n",
    "features_df['original_comment'] = features.values\n",
    "features_df['label'] = labels.values\n",
    "\n",
    "# Function to get significant TF-IDF scores\n",
    "def get_significant_tfidf_scores(row, terms, threshold=0.1):\n",
    "    \"\"\" Get terms with TF-IDF scores above the threshold. \"\"\"\n",
    "    significant_terms = {terms[i]: row[i] for i in range(len(row)) if row[i] > threshold}\n",
    "    return significant_terms\n",
    "\n",
    "# Display a sample of the combined data with significant TF-IDF scores\n",
    "sample_df = features_df.sample(5)  # Sample 5 random rows\n",
    "\n",
    "# Add significant TF-IDF scores to the sample data\n",
    "sample_df['significant_tfidf'] = sample_df.drop(columns=['original_comment', 'label']).apply(\n",
    "    lambda row: get_significant_tfidf_scores(row, tfidf.get_feature_names_out()), axis=1\n",
    ")\n",
    "\n",
    "# Select only the relevant columns to display\n",
    "display_df = sample_df[['original_comment', 'label', 'significant_tfidf']]\n",
    "\n",
    "print(\"Sample DataFrame with Original Comments and Significant TF-IDF Scores:\\n\", display_df)\n"
   ]
  },
  {
   "cell_type": "markdown",
   "id": "6f0b796c-c1e5-4054-b29a-74b6198593a8",
   "metadata": {},
   "source": [
    "## Split Data into Training and Testing Sets\n",
    "To divide the dataset into training and testing subsets for evaluating machine learning models."
   ]
  },
  {
   "cell_type": "code",
   "execution_count": 6,
   "id": "f8a23c71-ff02-4453-8bd0-08897ac593c9",
   "metadata": {},
   "outputs": [
    {
     "name": "stdout",
     "output_type": "stream",
     "text": [
      "Training data shape: (15568, 27748), Training labels shape: (15568,)\n",
      "Testing data shape: (3893, 27748), Testing labels shape: (3893,)\n"
     ]
    }
   ],
   "source": [
    "from sklearn.model_selection import train_test_split\n",
    "\n",
    "# Split the data into training and testing sets\n",
    "X_train, X_test, y_train, y_test = train_test_split(features_vectorized, labels, test_size=0.2, random_state=42)\n",
    "\n",
    "# Display the shape of the resulting datasets\n",
    "print(f\"Training data shape: {X_train.shape}, Training labels shape: {y_train.shape}\")\n",
    "print(f\"Testing data shape: {X_test.shape}, Testing labels shape: {y_test.shape}\")\n",
    "\n"
   ]
  },
  {
   "cell_type": "markdown",
   "id": "2b745cef-92c2-4d85-b51c-72056eb968bf",
   "metadata": {},
   "source": [
    "## Logistic Regression Model\n",
    "\n",
    "To train a logistic regression model using the training data and evaluate its performance.\n",
    "\n",
    "LogisticRegression() initializes a logistic regression model.\n",
    "log_reg.fit(X_train, y_train) trains the model using the training data.\n",
    "log_reg.predict(X_test) predicts labels for the test data.\n",
    "Evaluation metrics (classification_report and accuracy_score) assess the model's performance."
   ]
  },
  {
   "cell_type": "code",
   "execution_count": 7,
   "id": "99c9ac78-9b36-4803-8281-c1062f9ddb8b",
   "metadata": {},
   "outputs": [
    {
     "name": "stdout",
     "output_type": "stream",
     "text": [
      "Logistic Regression Classification Report:\n",
      "               precision    recall  f1-score   support\n",
      "\n",
      "           0       0.73      0.88      0.80      2182\n",
      "           1       0.80      0.59      0.68      1711\n",
      "\n",
      "    accuracy                           0.75      3893\n",
      "   macro avg       0.77      0.74      0.74      3893\n",
      "weighted avg       0.76      0.75      0.75      3893\n",
      "\n",
      "Logistic Regression Accuracy: 0.754687901361418\n"
     ]
    }
   ],
   "source": [
    "from sklearn.linear_model import LogisticRegression\n",
    "from sklearn.metrics import classification_report, accuracy_score\n",
    "\n",
    "# Train Logistic Regression model\n",
    "log_reg = LogisticRegression()\n",
    "log_reg.fit(X_train, y_train)\n",
    "\n",
    "# Predict on the test set\n",
    "y_pred = log_reg.predict(X_test)\n",
    "\n",
    "# Evaluate the model\n",
    "print(\"Logistic Regression Classification Report:\\n\", classification_report(y_test, y_pred))\n",
    "print(\"Logistic Regression Accuracy:\", accuracy_score(y_test, y_pred))\n"
   ]
  },
  {
   "cell_type": "markdown",
   "id": "81d5264a-bd86-42f3-8ecf-d5c7f153408d",
   "metadata": {},
   "source": [
    "## Random Forest Classifier\n",
    "\n",
    "To train a random forest classifier using the training data and evaluate its performance.\n",
    "\n",
    "RandomForestClassifier() initializes a random forest classifier.\n",
    "rf_clf.fit(X_train, y_train) trains the model.\n",
    "rf_clf.predict(X_test) predicts labels for the test data.\n",
    "Performance metrics (classification_report and accuracy_score) evaluate the model's effectiveness."
   ]
  },
  {
   "cell_type": "code",
   "execution_count": 8,
   "id": "7a8e8a07-ef99-46a0-9b1f-1f32b322be06",
   "metadata": {},
   "outputs": [
    {
     "name": "stdout",
     "output_type": "stream",
     "text": [
      "Random Forest Classification Report:\n",
      "               precision    recall  f1-score   support\n",
      "\n",
      "           0       0.71      0.87      0.79      2182\n",
      "           1       0.77      0.55      0.65      1711\n",
      "\n",
      "    accuracy                           0.73      3893\n",
      "   macro avg       0.74      0.71      0.72      3893\n",
      "weighted avg       0.74      0.73      0.72      3893\n",
      "\n",
      "Random Forest Accuracy: 0.7325969689185718\n"
     ]
    }
   ],
   "source": [
    "from sklearn.ensemble import RandomForestClassifier\n",
    "\n",
    "# Train Random Forest model\n",
    "rf_clf = RandomForestClassifier()\n",
    "rf_clf.fit(X_train, y_train)\n",
    "\n",
    "# Predict on the test set\n",
    "y_pred_rf = rf_clf.predict(X_test)\n",
    "\n",
    "# Evaluate the model\n",
    "print(\"Random Forest Classification Report:\\n\", classification_report(y_test, y_pred_rf))\n",
    "print(\"Random Forest Accuracy:\", accuracy_score(y_test, y_pred_rf))\n"
   ]
  },
  {
   "cell_type": "markdown",
   "id": "47044251-a511-4539-a673-bf7d57672a2a",
   "metadata": {},
   "source": [
    "## Support Vector Machine (SVM)\n",
    "\n",
    "To train a support vector machine (SVM) classifier using the training data and evaluate its performance.\n",
    "\n",
    "SVC() initializes an SVM classifier.\n",
    "svm_clf.fit(X_train, y_train) trains the SVM model.\n",
    "svm_clf.predict(X_test) predicts labels for the test data.\n",
    "Evaluation metrics (classification_report and accuracy_score) assess the model's performance."
   ]
  },
  {
   "cell_type": "code",
   "execution_count": 9,
   "id": "7149775b-1b99-4d19-a67b-a6c5b2e959d2",
   "metadata": {},
   "outputs": [
    {
     "name": "stdout",
     "output_type": "stream",
     "text": [
      "SVM Classification Report:\n",
      "               precision    recall  f1-score   support\n",
      "\n",
      "           0       0.73      0.90      0.81      2182\n",
      "           1       0.81      0.58      0.68      1711\n",
      "\n",
      "    accuracy                           0.76      3893\n",
      "   macro avg       0.77      0.74      0.74      3893\n",
      "weighted avg       0.77      0.76      0.75      3893\n",
      "\n",
      "SVM Accuracy: 0.7577703570511174\n"
     ]
    }
   ],
   "source": [
    "from sklearn.svm import SVC\n",
    "\n",
    "# Train SVM model\n",
    "svm_clf = SVC()\n",
    "svm_clf.fit(X_train, y_train)\n",
    "\n",
    "# Predict on the test set\n",
    "y_pred_svm = svm_clf.predict(X_test)\n",
    "\n",
    "# Evaluate the model\n",
    "print(\"SVM Classification Report:\\n\", classification_report(y_test, y_pred_svm))\n",
    "print(\"SVM Accuracy:\", accuracy_score(y_test, y_pred_svm))\n"
   ]
  },
  {
   "cell_type": "code",
   "execution_count": 10,
   "id": "ee7c31df-7231-427c-9d6e-eef9d17771e6",
   "metadata": {},
   "outputs": [
    {
     "name": "stdout",
     "output_type": "stream",
     "text": [
      "Summary of Model Performance:\n",
      "Logistic Regression Accuracy: 0.754687901361418\n",
      "Random Forest Accuracy: 0.7325969689185718\n",
      "SVM Accuracy: 0.7577703570511174\n"
     ]
    }
   ],
   "source": [
    "# Summary of Results\n",
    "print(\"Summary of Model Performance:\")\n",
    "print(\"Logistic Regression Accuracy:\", accuracy_score(y_test, y_pred))\n",
    "print(\"Random Forest Accuracy:\", accuracy_score(y_test, y_pred_rf))\n",
    "print(\"SVM Accuracy:\", accuracy_score(y_test, y_pred_svm))\n",
    " "
   ]
  },
  {
   "cell_type": "markdown",
   "id": "0e6932b2-8e7c-462a-8c12-5a196e336748",
   "metadata": {},
   "source": [
    "### compare the performance of different models trained on the dataset."
   ]
  },
  {
   "cell_type": "code",
   "execution_count": null,
   "id": "e912edec-c4e3-4bfa-a3b1-c2ac66077d5c",
   "metadata": {},
   "outputs": [],
   "source": []
  }
 ],
 "metadata": {
  "kernelspec": {
   "display_name": "Python 3 (ipykernel)",
   "language": "python",
   "name": "python3"
  },
  "language_info": {
   "codemirror_mode": {
    "name": "ipython",
    "version": 3
   },
   "file_extension": ".py",
   "mimetype": "text/x-python",
   "name": "python",
   "nbconvert_exporter": "python",
   "pygments_lexer": "ipython3",
   "version": "3.11.7"
  }
 },
 "nbformat": 4,
 "nbformat_minor": 5
}
