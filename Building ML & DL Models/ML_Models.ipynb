{
  "cells": [
    {
      "cell_type": "code",
      "execution_count": null,
      "metadata": {
        "colab": {
          "base_uri": "https://localhost:8080/"
        },
        "id": "Z7pWP40de81u",
        "outputId": "d2704edb-c9fc-42bf-a3cd-c5de25f6e1c7"
      },
      "outputs": [
        {
          "name": "stdout",
          "output_type": "stream",
          "text": [
            "Requirement already satisfied: imbalanced-learn in /usr/local/lib/python3.10/dist-packages (0.10.1)\n",
            "Requirement already satisfied: numpy>=1.17.3 in /usr/local/lib/python3.10/dist-packages (from imbalanced-learn) (1.25.2)\n",
            "Requirement already satisfied: scipy>=1.3.2 in /usr/local/lib/python3.10/dist-packages (from imbalanced-learn) (1.11.4)\n",
            "Requirement already satisfied: scikit-learn>=1.0.2 in /usr/local/lib/python3.10/dist-packages (from imbalanced-learn) (1.2.2)\n",
            "Requirement already satisfied: joblib>=1.1.1 in /usr/local/lib/python3.10/dist-packages (from imbalanced-learn) (1.4.2)\n",
            "Requirement already satisfied: threadpoolctl>=2.0.0 in /usr/local/lib/python3.10/dist-packages (from imbalanced-learn) (3.5.0)\n"
          ]
        }
      ],
      "source": [
        "pip install imbalanced-learn\n"
      ]
    },
    {
      "cell_type": "markdown",
      "metadata": {
        "id": "NWGDZXownUgo"
      },
      "source": [
        "## Load the Data"
      ]
    },
    {
      "cell_type": "code",
      "execution_count": null,
      "metadata": {
        "id": "avOkGSm2e_v1"
      },
      "outputs": [],
      "source": [
        "import pandas as pd\n",
        "\n",
        "# Load the dataset\n",
        "df = pd.read_csv('/content/preprocessed_dataset.csv')\n",
        "\n",
        "# Define the text and target columns\n",
        "text_column = 'cleaned_comment'\n",
        "target_column = 'labels'\n"
      ]
    },
    {
      "cell_type": "markdown",
      "metadata": {
        "id": "joHah8eDneuZ"
      },
      "source": [
        "## Apply Text Preprocessing"
      ]
    },
    {
      "cell_type": "code",
      "execution_count": null,
      "metadata": {
        "colab": {
          "base_uri": "https://localhost:8080/"
        },
        "id": "HuT2IV9afLxM",
        "outputId": "a6d4983b-c203-4858-df58-ce57cf96e7de"
      },
      "outputs": [
        {
          "name": "stderr",
          "output_type": "stream",
          "text": [
            "[nltk_data] Downloading package stopwords to /root/nltk_data...\n",
            "[nltk_data]   Unzipping corpora/stopwords.zip.\n",
            "[nltk_data] Downloading package punkt to /root/nltk_data...\n",
            "[nltk_data]   Unzipping tokenizers/punkt.zip.\n"
          ]
        },
        {
          "data": {
            "text/plain": [
              "True"
            ]
          },
          "execution_count": 3,
          "metadata": {},
          "output_type": "execute_result"
        }
      ],
      "source": [
        "import nltk\n",
        "\n",
        "# Download the stopwords resource\n",
        "nltk.download('stopwords')\n",
        "nltk.download('punkt')"
      ]
    },
    {
      "cell_type": "code",
      "execution_count": null,
      "metadata": {
        "colab": {
          "base_uri": "https://localhost:8080/"
        },
        "id": "mgsM5GgsfMFg",
        "outputId": "2d35c7be-561e-4710-e0c6-52f09836e76e"
      },
      "outputs": [
        {
          "name": "stderr",
          "output_type": "stream",
          "text": [
            "[nltk_data] Downloading package stopwords to /root/nltk_data...\n",
            "[nltk_data]   Package stopwords is already up-to-date!\n"
          ]
        }
      ],
      "source": [
        "import re\n",
        "from nltk.corpus import stopwords\n",
        "from nltk.tokenize import word_tokenize\n",
        "import nltk\n",
        "\n",
        "# Download the stopwords resource\n",
        "nltk.download('stopwords')\n",
        "\n",
        "# Define a function to clean and preprocess the text data\n",
        "def preprocess_text(text):\n",
        "    # Convert to lowercase\n",
        "    text = text.lower()\n",
        "    # Remove URLs\n",
        "    text = re.sub(r'http\\S+|www\\S+|https\\S+', '', text, flags=re.MULTILINE)\n",
        "    # Remove punctuation and digits\n",
        "    text = re.sub(r'[^\\w\\s]', '', text)\n",
        "    text = re.sub(r'\\d+', '', text)\n",
        "    # Remove stopwords\n",
        "    stop_words = set(stopwords.words('english'))\n",
        "    tokens = word_tokenize(text)\n",
        "    filtered_tokens = [word for word in tokens if word not in stop_words]\n",
        "    # Join tokens back into a single string\n",
        "    text = ' '.join(filtered_tokens)\n",
        "    return text\n",
        "\n",
        "# Apply text preprocessing\n",
        "df[text_column] = df[text_column].apply(preprocess_text)\n"
      ]
    },
    {
      "cell_type": "markdown",
      "metadata": {
        "id": "ECUZ5NCXnquW"
      },
      "source": [
        "## Vectorize the Text Data Using TF-IDF"
      ]
    },
    {
      "cell_type": "code",
      "execution_count": null,
      "metadata": {
        "id": "-Rzxp9IlfOlS"
      },
      "outputs": [],
      "source": [
        "import pandas as pd\n",
        "from sklearn.feature_extraction.text import TfidfVectorizer\n",
        "from imblearn.over_sampling import SMOTE\n",
        "from sklearn.model_selection import train_test_split\n",
        "\n",
        "\n",
        "\n",
        "# Vectorize the text data using TF-IDF\n",
        "tfidf_vectorizer = TfidfVectorizer(max_features=5000)\n",
        "X = tfidf_vectorizer.fit_transform(df[text_column])\n",
        "y = df[target_column]\n",
        "\n"
      ]
    },
    {
      "cell_type": "markdown",
      "metadata": {
        "id": "W6AeVzorn1cZ"
      },
      "source": [
        "## Apply SMOTE to the TF-IDF Vectorized Data"
      ]
    },
    {
      "cell_type": "code",
      "execution_count": null,
      "metadata": {
        "id": "nzj7qigfnueA"
      },
      "outputs": [],
      "source": [
        "# Apply SMOTE to the TF-IDF vectorized data\n",
        "smote = SMOTE(random_state=42)\n",
        "X_resampled, y_resampled = smote.fit_resample(X, y)\n",
        "\n",
        "# Split the data into training and testing sets\n",
        "X_train, X_test, y_train, y_test = train_test_split(X_resampled, y_resampled, test_size=0.2, random_state=42)\n",
        "\n",
        "# Now X_train, X_test, y_train, and y_test are ready for model training and evaluation\n"
      ]
    },
    {
      "cell_type": "markdown",
      "metadata": {
        "id": "JDknX73pn-Es"
      },
      "source": [
        "##  Build and Evaluate Machine Learning Models"
      ]
    },
    {
      "cell_type": "code",
      "execution_count": null,
      "metadata": {
        "id": "68T6ofTNfRfQ"
      },
      "outputs": [],
      "source": [
        "from sklearn.ensemble import RandomForestClassifier\n",
        "from sklearn.linear_model import LogisticRegression\n",
        "from sklearn.svm import SVC\n",
        "from sklearn.metrics import classification_report, accuracy_score\n",
        "\n",
        "def build_and_evaluate_ml_model(X_train, X_test, y_train, y_test, model_type='random_forest'):\n",
        "    if model_type == 'random_forest':\n",
        "        model = RandomForestClassifier(random_state=42)\n",
        "    elif model_type == 'logistic_regression':\n",
        "        model = LogisticRegression(max_iter=1000, random_state=42)\n",
        "    elif model_type == 'svm':\n",
        "        model = SVC(random_state=42)\n",
        "    else:\n",
        "        raise ValueError(\"Unsupported model type. Choose from 'random_forest', 'logistic_regression', or 'svm'.\")\n",
        "\n",
        "    # Train the model\n",
        "    model.fit(X_train, y_train)\n",
        "\n",
        "    # Make predictions\n",
        "    y_pred = model.predict(X_test)\n",
        "\n",
        "    # Evaluate the model\n",
        "    print(f\"Model: {model_type}\")\n",
        "    print(f\"Accuracy: {accuracy_score(y_test, y_pred)}\")\n",
        "    print(classification_report(y_test, y_pred))\n",
        "\n",
        "    return model\n",
        "\n"
      ]
    },
    {
      "cell_type": "code",
      "execution_count": null,
      "metadata": {
        "colab": {
          "base_uri": "https://localhost:8080/"
        },
        "id": "trYHk772fUoi",
        "outputId": "74f5ad04-c547-44ab-cc29-1dfa305ec146"
      },
      "outputs": [
        {
          "name": "stdout",
          "output_type": "stream",
          "text": [
            "Model: random_forest\n",
            "Accuracy: 0.7660924750679964\n",
            "              precision    recall  f1-score   support\n",
            "\n",
            "           0       0.75      0.78      0.77      2189\n",
            "           1       0.78      0.75      0.76      2223\n",
            "\n",
            "    accuracy                           0.77      4412\n",
            "   macro avg       0.77      0.77      0.77      4412\n",
            "weighted avg       0.77      0.77      0.77      4412\n",
            "\n",
            "Model: logistic_regression\n",
            "Accuracy: 0.772438803263826\n",
            "              precision    recall  f1-score   support\n",
            "\n",
            "           0       0.77      0.77      0.77      2189\n",
            "           1       0.78      0.77      0.77      2223\n",
            "\n",
            "    accuracy                           0.77      4412\n",
            "   macro avg       0.77      0.77      0.77      4412\n",
            "weighted avg       0.77      0.77      0.77      4412\n",
            "\n",
            "Model: svm\n",
            "Accuracy: 0.8125566636446057\n",
            "              precision    recall  f1-score   support\n",
            "\n",
            "           0       0.79      0.85      0.82      2189\n",
            "           1       0.84      0.78      0.81      2223\n",
            "\n",
            "    accuracy                           0.81      4412\n",
            "   macro avg       0.81      0.81      0.81      4412\n",
            "weighted avg       0.81      0.81      0.81      4412\n",
            "\n"
          ]
        }
      ],
      "source": [
        "# function calling\n",
        "rf_model = build_and_evaluate_ml_model(X_train, X_test, y_train, y_test, model_type='random_forest')\n",
        "lr_model = build_and_evaluate_ml_model(X_train, X_test, y_train, y_test, model_type='logistic_regression')\n",
        "svm_model = build_and_evaluate_ml_model(X_train, X_test, y_train, y_test, model_type='svm')\n"
      ]
    },
    {
      "cell_type": "markdown",
      "source": [
        "## Hyperparameter Tuning and Model Evaluation"
      ],
      "metadata": {
        "id": "XPRpRsGjzDYk"
      }
    },
    {
      "cell_type": "code",
      "execution_count": null,
      "metadata": {
        "colab": {
          "background_save": true,
          "base_uri": "https://localhost:8080/"
        },
        "id": "QUJzKtV6oame",
        "outputId": "568c21eb-174e-4bf0-8ec2-91e1c802d55a"
      },
      "outputs": [
        {
          "name": "stdout",
          "output_type": "stream",
          "text": [
            "Fitting 3 folds for each of 20 candidates, totalling 60 fits\n",
            "[CV] END C=1.3292918943162166, gamma=0.711447600934342, kernel=rbf; total time=  29.4s\n",
            "[CV] END C=1.3292918943162166, gamma=0.711447600934342, kernel=rbf; total time=  29.8s\n",
            "[CV] END C=1.3292918943162166, gamma=0.711447600934342, kernel=rbf; total time=  31.6s\n",
            "[CV] END C=21.830968390524596, gamma=0.061737703947045704, kernel=linear; total time=  50.2s\n",
            "[CV] END C=21.830968390524596, gamma=0.061737703947045704, kernel=linear; total time=  43.8s\n",
            "[CV] END C=0.2937538457632829, gamma=0.0014936568554617625, kernel=linear; total time=  20.7s\n",
            "[CV] END C=21.830968390524596, gamma=0.061737703947045704, kernel=linear; total time=  50.0s\n",
            "[CV] END C=0.2937538457632829, gamma=0.0014936568554617625, kernel=linear; total time=  17.6s\n",
            "[CV] END C=0.2937538457632829, gamma=0.0014936568554617625, kernel=linear; total time=  19.8s\n",
            "[CV] END C=1.0025956902289566, gamma=0.0026828750938254387, kernel=rbf; total time=  28.9s\n",
            "[CV] END C=1.0025956902289566, gamma=0.0026828750938254387, kernel=rbf; total time=  27.2s\n",
            "[CV] END C=0.115279871282324, gamma=0.8123245085588685, kernel=linear; total time=  19.7s\n",
            "[CV] END C=1.0025956902289566, gamma=0.0026828750938254387, kernel=rbf; total time=  28.6s\n",
            "[CV] END C=0.115279871282324, gamma=0.8123245085588685, kernel=linear; total time=  19.1s\n",
            "[CV] END C=0.115279871282324, gamma=0.8123245085588685, kernel=linear; total time=  20.5s\n",
            "[CV] END C=65.41210527692726, gamma=0.0010053940194693013, kernel=linear; total time= 1.8min\n",
            "[CV] END C=65.41210527692726, gamma=0.0010053940194693013, kernel=linear; total time= 1.8min\n",
            "[CV] END C=0.35498788321965025, gamma=0.008179499475211672, kernel=linear; total time=  17.3s\n",
            "[CV] END C=0.35498788321965025, gamma=0.008179499475211672, kernel=linear; total time=  16.4s\n",
            "[CV] END C=0.35498788321965025, gamma=0.008179499475211672, kernel=linear; total time=  16.0s\n",
            "[CV] END C=0.10500232504231348, gamma=0.0011727009450102248, kernel=rbf; total time=  27.0s\n",
            "[CV] END C=65.41210527692726, gamma=0.0010053940194693013, kernel=linear; total time= 1.6min\n",
            "[CV] END C=0.10500232504231348, gamma=0.0011727009450102248, kernel=rbf; total time=  27.0s\n",
            "[CV] END C=0.10500232504231348, gamma=0.0011727009450102248, kernel=rbf; total time=  27.3s\n",
            "[CV] END C=6.847920095574778, gamma=0.002621087878265439, kernel=linear; total time=  25.4s\n",
            "[CV] END C=6.847920095574778, gamma=0.002621087878265439, kernel=linear; total time=  25.1s\n",
            "[CV] END C=6.847920095574778, gamma=0.002621087878265439, kernel=linear; total time=  26.1s\n",
            "[CV] END C=83.41930294140772, gamma=0.004992453416923981, kernel=linear; total time= 2.0min\n",
            "[CV] END C=83.41930294140772, gamma=0.004992453416923981, kernel=linear; total time= 2.1min\n",
            "[CV] END C=22.673986523780385, gamma=0.00397211072738191, kernel=rbf; total time=  24.1s\n",
            "[CV] END C=22.673986523780385, gamma=0.00397211072738191, kernel=rbf; total time=  22.4s\n",
            "[CV] END C=22.673986523780385, gamma=0.00397211072738191, kernel=rbf; total time=  22.4s\n",
            "[CV] END C=89.06204386161673, gamma=0.025135566617708285, kernel=rbf; total time=  24.1s\n",
            "[CV] END C=83.41930294140772, gamma=0.004992453416923981, kernel=linear; total time= 1.7min\n",
            "[CV] END C=89.06204386161673, gamma=0.025135566617708285, kernel=rbf; total time=  24.3s\n",
            "[CV] END C=89.06204386161673, gamma=0.025135566617708285, kernel=rbf; total time=  25.0s\n",
            "[CV] END C=6.647135865318027, gamma=0.0032476735706274485, kernel=rbf; total time=  26.1s\n",
            "[CV] END C=6.647135865318027, gamma=0.0032476735706274485, kernel=rbf; total time=  26.6s\n",
            "[CV] END C=0.1095960453692584, gamma=0.6708188643346285, kernel=linear; total time=  18.8s\n",
            "[CV] END C=6.647135865318027, gamma=0.0032476735706274485, kernel=rbf; total time=  27.4s\n",
            "[CV] END C=0.1095960453692584, gamma=0.6708188643346285, kernel=linear; total time=  20.6s\n",
            "[CV] END C=0.1095960453692584, gamma=0.6708188643346285, kernel=linear; total time=  21.4s\n",
            "[CV] END C=26.619018884890558, gamma=0.008200518402245833, kernel=rbf; total time=  22.7s\n",
            "[CV] END C=26.619018884890558, gamma=0.008200518402245833, kernel=rbf; total time=  21.2s\n",
            "[CV] END C=0.4928122297695503, gamma=0.005285382203816726, kernel=linear; total time=  17.8s\n",
            "[CV] END C=26.619018884890558, gamma=0.008200518402245833, kernel=rbf; total time=  23.7s\n",
            "[CV] END C=0.4928122297695503, gamma=0.005285382203816726, kernel=linear; total time=  18.7s\n",
            "[CV] END C=0.4928122297695503, gamma=0.005285382203816726, kernel=linear; total time=  17.3s\n",
            "[CV] END C=0.2323350351539011, gamma=0.030586566669785254, kernel=rbf; total time=  27.9s\n",
            "[CV] END C=0.2323350351539011, gamma=0.030586566669785254, kernel=rbf; total time=  28.1s\n",
            "[CV] END C=0.33120277014659455, gamma=0.014899847475658236, kernel=linear; total time=  17.7s\n",
            "[CV] END C=0.2323350351539011, gamma=0.030586566669785254, kernel=rbf; total time=  28.3s\n",
            "[CV] END C=0.33120277014659455, gamma=0.014899847475658236, kernel=linear; total time=  17.1s\n",
            "[CV] END C=0.33120277014659455, gamma=0.014899847475658236, kernel=linear; total time=  17.3s\n",
            "[CV] END C=9.717775305059629, gamma=0.00861257919259488, kernel=linear; total time=  30.3s\n",
            "[CV] END C=9.717775305059629, gamma=0.00861257919259488, kernel=linear; total time=  30.0s\n",
            "[CV] END C=9.717775305059629, gamma=0.00861257919259488, kernel=linear; total time=  28.2s\n",
            "[CV] END C=0.4205571187007208, gamma=0.05047786565710604, kernel=rbf; total time=  27.4s\n",
            "[CV] END C=0.4205571187007208, gamma=0.05047786565710604, kernel=rbf; total time=  27.8s\n",
            "[CV] END C=0.4205571187007208, gamma=0.05047786565710604, kernel=rbf; total time=  25.0s\n",
            "Best Model: SVC(C=1.3292918943162166, gamma=0.711447600934342, random_state=42)\n",
            "Accuracy: 0.8068902991840435\n",
            "              precision    recall  f1-score   support\n",
            "\n",
            "           0       0.79      0.83      0.81      2189\n",
            "           1       0.83      0.78      0.80      2223\n",
            "\n",
            "    accuracy                           0.81      4412\n",
            "   macro avg       0.81      0.81      0.81      4412\n",
            "weighted avg       0.81      0.81      0.81      4412\n",
            "\n"
          ]
        }
      ],
      "source": [
        "import joblib\n",
        "from sklearn.model_selection import RandomizedSearchCV\n",
        "from sklearn.svm import SVC\n",
        "from sklearn.metrics import accuracy_score, classification_report\n",
        "from scipy.stats import uniform, loguniform\n",
        "\n",
        "# Function to perform hyperparameter tuning and evaluate models\n",
        "def tune_and_evaluate_model(X_train, X_test, y_train, y_test, model, param_dist):\n",
        "    with joblib.parallel_backend('threading'):\n",
        "        random_search = RandomizedSearchCV(estimator=model, param_distributions=param_dist, n_iter=20, cv=3, n_jobs=-1, verbose=2, scoring='accuracy', random_state=42)\n",
        "        random_search.fit(X_train, y_train)\n",
        "\n",
        "    best_model = random_search.best_estimator_\n",
        "    y_pred = best_model.predict(X_test)\n",
        "\n",
        "    print(f\"Best Model: {best_model}\")\n",
        "    print(f\"Accuracy: {accuracy_score(y_test, y_pred)}\")\n",
        "    print(classification_report(y_test, y_pred))\n",
        "\n",
        "    return best_model\n",
        "\n",
        "# SVM Hyperparameter Tuning with RandomizedSearchCV\n",
        "svm_param_dist = {\n",
        "    'C': loguniform(0.1, 100),\n",
        "    'gamma': loguniform(0.001, 1),\n",
        "    'kernel': ['rbf', 'linear']\n",
        "}\n",
        "\n",
        "svm_best_model = tune_and_evaluate_model(X_train, X_test, y_train, y_test, SVC(random_state=42), svm_param_dist)\n"
      ]
    },
    {
      "cell_type": "markdown",
      "metadata": {
        "id": "9fgyZ8kspXu-"
      },
      "source": [
        "### Conclusion\n",
        "\n",
        "- The SVM model outperforms both the Random Forest and Logistic Regression models in terms of accuracy and F1-score.\n",
        "- SVM shows a balanced performance with good precision and recall for both classes (0 and 1), indicating robust classification capabilities.\n",
        "- Random Forest and Logistic Regression models also perform reasonably well, but SVM provides slightly better performance metrics across accuracy, precision, recall, and F1-score.\n",
        "  \n",
        "In summary, based on this evaluation, the SVM model is recommended for this classification task due to its superior performance metrics compared to Random Forest and Logistic Regression models.\n",
        "\n",
        "\n",
        "\n",
        "\n",
        "\n"
      ]
    }
  ],
  "metadata": {
    "colab": {
      "provenance": []
    },
    "kernelspec": {
      "display_name": "Python 3",
      "name": "python3"
    },
    "language_info": {
      "name": "python"
    }
  },
  "nbformat": 4,
  "nbformat_minor": 0
}