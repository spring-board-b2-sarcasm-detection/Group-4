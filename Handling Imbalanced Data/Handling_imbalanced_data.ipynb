{
 "cells": [
  {
   "cell_type": "markdown",
   "id": "f0cedbaf-2543-4dfa-a3d7-aab925292d74",
   "metadata": {},
   "source": [
    "### Handling imbalanced data, including oversampling, undersampling, and using SMOTE."
   ]
  },
  {
   "cell_type": "markdown",
   "id": "40f34c05-d368-4e91-a767-42e6e98d5eac",
   "metadata": {},
   "source": [
    "### 1. Load and Examine the Dataset\n",
    "We start by loading the dataset and displaying basic information to understand its structure and content.\n"
   ]
  },
  {
   "cell_type": "code",
   "execution_count": 2,
   "id": "512c92a1-d1d8-4bc1-93a1-41c302b2332f",
   "metadata": {},
   "outputs": [
    {
     "name": "stdout",
     "output_type": "stream",
     "text": [
      "Requirement already satisfied: imbalanced-learn in c:\\users\\manis\\appdata\\local\\programs\\python\\python312\\lib\\site-packages (0.12.3)\n",
      "Requirement already satisfied: numpy>=1.17.3 in c:\\users\\manis\\appdata\\local\\programs\\python\\python312\\lib\\site-packages (from imbalanced-learn) (1.26.4)\n",
      "Requirement already satisfied: scipy>=1.5.0 in c:\\users\\manis\\appdata\\local\\programs\\python\\python312\\lib\\site-packages (from imbalanced-learn) (1.13.1)\n",
      "Requirement already satisfied: scikit-learn>=1.0.2 in c:\\users\\manis\\appdata\\local\\programs\\python\\python312\\lib\\site-packages (from imbalanced-learn) (1.5.0)\n",
      "Requirement already satisfied: joblib>=1.1.1 in c:\\users\\manis\\appdata\\local\\programs\\python\\python312\\lib\\site-packages (from imbalanced-learn) (1.4.2)\n",
      "Requirement already satisfied: threadpoolctl>=2.0.0 in c:\\users\\manis\\appdata\\local\\programs\\python\\python312\\lib\\site-packages (from imbalanced-learn) (3.5.0)\n",
      "Note: you may need to restart the kernel to use updated packages.\n"
     ]
    }
   ],
   "source": [
    "pip install imbalanced-learn\n"
   ]
  },
  {
   "cell_type": "code",
   "execution_count": 3,
   "id": "ff42f8ca-2165-4376-b397-c91f010af061",
   "metadata": {},
   "outputs": [
    {
     "name": "stdout",
     "output_type": "stream",
     "text": [
      "<class 'pandas.core.frame.DataFrame'>\n",
      "RangeIndex: 19420 entries, 0 to 19419\n",
      "Data columns (total 2 columns):\n",
      " #   Column           Non-Null Count  Dtype \n",
      "---  ------           --------------  ----- \n",
      " 0   labels           19420 non-null  int64 \n",
      " 1   cleaned_comment  19420 non-null  object\n",
      "dtypes: int64(1), object(1)\n",
      "memory usage: 303.6+ KB\n"
     ]
    }
   ],
   "source": [
    "# Import necessary libraries\n",
    "import pandas as pd\n",
    "import matplotlib.pyplot as plt\n",
    "from sklearn.utils import resample\n",
    "from imblearn.over_sampling import SMOTE\n",
    "from sklearn.feature_extraction.text import TfidfVectorizer\n",
    "\n",
    "\n",
    "# Load the dataset\n",
    "file_path = 'M:\\\\Internships\\\\infosys_springboard\\\\Notebooks\\\\Preprocessing\\\\preprocessed_dataset.csv'\n",
    "df = pd.read_csv(file_path)\n",
    "\n",
    "# Display basic information about the dataset\n",
    "df.info()\n"
   ]
  },
  {
   "cell_type": "code",
   "execution_count": 4,
   "id": "9e08e7ce-6d5a-4ce7-95a0-5d91869bf297",
   "metadata": {},
   "outputs": [
    {
     "data": {
      "text/html": [
       "<div>\n",
       "<style scoped>\n",
       "    .dataframe tbody tr th:only-of-type {\n",
       "        vertical-align: middle;\n",
       "    }\n",
       "\n",
       "    .dataframe tbody tr th {\n",
       "        vertical-align: top;\n",
       "    }\n",
       "\n",
       "    .dataframe thead th {\n",
       "        text-align: right;\n",
       "    }\n",
       "</style>\n",
       "<table border=\"1\" class=\"dataframe\">\n",
       "  <thead>\n",
       "    <tr style=\"text-align: right;\">\n",
       "      <th></th>\n",
       "      <th>labels</th>\n",
       "      <th>cleaned_comment</th>\n",
       "    </tr>\n",
       "  </thead>\n",
       "  <tbody>\n",
       "    <tr>\n",
       "      <th>0</th>\n",
       "      <td>1</td>\n",
       "      <td>user thanks showing appointment today</td>\n",
       "    </tr>\n",
       "    <tr>\n",
       "      <th>1</th>\n",
       "      <td>1</td>\n",
       "      <td>haha lol</td>\n",
       "    </tr>\n",
       "    <tr>\n",
       "      <th>2</th>\n",
       "      <td>1</td>\n",
       "      <td>love waiting num min cab shortage user please ...</td>\n",
       "    </tr>\n",
       "    <tr>\n",
       "      <th>3</th>\n",
       "      <td>1</td>\n",
       "      <td>22 super funny quote funnyquotes funnysayings ...</td>\n",
       "    </tr>\n",
       "    <tr>\n",
       "      <th>4</th>\n",
       "      <td>1</td>\n",
       "      <td>goog morning sorrynotsorry morning</td>\n",
       "    </tr>\n",
       "  </tbody>\n",
       "</table>\n",
       "</div>"
      ],
      "text/plain": [
       "   labels                                    cleaned_comment\n",
       "0       1              user thanks showing appointment today\n",
       "1       1                                           haha lol\n",
       "2       1  love waiting num min cab shortage user please ...\n",
       "3       1  22 super funny quote funnyquotes funnysayings ...\n",
       "4       1                 goog morning sorrynotsorry morning"
      ]
     },
     "execution_count": 4,
     "metadata": {},
     "output_type": "execute_result"
    }
   ],
   "source": [
    "df.head()"
   ]
  },
  {
   "cell_type": "markdown",
   "id": "4686d3eb-9cf8-49ae-baa0-32167bde6a7d",
   "metadata": {},
   "source": [
    "### 2. Examine Class Distribution\n",
    "We examine and visualize the class distribution to identify any imbalance. The plot shows the proportion of each class.\n"
   ]
  },
  {
   "cell_type": "code",
   "execution_count": 5,
   "id": "a5128e69-8ca1-4a76-aa5d-cf47175672eb",
   "metadata": {},
   "outputs": [
    {
     "data": {
      "text/plain": [
       "labels\n",
       "0    0.567868\n",
       "1    0.432132\n",
       "Name: proportion, dtype: float64"
      ]
     },
     "execution_count": 5,
     "metadata": {},
     "output_type": "execute_result"
    }
   ],
   "source": [
    "# Check the distribution of the labels\n",
    "label_distribution = df['labels'].value_counts(normalize=True)\n",
    "label_distribution"
   ]
  },
  {
   "cell_type": "code",
   "execution_count": 7,
   "id": "9afbf8ba-2ee7-4939-8074-639620eae968",
   "metadata": {},
   "outputs": [
    {
     "data": {
      "image/png": "[encoded data removed]",
      "text/plain": [
       "<Figure size 640x480 with 1 Axes>"
      ]
     },
     "metadata": {},
     "output_type": "display_data"
    },
    {
     "name": "stdout",
     "output_type": "stream",
     "text": [
      "labels\n",
      "0    0.567868\n",
      "1    0.432132\n",
      "Name: proportion, dtype: float64\n"
     ]
    }
   ],
   "source": [
    "# Plot the distribution as a pie chart with percentages\n",
    "label_distribution.plot(kind='pie', \n",
    "                        autopct=lambda p: f'{p:.1f}% ({p * len(df) / 100:.0f})', \n",
    "                        colors=['blue', 'orange'], \n",
    "                        startangle=90, \n",
    "                        counterclock=False)\n",
    "\n",
    "plt.title('Class Distribution')\n",
    "plt.ylabel('')  # Hide the y-label as it's redundant in a pie chart\n",
    "plt.show()\n",
    "\n",
    "print(label_distribution)\n"
   ]
  },
  {
   "cell_type": "markdown",
   "id": "1a23d430-7475-4a9c-b2a5-ef5558a867ff",
   "metadata": {},
   "source": [
    "### 3. Separate Features and Labels\n",
    "Assuming your dataset has features and labels, we need to separate them. Let's assume the label column is named 'label'."
   ]
  },
  {
   "cell_type": "code",
   "execution_count": 8,
   "id": "61274a3b-96fb-4084-a958-2857b92a5f8c",
   "metadata": {},
   "outputs": [],
   "source": [
    "# Separate features and labels\n",
    "X = df.drop(columns='labels')\n",
    "y = df['labels']\n"
   ]
  },
  {
   "cell_type": "markdown",
   "id": "7caf925c-24dd-45fc-8193-1076e4407b84",
   "metadata": {},
   "source": [
    "### 4: Apply SMOTE\n",
    "We will apply SMOTE to balance the dataset. To handle potential memory issues, we'll process the data in chunks."
   ]
  },
  {
   "cell_type": "code",
   "execution_count": 9,
   "id": "9a4c315d-0e2c-44b3-a9c8-d2b8f8090dbb",
   "metadata": {},
   "outputs": [],
   "source": [
    "import pandas as pd\n",
    "import numpy as np\n",
    "from imblearn.over_sampling import SMOTE\n",
    "from sklearn.feature_extraction.text import TfidfVectorizer\n",
    "from scipy.sparse import vstack\n",
    "\n",
    "\n",
    "# Separate features and labels\n",
    "X = df['cleaned_comment']\n",
    "y = df['labels']\n",
    "\n",
    "# Convert text data to numerical data using TF-IDF\n",
    "vectorizer = TfidfVectorizer()\n",
    "X_vectorized = vectorizer.fit_transform(X)\n",
    "\n",
    "def chunk_generator(data, labels, chunk_size):\n",
    "    for i in range(0, data.shape[0], chunk_size):\n",
    "        yield data[i:i + chunk_size], labels[i:i + chunk_size]\n",
    "\n",
    "# Define chunk size based on memory capacity\n",
    "chunk_size = 10000  # Adjust this based on your system's memory\n",
    "X_smote_list = []\n",
    "y_smote_list = []\n",
    "\n",
    "smote = SMOTE(random_state=42)\n",
    "for X_chunk, y_chunk in chunk_generator(X_vectorized, y, chunk_size):\n",
    "    # Ensure X_chunk and y_chunk have consistent lengths\n",
    "    if X_chunk.shape[0] != y_chunk.shape[0]:\n",
    "        raise ValueError(f\"Inconsistent number of samples: {X_chunk.shape[0]} in X_chunk, {y_chunk.shape[0]} in y_chunk\")\n",
    "\n",
    "    X_resampled, y_resampled = smote.fit_resample(X_chunk, y_chunk)\n",
    "    X_smote_list.append(X_resampled)\n",
    "    y_smote_list.append(y_resampled)\n",
    "\n",
    "# Combine all chunks back together in sparse format\n",
    "X_smote = vstack(X_smote_list)\n",
    "y_smote = np.hstack(y_smote_list)\n",
    "\n",
    "# # Save the resampled dataset\n",
    "# resampled_data = pd.DataFrame.sparse.from_spmatrix(X_smote, columns=vectorizer.get_feature_names_out())\n",
    "# resampled_data['labels'] = y_smote\n",
    "# resampled_data.to_csv('/mnt/data/resampled_dataset.csv', index=False)\n"
   ]
  },
  {
   "cell_type": "markdown",
   "id": "3b0f425b-9299-4bb0-9176-23c843f04db2",
   "metadata": {},
   "source": [
    "###  Visualize the resampled class distribution:"
   ]
  },
  {
   "cell_type": "code",
   "execution_count": 10,
   "id": "9fdaf2a8-2c91-4244-92ce-016a66280b1a",
   "metadata": {},
   "outputs": [
    {
     "data": {
      "image/png": "[encoded data removed]",
      "text/plain": [
       "<Figure size 640x480 with 1 Axes>"
      ]
     },
     "metadata": {},
     "output_type": "display_data"
    }
   ],
   "source": [
    "resampled_class_distribution = pd.Series(y_smote).value_counts(normalize=True)\n",
    "resampled_class_distribution.plot.pie(autopct='%1.1f%%', startangle=90, title='Resampled Class Distribution')\n",
    "plt.ylabel('')\n",
    "plt.show()\n"
   ]
  },
  {
   "cell_type": "markdown",
   "id": "010352cc-8d9c-45d7-819a-1381eb190f5b",
   "metadata": {},
   "source": [
    "### Save the resampled dataset"
   ]
  },
  {
   "cell_type": "code",
   "execution_count": null,
   "id": "1c58dbb1-ccfa-4a80-bf0a-966cd1ff9b8f",
   "metadata": {},
   "outputs": [],
   "source": [
    "# Save the resampled dataset\n",
    "resampled_data = pd.DataFrame.sparse.from_spmatrix(X_smote, columns=vectorizer.get_feature_names_out())\n",
    "resampled_data['labels'] = y_smote\n",
    "resampled_data.to_csv('M:\\\\Internships\\\\infosys_springboard\\\\Notebooks\\\\Preprocessing\\\\resampled_dataset.csv', index=False)\n"
   ]
  },
  {
   "cell_type": "raw",
   "id": "b3c57015-87d0-4e64-8c19-61213fdb9e9d",
   "metadata": {},
   "source": [
    "Load and Prepare Data:\n",
    "\n",
    "The dataset is loaded and the features (cleaned_comment) and labels (labels) are separated.\n",
    "Convert Text to Numerical Data:\n",
    "\n",
    "The TfidfVectorizer converts the text data into numerical format suitable for model training.\n",
    "Visualize Original Class Distribution:\n",
    "\n",
    "A pie chart is plotted to show the class distribution before applying SMOTE, providing a visual representation of the imbalance.\n",
    "Define a Chunk Generator:\n",
    "\n",
    "This function allows processing the data in smaller chunks to avoid memory errors during resampling.\n",
    "Apply SMOTE in Chunks:\n",
    "\n",
    "SMOTE is applied in chunks to generate synthetic samples for the minority class, balancing the class distribution within each chunk.\n",
    "Combine Chunks:\n",
    "\n",
    "The resampled data chunks are combined back into a single dataset, preserving the balanced class distribution.\n",
    "Visualize Resampled Class Distribution:\n",
    "\n",
    "Another pie chart is plotted to show the class distribution after applying SMOTE, providing a visual confirmation of the balanced dataset.\n",
    "Save the Resampled Dataset:\n",
    "\n",
    "The balanced dataset is saved for further use.\n",
    "The pie charts before and after applying SMOTE help to visually confirm that the class imbalance has been addressed. Below is a more concise version of the code with explanations:"
   ]
  },
  {
   "cell_type": "code",
   "execution_count": null,
   "id": "a86b1562-5023-4ec8-827e-ea1a149daf0a",
   "metadata": {},
   "outputs": [],
   "source": []
  }
 ],
 "metadata": {
  "kernelspec": {
   "display_name": "Python 3 (ipykernel)",
   "language": "python",
   "name": "python3"
  },
  "language_info": {
   "codemirror_mode": {
    "name": "ipython",
    "version": 3
   },
   "file_extension": ".py",
   "mimetype": "text/x-python",
   "name": "python",
   "nbconvert_exporter": "python",
   "pygments_lexer": "ipython3",
   "version": "3.12.1"
  }
 },
 "nbformat": 4,
 "nbformat_minor": 5
}
