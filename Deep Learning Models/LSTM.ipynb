{
  "nbformat": 4,
  "nbformat_minor": 0,
  "metadata": {
    "colab": {
      "provenance": [],
      "gpuType": "T4"
    },
    "kernelspec": {
      "name": "python3",
      "display_name": "Python 3"
    },
    "language_info": {
      "name": "python"
    },
    "accelerator": "GPU"
  },
  "cells": [
    {
      "cell_type": "code",
      "execution_count": 1,
      "metadata": {
        "id": "6npTiYllxNsi"
      },
      "outputs": [],
      "source": [
        "import pandas as pd\n",
        "import numpy as np\n",
        "from sklearn.model_selection import train_test_split\n",
        "from sklearn.metrics import classification_report, accuracy_score, f1_score, confusion_matrix\n",
        "from sklearn.feature_extraction.text import TfidfVectorizer\n",
        "from sklearn.preprocessing import OneHotEncoder\n",
        "from tensorflow.keras.models import Sequential\n",
        "from tensorflow.keras.layers import LSTM, BatchNormalization, Dense, Dropout\n",
        "from tensorflow.keras.optimizers import Adam\n",
        "from tensorflow.keras.regularizers import l2\n",
        "import matplotlib.pyplot as plt\n",
        "import seaborn as sns\n",
        "\n",
        "# Load your preprocessed dataset\n",
        "data = pd.read_csv('/content/preprocessed_dataset.csv')\n",
        "\n"
      ]
    },
    {
      "cell_type": "code",
      "source": [
        "# 'cleaned_comment' is the preprocessed comment text and 'labels' is the sarcasm label (0 or 1)\n",
        "X = data['cleaned_comment']\n",
        "y = data['labels']\n",
        "\n"
      ],
      "metadata": {
        "id": "HokNcoiBjreI"
      },
      "execution_count": 2,
      "outputs": []
    },
    {
      "cell_type": "code",
      "source": [
        "# Train-test split\n",
        "X_train, X_test, y_train, y_test = train_test_split(X, y, test_size=0.2, random_state=42)\n",
        "\n"
      ],
      "metadata": {
        "id": "acoWvIPRju-w"
      },
      "execution_count": 3,
      "outputs": []
    },
    {
      "cell_type": "code",
      "source": [
        "# Convert text data to TF-IDF vectors\n",
        "tfidf_vectorizer = TfidfVectorizer(max_features=5000)  # Limiting to 5000 features\n",
        "X_train_tfidf = tfidf_vectorizer.fit_transform(X_train)\n",
        "X_test_tfidf = tfidf_vectorizer.transform(X_test)\n",
        "\n"
      ],
      "metadata": {
        "id": "SRjEokI2jzuY"
      },
      "execution_count": 4,
      "outputs": []
    },
    {
      "cell_type": "code",
      "source": [
        "# Convert labels to numpy arrays\n",
        "y_train = np.array(y_train)\n",
        "y_test = np.array(y_test)\n",
        "\n",
        "# Reshape the data for the LSTM model\n",
        "X_train = np.expand_dims(X_train_tfidf.toarray(), axis=1)  # Convert sparse matrix to dense array and add time step dimension\n",
        "X_test = np.expand_dims(X_test_tfidf.toarray(), axis=1)    # Convert sparse matrix to dense array and add time step dimension\n",
        "\n"
      ],
      "metadata": {
        "id": "waj4y1HAo5g0"
      },
      "execution_count": 5,
      "outputs": []
    },
    {
      "cell_type": "code",
      "source": [
        "# Build the LSTM model with regularization and batch normalization\n",
        "model = Sequential()\n",
        "model.add(LSTM(units=256, input_shape=(1, X_train.shape[2]), return_sequences=True, kernel_regularizer=l2(0.01)))\n",
        "model.add(BatchNormalization())\n",
        "model.add(Dropout(0.2))\n",
        "model.add(LSTM(units=128, return_sequences=True, kernel_regularizer=l2(0.01)))\n",
        "model.add(BatchNormalization())\n",
        "model.add(Dropout(0.2))\n",
        "model.add(LSTM(units=64, return_sequences=False, kernel_regularizer=l2(0.01)))\n",
        "model.add(BatchNormalization())\n",
        "model.add(Dense(128, activation='relu', kernel_regularizer=l2(0.01)))\n",
        "model.add(BatchNormalization())\n",
        "model.add(Dense(64, activation='relu', kernel_regularizer=l2(0.01)))\n",
        "model.add(BatchNormalization())\n",
        "model.add(Dense(32, activation='relu', kernel_regularizer=l2(0.01)))\n",
        "model.add(BatchNormalization())\n",
        "model.add(Dense(1, activation='sigmoid'))  # For binary classification\n",
        "\n"
      ],
      "metadata": {
        "id": "HWafPlfbpAsH"
      },
      "execution_count": 6,
      "outputs": []
    },
    {
      "cell_type": "code",
      "source": [
        "# Compile the model\n",
        "model.compile(optimizer=Adam(learning_rate=0.001), loss='binary_crossentropy', metrics=['accuracy'])\n",
        "\n",
        "# Display the model architecture\n",
        "model.summary()\n",
        "\n"
      ],
      "metadata": {
        "colab": {
          "base_uri": "https://localhost:8080/"
        },
        "id": "-YGOWz74pDQE",
        "outputId": "2a847899-c317-4190-9468-5f274bc9bc1b"
      },
      "execution_count": 7,
      "outputs": [
        {
          "output_type": "stream",
          "name": "stdout",
          "text": [
            "Model: \"sequential\"\n",
            "_________________________________________________________________\n",
            " Layer (type)                Output Shape              Param #   \n",
            "=================================================================\n",
            " lstm (LSTM)                 (None, 1, 256)            5383168   \n",
            "                                                                 \n",
            " batch_normalization (Batch  (None, 1, 256)            1024      \n",
            " Normalization)                                                  \n",
            "                                                                 \n",
            " dropout (Dropout)           (None, 1, 256)            0         \n",
            "                                                                 \n",
            " lstm_1 (LSTM)               (None, 1, 128)            197120    \n",
            "                                                                 \n",
            " batch_normalization_1 (Bat  (None, 1, 128)            512       \n",
            " chNormalization)                                                \n",
            "                                                                 \n",
            " dropout_1 (Dropout)         (None, 1, 128)            0         \n",
            "                                                                 \n",
            " lstm_2 (LSTM)               (None, 64)                49408     \n",
            "                                                                 \n",
            " batch_normalization_2 (Bat  (None, 64)                256       \n",
            " chNormalization)                                                \n",
            "                                                                 \n",
            " dense (Dense)               (None, 128)               8320      \n",
            "                                                                 \n",
            " batch_normalization_3 (Bat  (None, 128)               512       \n",
            " chNormalization)                                                \n",
            "                                                                 \n",
            " dense_1 (Dense)             (None, 64)                8256      \n",
            "                                                                 \n",
            " batch_normalization_4 (Bat  (None, 64)                256       \n",
            " chNormalization)                                                \n",
            "                                                                 \n",
            " dense_2 (Dense)             (None, 32)                2080      \n",
            "                                                                 \n",
            " batch_normalization_5 (Bat  (None, 32)                128       \n",
            " chNormalization)                                                \n",
            "                                                                 \n",
            " dense_3 (Dense)             (None, 1)                 33        \n",
            "                                                                 \n",
            "=================================================================\n",
            "Total params: 5651073 (21.56 MB)\n",
            "Trainable params: 5649729 (21.55 MB)\n",
            "Non-trainable params: 1344 (5.25 KB)\n",
            "_________________________________________________________________\n"
          ]
        }
      ]
    },
    {
      "cell_type": "code",
      "source": [
        "# Train the model\n",
        "history = model.fit(X_train, y_train, epochs=10, batch_size=32, validation_split=0.2)\n",
        "\n"
      ],
      "metadata": {
        "colab": {
          "base_uri": "https://localhost:8080/"
        },
        "id": "8z6zPcumpGsG",
        "outputId": "7c594032-4e75-4d95-fea3-c5cc1b4eecb4"
      },
      "execution_count": 8,
      "outputs": [
        {
          "output_type": "stream",
          "name": "stdout",
          "text": [
            "Epoch 1/10\n",
            "389/389 [==============================] - 29s 27ms/step - loss: 4.7632 - accuracy: 0.6859 - val_loss: 2.8005 - val_accuracy: 0.5730\n",
            "Epoch 2/10\n",
            "389/389 [==============================] - 7s 18ms/step - loss: 1.7190 - accuracy: 0.7523 - val_loss: 1.2413 - val_accuracy: 0.7082\n",
            "Epoch 3/10\n",
            "389/389 [==============================] - 7s 17ms/step - loss: 0.9478 - accuracy: 0.7654 - val_loss: 0.8572 - val_accuracy: 0.7362\n",
            "Epoch 4/10\n",
            "389/389 [==============================] - 7s 19ms/step - loss: 0.7405 - accuracy: 0.7685 - val_loss: 0.7839 - val_accuracy: 0.7487\n",
            "Epoch 5/10\n",
            "389/389 [==============================] - 6s 17ms/step - loss: 0.6855 - accuracy: 0.7792 - val_loss: 0.7518 - val_accuracy: 0.7436\n",
            "Epoch 6/10\n",
            "389/389 [==============================] - 8s 20ms/step - loss: 0.6511 - accuracy: 0.7949 - val_loss: 0.6761 - val_accuracy: 0.7532\n",
            "Epoch 7/10\n",
            "389/389 [==============================] - 7s 17ms/step - loss: 0.6346 - accuracy: 0.8058 - val_loss: 0.7066 - val_accuracy: 0.7355\n",
            "Epoch 8/10\n",
            "389/389 [==============================] - 7s 18ms/step - loss: 0.6345 - accuracy: 0.8042 - val_loss: 0.7027 - val_accuracy: 0.7423\n",
            "Epoch 9/10\n",
            "389/389 [==============================] - 6s 16ms/step - loss: 0.6228 - accuracy: 0.8131 - val_loss: 0.7462 - val_accuracy: 0.7429\n",
            "Epoch 10/10\n",
            "389/389 [==============================] - 7s 19ms/step - loss: 0.6249 - accuracy: 0.8163 - val_loss: 0.7066 - val_accuracy: 0.7317\n"
          ]
        }
      ]
    },
    {
      "cell_type": "code",
      "source": [
        "# Evaluate the model\n",
        "loss, accuracy = model.evaluate(X_test, y_test)\n",
        "print(f\"Test Accuracy: {accuracy}\")\n",
        "\n",
        "# Predict on test data\n",
        "y_test_pred = (model.predict(X_test) > 0.5).astype(\"int32\")\n",
        "\n",
        "# Calculate F1 score\n",
        "f1 = f1_score(y_test, y_test_pred)\n",
        "print(f\"Test F1 Score: {f1}\")\n",
        "\n"
      ],
      "metadata": {
        "colab": {
          "base_uri": "https://localhost:8080/"
        },
        "id": "VKfkJCNJpIgR",
        "outputId": "c7c33d57-19d1-4330-9c2f-d8fe1af8b29b"
      },
      "execution_count": 10,
      "outputs": [
        {
          "output_type": "stream",
          "name": "stdout",
          "text": [
            "122/122 [==============================] - 1s 6ms/step - loss: 0.7137 - accuracy: 0.7284\n",
            "Test Accuracy: 0.7283728122711182\n",
            "122/122 [==============================] - 2s 4ms/step\n",
            "Test F1 Score: 0.7119847119847119\n"
          ]
        }
      ]
    },
    {
      "cell_type": "code",
      "source": [
        "# Print classification report\n",
        "print(classification_report(y_test, y_test_pred))\n",
        "\n"
      ],
      "metadata": {
        "colab": {
          "base_uri": "https://localhost:8080/"
        },
        "id": "M3YXmLCepLXx",
        "outputId": "0a7a9539-4885-4b7a-ff43-c24787817234"
      },
      "execution_count": 11,
      "outputs": [
        {
          "output_type": "stream",
          "name": "stdout",
          "text": [
            "              precision    recall  f1-score   support\n",
            "\n",
            "           0       0.79      0.70      0.74      2178\n",
            "           1       0.67      0.76      0.71      1706\n",
            "\n",
            "    accuracy                           0.73      3884\n",
            "   macro avg       0.73      0.73      0.73      3884\n",
            "weighted avg       0.74      0.73      0.73      3884\n",
            "\n"
          ]
        }
      ]
    },
    {
      "cell_type": "code",
      "source": [
        "# Plot confusion matrix\n",
        "conf_matrix = confusion_matrix(y_test, y_test_pred)\n",
        "plt.figure(figsize=(10, 7))\n",
        "sns.heatmap(conf_matrix, annot=True, fmt='d', cmap='Blues')\n",
        "plt.xlabel('Predicted Labels')\n",
        "plt.ylabel('True Labels')\n",
        "plt.title('Confusion Matrix')\n",
        "plt.show()"
      ],
      "metadata": {
        "colab": {
          "base_uri": "https://localhost:8080/",
          "height": 641
        },
        "id": "25oajmUJpMzq",
        "outputId": "971a0600-d5d1-4487-c6dd-4c785f3b302a"
      },
      "execution_count": 12,
      "outputs": [
        {
          "output_type": "display_data",
          "data": {
            "text/plain": [
              "<Figure size 1000x700 with 2 Axes>"
            ],
            "image/png": "[encoded data removed]"
          },
          "metadata": {}
        }
      ]
    },
    {
      "cell_type": "code",
      "source": [],
      "metadata": {
        "id": "Y3SrYVCPpf1g"
      },
      "execution_count": null,
      "outputs": []
    }
  ]
}