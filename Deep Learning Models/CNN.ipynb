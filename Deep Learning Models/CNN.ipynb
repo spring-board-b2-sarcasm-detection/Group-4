{
  "cells": [
    {
      "cell_type": "code",
      "execution_count": null,
      "metadata": {
        "id": "6npTiYllxNsi"
      },
      "outputs": [],
      "source": [
        "import pandas as pd\n",
        "import numpy as np\n",
        "from sklearn.model_selection import train_test_split\n",
        "from sklearn.metrics import classification_report, accuracy_score, f1_score, confusion_matrix\n",
        "from sklearn.feature_extraction.text import TfidfVectorizer\n",
        "from sklearn.preprocessing import OneHotEncoder\n",
        "from tensorflow.keras.models import Sequential\n",
        "from tensorflow.keras.layers import Conv1D, MaxPooling1D, Flatten, Dense, Dropout\n",
        "from tensorflow.keras.optimizers import Adam\n",
        "from tensorflow.keras.regularizers import l2\n",
        "import matplotlib.pyplot as plt\n",
        "import seaborn as sns\n",
        "\n",
        "# Load your preprocessed dataset\n",
        "data = pd.read_csv('/content/preprocessed_dataset.csv')\n",
        "\n"
      ]
    },
    {
      "cell_type": "code",
      "source": [
        "# 'cleaned_comment' is the preprocessed comment text and 'labels' is the sarcasm label (0 or 1)\n",
        "X = data['cleaned_comment']\n",
        "y = data['labels']\n",
        "\n"
      ],
      "metadata": {
        "id": "HokNcoiBjreI"
      },
      "execution_count": null,
      "outputs": []
    },
    {
      "cell_type": "code",
      "source": [
        "# Train-test split\n",
        "X_train, X_test, y_train, y_test = train_test_split(X, y, test_size=0.2, random_state=42)\n",
        "\n",
        "# Convert text data to TF-IDF vectors\n",
        "tfidf_vectorizer = TfidfVectorizer(max_features=5000)  # Limiting to 5000 features\n",
        "X_train_tfidf = tfidf_vectorizer.fit_transform(X_train)\n",
        "X_test_tfidf = tfidf_vectorizer.transform(X_test)\n",
        "\n",
        "# Convert labels to numpy arrays\n",
        "y_train = np.array(y_train)\n",
        "y_test = np.array(y_test)\n",
        "\n"
      ],
      "metadata": {
        "id": "acoWvIPRju-w"
      },
      "execution_count": null,
      "outputs": []
    },
    {
      "cell_type": "code",
      "source": [
        "# One-hot encode the labels\n",
        "onehot_encoder = OneHotEncoder(sparse=False)\n",
        "y_train = onehot_encoder.fit_transform(y_train.reshape(-1, 1))\n",
        "y_test = onehot_encoder.transform(y_test.reshape(-1, 1))\n",
        "\n",
        "# Reshape the data for the CNN model\n",
        "X_train = np.expand_dims(X_train_tfidf.toarray(), axis=2)  # Convert sparse matrix to dense array and add channel dimension\n",
        "X_test = np.expand_dims(X_test_tfidf.toarray(), axis=2)    # Convert sparse matrix to dense array and add channel dimension\n"
      ],
      "metadata": {
        "colab": {
          "base_uri": "https://localhost:8080/"
        },
        "id": "SRjEokI2jzuY",
        "outputId": "4757662e-b230-4e5e-acd7-bc770288539d"
      },
      "execution_count": null,
      "outputs": [
        {
          "output_type": "stream",
          "name": "stderr",
          "text": [
            "/usr/local/lib/python3.10/dist-packages/sklearn/preprocessing/_encoders.py:868: FutureWarning: `sparse` was renamed to `sparse_output` in version 1.2 and will be removed in 1.4. `sparse_output` is ignored unless you leave `sparse` to its default value.\n",
            "  warnings.warn(\n"
          ]
        }
      ]
    },
    {
      "cell_type": "code",
      "execution_count": null,
      "metadata": {
        "id": "SXAuy8V4JKYr"
      },
      "outputs": [],
      "source": [
        "# Define input shape based on X_train dimensions\n",
        "input_shape = (X_train.shape[1], 1)\n",
        "\n",
        "# Number of classes\n",
        "num_classes = y_train.shape[1]\n",
        "\n",
        "# Build the CNN model\n",
        "model = Sequential()\n",
        "\n",
        "# Convolutional layers: Learn spatial features\n",
        "model.add(Conv1D(filters=32, kernel_size=3, activation='relu', input_shape=input_shape, kernel_regularizer=regularizers.l2(0.001)))\n",
        "model.add(MaxPooling1D(pool_size=2))\n",
        "model.add(Dropout(0.2))  # Dropout to prevent overfitting\n",
        "\n",
        "model.add(Conv1D(filters=64, kernel_size=3, activation='relu', kernel_regularizer=regularizers.l2(0.001)))\n",
        "model.add(MaxPooling1D(pool_size=2))\n",
        "model.add(Dropout(0.2))\n",
        "\n",
        "# Flatten layer: Prepare for dense layers\n",
        "model.add(Flatten())\n",
        "\n",
        "# Dense layers: Extract higher-level features and classify\n",
        "model.add(Dense(128, activation='relu', kernel_regularizer=regularizers.l2(0.001)))\n",
        "model.add(Dropout(0.3))\n",
        "model.add(Dense(64, activation='relu', kernel_regularizer=regularizers.l2(0.001)))\n",
        "model.add(Dropout(0.3))\n",
        "\n",
        "# Output layer with appropriate activation (e.g., sigmoid for binary classification, softmax for multi-class)\n",
        "model.add(Dense(num_classes, activation='softmax'))  # Adjust for your number of classes\n",
        "\n"
      ]
    },
    {
      "cell_type": "code",
      "source": [
        "# Compile the model\n",
        "model.compile(loss='categorical_crossentropy',  # Adjust loss for your problem (e.g., 'binary_crossentropy' for binary)\n",
        "              optimizer=Adam(learning_rate=0.001),  # Adjust learning rate as needed\n",
        "              metrics=['accuracy'])\n",
        "\n"
      ],
      "metadata": {
        "id": "fA5NVoJ4j85W"
      },
      "execution_count": null,
      "outputs": []
    },
    {
      "cell_type": "code",
      "source": [
        "# Train the model\n",
        "history = model.fit(X_train, y_train, epochs=20, batch_size=64, validation_data=(X_test, y_test))\n",
        "\n"
      ],
      "metadata": {
        "colab": {
          "base_uri": "https://localhost:8080/"
        },
        "id": "p-LBlPXgk5UV",
        "outputId": "1a87f6de-ab49-4247-af00-c7fbf66f1234"
      },
      "execution_count": null,
      "outputs": [
        {
          "output_type": "stream",
          "name": "stdout",
          "text": [
            "Epoch 1/20\n",
            "243/243 [==============================] - 14s 27ms/step - loss: 0.7703 - accuracy: 0.6668 - val_loss: 0.7238 - val_accuracy: 0.7132\n",
            "Epoch 2/20\n",
            "243/243 [==============================] - 6s 25ms/step - loss: 0.7091 - accuracy: 0.7248 - val_loss: 0.6993 - val_accuracy: 0.7237\n",
            "Epoch 3/20\n",
            "243/243 [==============================] - 6s 23ms/step - loss: 0.6694 - accuracy: 0.7499 - val_loss: 0.6807 - val_accuracy: 0.7389\n",
            "Epoch 4/20\n",
            "243/243 [==============================] - 6s 24ms/step - loss: 0.6396 - accuracy: 0.7766 - val_loss: 0.6712 - val_accuracy: 0.7415\n",
            "Epoch 5/20\n",
            "243/243 [==============================] - 6s 24ms/step - loss: 0.6171 - accuracy: 0.7896 - val_loss: 0.6729 - val_accuracy: 0.7474\n",
            "Epoch 6/20\n",
            "243/243 [==============================] - 6s 25ms/step - loss: 0.5967 - accuracy: 0.8007 - val_loss: 0.6867 - val_accuracy: 0.7353\n",
            "Epoch 7/20\n",
            "243/243 [==============================] - 6s 23ms/step - loss: 0.5825 - accuracy: 0.8099 - val_loss: 0.6903 - val_accuracy: 0.7423\n",
            "Epoch 8/20\n",
            "243/243 [==============================] - 6s 24ms/step - loss: 0.5735 - accuracy: 0.8204 - val_loss: 0.7068 - val_accuracy: 0.7454\n",
            "Epoch 9/20\n",
            "243/243 [==============================] - 6s 24ms/step - loss: 0.5588 - accuracy: 0.8281 - val_loss: 0.7177 - val_accuracy: 0.7343\n",
            "Epoch 10/20\n",
            "243/243 [==============================] - 7s 28ms/step - loss: 0.5411 - accuracy: 0.8413 - val_loss: 0.7324 - val_accuracy: 0.7392\n",
            "Epoch 11/20\n",
            "243/243 [==============================] - 7s 28ms/step - loss: 0.5307 - accuracy: 0.8475 - val_loss: 0.7396 - val_accuracy: 0.7400\n",
            "Epoch 12/20\n",
            "243/243 [==============================] - 6s 24ms/step - loss: 0.5273 - accuracy: 0.8547 - val_loss: 0.7508 - val_accuracy: 0.7477\n",
            "Epoch 13/20\n",
            "243/243 [==============================] - 6s 25ms/step - loss: 0.5217 - accuracy: 0.8549 - val_loss: 0.7681 - val_accuracy: 0.7492\n",
            "Epoch 14/20\n",
            "243/243 [==============================] - 6s 24ms/step - loss: 0.5051 - accuracy: 0.8668 - val_loss: 0.7703 - val_accuracy: 0.7400\n",
            "Epoch 15/20\n",
            "243/243 [==============================] - 6s 25ms/step - loss: 0.4968 - accuracy: 0.8670 - val_loss: 0.7762 - val_accuracy: 0.7340\n",
            "Epoch 16/20\n",
            "243/243 [==============================] - 6s 24ms/step - loss: 0.4890 - accuracy: 0.8713 - val_loss: 0.7819 - val_accuracy: 0.7371\n",
            "Epoch 17/20\n",
            "243/243 [==============================] - 6s 25ms/step - loss: 0.4849 - accuracy: 0.8747 - val_loss: 0.7918 - val_accuracy: 0.7335\n",
            "Epoch 18/20\n",
            "243/243 [==============================] - 6s 24ms/step - loss: 0.4833 - accuracy: 0.8764 - val_loss: 0.8074 - val_accuracy: 0.7309\n",
            "Epoch 19/20\n",
            "243/243 [==============================] - 6s 25ms/step - loss: 0.4758 - accuracy: 0.8775 - val_loss: 0.7942 - val_accuracy: 0.7351\n",
            "Epoch 20/20\n",
            "243/243 [==============================] - 6s 25ms/step - loss: 0.4748 - accuracy: 0.8782 - val_loss: 0.8160 - val_accuracy: 0.7302\n"
          ]
        }
      ]
    },
    {
      "cell_type": "code",
      "source": [
        "\n",
        "# Evaluate the model\n",
        "loss, accuracy = model.evaluate(X_test, y_test)\n",
        "print(f\"Test Loss: {loss}\")\n",
        "print(f\"Test Accuracy: {accuracy}\")\n",
        "\n",
        "# Predict on test data\n",
        "y_test_pred = model.predict(X_test)\n",
        "y_test_pred_classes = np.argmax(y_test_pred, axis=1)\n",
        "\n",
        "# Convert one-hot encoded y_test back to categorical labels\n",
        "y_test_classes = np.argmax(y_test, axis=1)\n",
        "\n",
        "\n",
        "# Calculate F1 score\n",
        "f1 = f1_score(y_test_classes, y_test_pred_classes)\n",
        "print(f\"Test F1 Score: {f1}\")\n",
        "\n",
        "# Print classification report\n",
        "print(classification_report(y_test_classes, y_test_pred_classes))"
      ],
      "metadata": {
        "colab": {
          "base_uri": "https://localhost:8080/"
        },
        "id": "lPsURnTgk3P7",
        "outputId": "2d963f0b-3621-4034-ffe8-b53dabca49f7"
      },
      "execution_count": null,
      "outputs": [
        {
          "output_type": "stream",
          "name": "stdout",
          "text": [
            "122/122 [==============================] - 1s 7ms/step - loss: 0.8160 - accuracy: 0.7302\n",
            "Test Loss: 0.8160125017166138\n",
            "Test Accuracy: 0.7301750779151917\n",
            "122/122 [==============================] - 1s 5ms/step\n",
            "Test F1 Score: 0.6771410967344423\n",
            "              precision    recall  f1-score   support\n",
            "\n",
            "           0       0.74      0.80      0.77      2178\n",
            "           1       0.71      0.64      0.68      1706\n",
            "\n",
            "    accuracy                           0.73      3884\n",
            "   macro avg       0.73      0.72      0.72      3884\n",
            "weighted avg       0.73      0.73      0.73      3884\n",
            "\n"
          ]
        }
      ]
    },
    {
      "cell_type": "code",
      "execution_count": null,
      "metadata": {
        "id": "qmWg2C9tANQG",
        "colab": {
          "base_uri": "https://localhost:8080/",
          "height": 641
        },
        "outputId": "b8f1c944-0f5a-44df-f066-c7a7bc9f1ffd"
      },
      "outputs": [
        {
          "output_type": "display_data",
          "data": {
            "text/plain": [
              "<Figure size 1000x700 with 2 Axes>"
            ],
            "image/png": "[encoded data removed]"
          },
          "metadata": {}
        }
      ],
      "source": [
        " # Plot confusion matrix\n",
        "conf_matrix = confusion_matrix(y_test_classes, y_test_pred_classes)\n",
        "plt.figure(figsize=(10, 7))\n",
        "sns.heatmap(conf_matrix, annot=True, fmt='d', cmap='Blues')\n",
        "plt.xlabel('Predicted Labels')\n",
        "plt.ylabel('True Labels')\n",
        "plt.title('Confusion Matrix')\n",
        "plt.show()"
      ]
    },
    {
      "cell_type": "code",
      "source": [],
      "metadata": {
        "id": "poLtxTqNll6Y"
      },
      "execution_count": null,
      "outputs": []
    }
  ],
  "metadata": {
    "accelerator": "GPU",
    "colab": {
      "gpuType": "T4",
      "provenance": []
    },
    "kernelspec": {
      "display_name": "Python 3",
      "name": "python3"
    },
    "language_info": {
      "name": "python"
    }
  },
  "nbformat": 4,
  "nbformat_minor": 0
}