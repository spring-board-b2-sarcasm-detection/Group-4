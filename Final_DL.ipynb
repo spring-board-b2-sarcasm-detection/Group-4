{
  "nbformat": 4,
  "nbformat_minor": 0,
  "metadata": {
    "colab": {
      "provenance": [],
      "gpuType": "T4"
    },
    "kernelspec": {
      "name": "python3",
      "display_name": "Python 3"
    },
    "language_info": {
      "name": "python"
    },
    "accelerator": "GPU"
  },
  "cells": [
    {
      "cell_type": "markdown",
      "source": [
        "## Sarcasm Detection on YouTube Comments -\n",
        "\n",
        "\n",
        "sarcasm detection in YouTube comments using Deep Learning."
      ],
      "metadata": {
        "id": "hrrZQ_gMEleK"
      }
    },
    {
      "cell_type": "code",
      "execution_count": 1,
      "metadata": {
        "id": "9Qy1d4kHB7h6"
      },
      "outputs": [],
      "source": [
        "# Import necessary libraries\n",
        "import numpy as np\n",
        "import pandas as pd\n",
        "from sklearn.model_selection import train_test_split\n",
        "from sklearn.preprocessing import LabelEncoder\n",
        "from sklearn.feature_extraction.text import TfidfVectorizer\n",
        "from keras.models import Sequential\n",
        "from keras.layers import Dense, Dropout\n",
        "from keras.utils import to_categorical\n",
        "from sklearn.metrics import accuracy_score, precision_score, recall_score, f1_score, confusion_matrix, roc_auc_score, roc_curve\n",
        "import matplotlib.pyplot as plt\n",
        "import seaborn as sns"
      ]
    },
    {
      "cell_type": "code",
      "source": [
        "# Load the dataset\n",
        "data = pd.read_csv('processed_data2.csv')\n",
        "\n",
        "# Display the first few rows of the dataset\n",
        "data.head()"
      ],
      "metadata": {
        "colab": {
          "base_uri": "https://localhost:8080/",
          "height": 206
        },
        "id": "VZ5R72cuCRWp",
        "outputId": "18cd2988-d356-4d4a-b780-9bbc1d162fe9"
      },
      "execution_count": 7,
      "outputs": [
        {
          "output_type": "execute_result",
          "data": {
            "text/plain": [
              "                                                text  labels  \\\n",
              "0  <user> thanks for showing up for our appointme...       1   \n",
              "1                                      haha .  # lol       1   \n",
              "2  i love waiting <num> min for a cab - such shor...       1   \n",
              "3  22 super funny quotes # funnyquotes  # funnysa...       1   \n",
              "4            goog morning  # sorrynotsorry # morning       1   \n",
              "\n",
              "                                     cleaned_comment  \n",
              "0              user thanks showing appointment today  \n",
              "1                                           haha lol  \n",
              "2  love waiting num min cab shortage user please ...  \n",
              "3  22 super funny quote funnyquotes funnysayings ...  \n",
              "4                 goog morning sorrynotsorry morning  "
            ],
            "text/html": [
              "\n",
              "  <div id=\"df-a45ae0da-14c7-4feb-99ed-7aa2611090e2\" class=\"colab-df-container\">\n",
              "    <div>\n",
              "<style scoped>\n",
              "    .dataframe tbody tr th:only-of-type {\n",
              "        vertical-align: middle;\n",
              "    }\n",
              "\n",
              "    .dataframe tbody tr th {\n",
              "        vertical-align: top;\n",
              "    }\n",
              "\n",
              "    .dataframe thead th {\n",
              "        text-align: right;\n",
              "    }\n",
              "</style>\n",
              "<table border=\"1\" class=\"dataframe\">\n",
              "  <thead>\n",
              "    <tr style=\"text-align: right;\">\n",
              "      <th></th>\n",
              "      <th>text</th>\n",
              "      <th>labels</th>\n",
              "      <th>cleaned_comment</th>\n",
              "    </tr>\n",
              "  </thead>\n",
              "  <tbody>\n",
              "    <tr>\n",
              "      <th>0</th>\n",
              "      <td>&lt;user&gt; thanks for showing up for our appointme...</td>\n",
              "      <td>1</td>\n",
              "      <td>user thanks showing appointment today</td>\n",
              "    </tr>\n",
              "    <tr>\n",
              "      <th>1</th>\n",
              "      <td>haha .  # lol</td>\n",
              "      <td>1</td>\n",
              "      <td>haha lol</td>\n",
              "    </tr>\n",
              "    <tr>\n",
              "      <th>2</th>\n",
              "      <td>i love waiting &lt;num&gt; min for a cab - such shor...</td>\n",
              "      <td>1</td>\n",
              "      <td>love waiting num min cab shortage user please ...</td>\n",
              "    </tr>\n",
              "    <tr>\n",
              "      <th>3</th>\n",
              "      <td>22 super funny quotes # funnyquotes  # funnysa...</td>\n",
              "      <td>1</td>\n",
              "      <td>22 super funny quote funnyquotes funnysayings ...</td>\n",
              "    </tr>\n",
              "    <tr>\n",
              "      <th>4</th>\n",
              "      <td>goog morning  # sorrynotsorry # morning</td>\n",
              "      <td>1</td>\n",
              "      <td>goog morning sorrynotsorry morning</td>\n",
              "    </tr>\n",
              "  </tbody>\n",
              "</table>\n",
              "</div>\n",
              "    <div class=\"colab-df-buttons\">\n",
              "\n",
              "  <div class=\"colab-df-container\">\n",
              "    <button class=\"colab-df-convert\" onclick=\"convertToInteractive('df-a45ae0da-14c7-4feb-99ed-7aa2611090e2')\"\n",
              "            title=\"Convert this dataframe to an interactive table.\"\n",
              "            style=\"display:none;\">\n",
              "\n",
              "  <svg xmlns=\"http://www.w3.org/2000/svg\" height=\"24px\" viewBox=\"0 -960 960 960\">\n",
              "    <path d=\"M120-120v-720h720v720H120Zm60-500h600v-160H180v160Zm220 220h160v-160H400v160Zm0 220h160v-160H400v160ZM180-400h160v-160H180v160Zm440 0h160v-160H620v160ZM180-180h160v-160H180v160Zm440 0h160v-160H620v160Z\"/>\n",
              "  </svg>\n",
              "    </button>\n",
              "\n",
              "  <style>\n",
              "    .colab-df-container {\n",
              "      display:flex;\n",
              "      gap: 12px;\n",
              "    }\n",
              "\n",
              "    .colab-df-convert {\n",
              "      background-color: #E8F0FE;\n",
              "      border: none;\n",
              "      border-radius: 50%;\n",
              "      cursor: pointer;\n",
              "      display: none;\n",
              "      fill: #1967D2;\n",
              "      height: 32px;\n",
              "      padding: 0 0 0 0;\n",
              "      width: 32px;\n",
              "    }\n",
              "\n",
              "    .colab-df-convert:hover {\n",
              "      background-color: #E2EBFA;\n",
              "      box-shadow: 0px 1px 2px rgba(60, 64, 67, 0.3), 0px 1px 3px 1px rgba(60, 64, 67, 0.15);\n",
              "      fill: #174EA6;\n",
              "    }\n",
              "\n",
              "    .colab-df-buttons div {\n",
              "      margin-bottom: 4px;\n",
              "    }\n",
              "\n",
              "    [theme=dark] .colab-df-convert {\n",
              "      background-color: #3B4455;\n",
              "      fill: #D2E3FC;\n",
              "    }\n",
              "\n",
              "    [theme=dark] .colab-df-convert:hover {\n",
              "      background-color: #434B5C;\n",
              "      box-shadow: 0px 1px 3px 1px rgba(0, 0, 0, 0.15);\n",
              "      filter: drop-shadow(0px 1px 2px rgba(0, 0, 0, 0.3));\n",
              "      fill: #FFFFFF;\n",
              "    }\n",
              "  </style>\n",
              "\n",
              "    <script>\n",
              "      const buttonEl =\n",
              "        document.querySelector('#df-a45ae0da-14c7-4feb-99ed-7aa2611090e2 button.colab-df-convert');\n",
              "      buttonEl.style.display =\n",
              "        google.colab.kernel.accessAllowed ? 'block' : 'none';\n",
              "\n",
              "      async function convertToInteractive(key) {\n",
              "        const element = document.querySelector('#df-a45ae0da-14c7-4feb-99ed-7aa2611090e2');\n",
              "        const dataTable =\n",
              "          await google.colab.kernel.invokeFunction('convertToInteractive',\n",
              "                                                    [key], {});\n",
              "        if (!dataTable) return;\n",
              "\n",
              "        const docLinkHtml = 'Like what you see? Visit the ' +\n",
              "          '<a target=\"_blank\" href=https://colab.research.google.com/notebooks/data_table.ipynb>data table notebook</a>'\n",
              "          + ' to learn more about interactive tables.';\n",
              "        element.innerHTML = '';\n",
              "        dataTable['output_type'] = 'display_data';\n",
              "        await google.colab.output.renderOutput(dataTable, element);\n",
              "        const docLink = document.createElement('div');\n",
              "        docLink.innerHTML = docLinkHtml;\n",
              "        element.appendChild(docLink);\n",
              "      }\n",
              "    </script>\n",
              "  </div>\n",
              "\n",
              "\n",
              "<div id=\"df-88d75dd7-14da-4f1e-9214-8b60cd0ffe8c\">\n",
              "  <button class=\"colab-df-quickchart\" onclick=\"quickchart('df-88d75dd7-14da-4f1e-9214-8b60cd0ffe8c')\"\n",
              "            title=\"Suggest charts\"\n",
              "            style=\"display:none;\">\n",
              "\n",
              "<svg xmlns=\"http://www.w3.org/2000/svg\" height=\"24px\"viewBox=\"0 0 24 24\"\n",
              "     width=\"24px\">\n",
              "    <g>\n",
              "        <path d=\"M19 3H5c-1.1 0-2 .9-2 2v14c0 1.1.9 2 2 2h14c1.1 0 2-.9 2-2V5c0-1.1-.9-2-2-2zM9 17H7v-7h2v7zm4 0h-2V7h2v10zm4 0h-2v-4h2v4z\"/>\n",
              "    </g>\n",
              "</svg>\n",
              "  </button>\n",
              "\n",
              "<style>\n",
              "  .colab-df-quickchart {\n",
              "      --bg-color: #E8F0FE;\n",
              "      --fill-color: #1967D2;\n",
              "      --hover-bg-color: #E2EBFA;\n",
              "      --hover-fill-color: #174EA6;\n",
              "      --disabled-fill-color: #AAA;\n",
              "      --disabled-bg-color: #DDD;\n",
              "  }\n",
              "\n",
              "  [theme=dark] .colab-df-quickchart {\n",
              "      --bg-color: #3B4455;\n",
              "      --fill-color: #D2E3FC;\n",
              "      --hover-bg-color: #434B5C;\n",
              "      --hover-fill-color: #FFFFFF;\n",
              "      --disabled-bg-color: #3B4455;\n",
              "      --disabled-fill-color: #666;\n",
              "  }\n",
              "\n",
              "  .colab-df-quickchart {\n",
              "    background-color: var(--bg-color);\n",
              "    border: none;\n",
              "    border-radius: 50%;\n",
              "    cursor: pointer;\n",
              "    display: none;\n",
              "    fill: var(--fill-color);\n",
              "    height: 32px;\n",
              "    padding: 0;\n",
              "    width: 32px;\n",
              "  }\n",
              "\n",
              "  .colab-df-quickchart:hover {\n",
              "    background-color: var(--hover-bg-color);\n",
              "    box-shadow: 0 1px 2px rgba(60, 64, 67, 0.3), 0 1px 3px 1px rgba(60, 64, 67, 0.15);\n",
              "    fill: var(--button-hover-fill-color);\n",
              "  }\n",
              "\n",
              "  .colab-df-quickchart-complete:disabled,\n",
              "  .colab-df-quickchart-complete:disabled:hover {\n",
              "    background-color: var(--disabled-bg-color);\n",
              "    fill: var(--disabled-fill-color);\n",
              "    box-shadow: none;\n",
              "  }\n",
              "\n",
              "  .colab-df-spinner {\n",
              "    border: 2px solid var(--fill-color);\n",
              "    border-color: transparent;\n",
              "    border-bottom-color: var(--fill-color);\n",
              "    animation:\n",
              "      spin 1s steps(1) infinite;\n",
              "  }\n",
              "\n",
              "  @keyframes spin {\n",
              "    0% {\n",
              "      border-color: transparent;\n",
              "      border-bottom-color: var(--fill-color);\n",
              "      border-left-color: var(--fill-color);\n",
              "    }\n",
              "    20% {\n",
              "      border-color: transparent;\n",
              "      border-left-color: var(--fill-color);\n",
              "      border-top-color: var(--fill-color);\n",
              "    }\n",
              "    30% {\n",
              "      border-color: transparent;\n",
              "      border-left-color: var(--fill-color);\n",
              "      border-top-color: var(--fill-color);\n",
              "      border-right-color: var(--fill-color);\n",
              "    }\n",
              "    40% {\n",
              "      border-color: transparent;\n",
              "      border-right-color: var(--fill-color);\n",
              "      border-top-color: var(--fill-color);\n",
              "    }\n",
              "    60% {\n",
              "      border-color: transparent;\n",
              "      border-right-color: var(--fill-color);\n",
              "    }\n",
              "    80% {\n",
              "      border-color: transparent;\n",
              "      border-right-color: var(--fill-color);\n",
              "      border-bottom-color: var(--fill-color);\n",
              "    }\n",
              "    90% {\n",
              "      border-color: transparent;\n",
              "      border-bottom-color: var(--fill-color);\n",
              "    }\n",
              "  }\n",
              "</style>\n",
              "\n",
              "  <script>\n",
              "    async function quickchart(key) {\n",
              "      const quickchartButtonEl =\n",
              "        document.querySelector('#' + key + ' button');\n",
              "      quickchartButtonEl.disabled = true;  // To prevent multiple clicks.\n",
              "      quickchartButtonEl.classList.add('colab-df-spinner');\n",
              "      try {\n",
              "        const charts = await google.colab.kernel.invokeFunction(\n",
              "            'suggestCharts', [key], {});\n",
              "      } catch (error) {\n",
              "        console.error('Error during call to suggestCharts:', error);\n",
              "      }\n",
              "      quickchartButtonEl.classList.remove('colab-df-spinner');\n",
              "      quickchartButtonEl.classList.add('colab-df-quickchart-complete');\n",
              "    }\n",
              "    (() => {\n",
              "      let quickchartButtonEl =\n",
              "        document.querySelector('#df-88d75dd7-14da-4f1e-9214-8b60cd0ffe8c button');\n",
              "      quickchartButtonEl.style.display =\n",
              "        google.colab.kernel.accessAllowed ? 'block' : 'none';\n",
              "    })();\n",
              "  </script>\n",
              "</div>\n",
              "\n",
              "    </div>\n",
              "  </div>\n"
            ],
            "application/vnd.google.colaboratory.intrinsic+json": {
              "type": "dataframe",
              "variable_name": "data",
              "summary": "{\n  \"name\": \"data\",\n  \"rows\": 19461,\n  \"fields\": [\n    {\n      \"column\": \"text\",\n      \"properties\": {\n        \"dtype\": \"string\",\n        \"num_unique_values\": 19452,\n        \"samples\": [\n          \"just because i can .. # gifts # craft # crossstitch # funny  # monday\",\n          \"<user> talk about maintaining hygiene and fresh food !  # pathetic # foodstorage # swatchbharat\",\n          \" clearly based on reality .\"\n        ],\n        \"semantic_type\": \"\",\n        \"description\": \"\"\n      }\n    },\n    {\n      \"column\": \"labels\",\n      \"properties\": {\n        \"dtype\": \"number\",\n        \"std\": 0,\n        \"min\": 0,\n        \"max\": 1,\n        \"num_unique_values\": 2,\n        \"samples\": [\n          0,\n          1\n        ],\n        \"semantic_type\": \"\",\n        \"description\": \"\"\n      }\n    },\n    {\n      \"column\": \"cleaned_comment\",\n      \"properties\": {\n        \"dtype\": \"string\",\n        \"num_unique_values\": 19188,\n        \"samples\": [\n          \"shipping today first bumper sticker made idea came many year business school constantly tell think outside box much want shove box know thinkoutsidethebox bumperstickers\",\n          \"look like clearing 2nd half\"\n        ],\n        \"semantic_type\": \"\",\n        \"description\": \"\"\n      }\n    }\n  ]\n}"
            }
          },
          "metadata": {},
          "execution_count": 7
        }
      ]
    },
    {
      "cell_type": "markdown",
      "source": [
        "### Encoding the lables\n",
        "Label Encoding: This step converts categorical labels into integer values. One-Hot Encoding: The labels are further transformed into a binary matrix format for multi-class classification."
      ],
      "metadata": {
        "id": "AnDDAbXsCqmU"
      }
    },
    {
      "cell_type": "code",
      "source": [
        "# Encode the labels\n",
        "label_encoder = LabelEncoder()\n",
        "labels = label_encoder.fit_transform(data['labels'])\n",
        "\n",
        "# Convert labels to categorical one-hot encoding\n",
        "labels = to_categorical(labels)"
      ],
      "metadata": {
        "id": "sHyRikxqCteB"
      },
      "execution_count": 8,
      "outputs": []
    },
    {
      "cell_type": "markdown",
      "source": [
        "Fill NaN Values: Replaces missing values in the 'cleaned_comment' column with an empty string to avoid issues during vectorization. TF-IDF Vectorization: Transforms the text data into numerical features based on term frequency-inverse document frequency, limited to the top 5000 features."
      ],
      "metadata": {
        "id": "tZbnKUTqCvM1"
      }
    },
    {
      "cell_type": "code",
      "source": [
        "# Fill NaN values with an empty string\n",
        "data['cleaned_comment'] = data['cleaned_comment'].fillna('')\n",
        "\n",
        "# Vectorize the text data using TF-IDF\n",
        "tfidf = TfidfVectorizer(max_features=5000)\n",
        "features = tfidf.fit_transform(data['cleaned_comment']).toarray()"
      ],
      "metadata": {
        "id": "7iER56p5FZ0G"
      },
      "execution_count": 9,
      "outputs": []
    },
    {
      "cell_type": "markdown",
      "source": [
        "### split the data\n",
        "Train-Test Split: Splits the dataset into training and testing sets to evaluate model performance. Display Shapes: Shows the dimensions of the training and testing sets to verify the split."
      ],
      "metadata": {
        "id": "dj4CbquhC0rn"
      }
    },
    {
      "cell_type": "code",
      "source": [
        "# Split the data into training and testing sets\n",
        "X_train, X_test, y_train, y_test = train_test_split(features, labels, test_size=0.2, random_state=42)\n",
        "\n",
        "# Display the shapes of the training and testing sets\n",
        "print(\"Training set shape:\", X_train.shape)\n",
        "print(\"Testing set shape:\", X_test.shape)"
      ],
      "metadata": {
        "colab": {
          "base_uri": "https://localhost:8080/"
        },
        "id": "0SLdMtX-Fc33",
        "outputId": "a4946ccd-cc68-43bf-832c-78ce9bec2e35"
      },
      "execution_count": 10,
      "outputs": [
        {
          "output_type": "stream",
          "name": "stdout",
          "text": [
            "Training set shape: (15568, 5000)\n",
            "Testing set shape: (3893, 5000)\n"
          ]
        }
      ]
    },
    {
      "cell_type": "markdown",
      "source": [
        "### Dense Neural Network Model\n",
        "A dense neural network, also known as a fully connected network, is one of the simplest types of neural networks. It consists of layers where each neuron is connected to every neuron in the previous layer.\n",
        "\n",
        "We will create a Sequential model and add Dense layers. The first layer has 512 neurons with ReLU activation and receives input of the shape of our training data. Dropout layers are added to prevent overfitting by randomly setting a fraction of input units to 0 at each update during training. The model is compiled with the categorical crossentropy loss function (suitable for multi-class classification) and the Adam optimizer. Accuracy is used as the metric to evaluate the model. The model is trained using the training data for 10 epochs with a batch size of 64. Validation data is used to monitor the model's performance on unseen data during training."
      ],
      "metadata": {
        "id": "Ov9DqU7TC6oe"
      }
    },
    {
      "cell_type": "code",
      "source": [
        "# Build the dense model\n",
        "dense_model = Sequential()\n",
        "dense_model.add(Dense(512, input_shape=(X_train.shape[1],), activation='relu'))\n",
        "dense_model.add(Dropout(0.5))\n",
        "dense_model.add(Dense(256, activation='relu'))\n",
        "dense_model.add(Dropout(0.5))\n",
        "dense_model.add(Dense(y_train.shape[1], activation='softmax'))\n",
        "\n",
        "# Compile the model\n",
        "dense_model.compile(loss='categorical_crossentropy', optimizer='adam', metrics=['accuracy'])\n",
        "\n",
        "# Train the model\n",
        "dense_history = dense_model.fit(X_train, y_train, epochs=10, batch_size=64, validation_data=(X_test, y_test), verbose=1)\n"
      ],
      "metadata": {
        "colab": {
          "base_uri": "https://localhost:8080/"
        },
        "id": "AO1jDy8xFhwn",
        "outputId": "297180e0-c795-4e5f-db48-97e382a1a006"
      },
      "execution_count": 11,
      "outputs": [
        {
          "output_type": "stream",
          "name": "stdout",
          "text": [
            "Epoch 1/10\n",
            "244/244 [==============================] - 5s 7ms/step - loss: 0.5543 - accuracy: 0.7070 - val_loss: 0.4858 - val_accuracy: 0.7598\n",
            "Epoch 2/10\n",
            "244/244 [==============================] - 1s 5ms/step - loss: 0.3762 - accuracy: 0.8316 - val_loss: 0.4940 - val_accuracy: 0.7578\n",
            "Epoch 3/10\n",
            "244/244 [==============================] - 1s 5ms/step - loss: 0.2781 - accuracy: 0.8861 - val_loss: 0.5661 - val_accuracy: 0.7531\n",
            "Epoch 4/10\n",
            "244/244 [==============================] - 1s 5ms/step - loss: 0.1866 - accuracy: 0.9290 - val_loss: 0.6929 - val_accuracy: 0.7513\n",
            "Epoch 5/10\n",
            "244/244 [==============================] - 1s 5ms/step - loss: 0.1161 - accuracy: 0.9577 - val_loss: 0.7960 - val_accuracy: 0.7503\n",
            "Epoch 6/10\n",
            "244/244 [==============================] - 2s 6ms/step - loss: 0.0783 - accuracy: 0.9719 - val_loss: 0.9102 - val_accuracy: 0.7524\n",
            "Epoch 7/10\n",
            "244/244 [==============================] - 1s 5ms/step - loss: 0.0570 - accuracy: 0.9798 - val_loss: 1.0314 - val_accuracy: 0.7462\n",
            "Epoch 8/10\n",
            "244/244 [==============================] - 1s 5ms/step - loss: 0.0502 - accuracy: 0.9805 - val_loss: 1.0459 - val_accuracy: 0.7483\n",
            "Epoch 9/10\n",
            "244/244 [==============================] - 1s 5ms/step - loss: 0.0458 - accuracy: 0.9820 - val_loss: 1.1259 - val_accuracy: 0.7462\n",
            "Epoch 10/10\n",
            "244/244 [==============================] - 1s 5ms/step - loss: 0.0393 - accuracy: 0.9839 - val_loss: 1.2333 - val_accuracy: 0.7526\n"
          ]
        }
      ]
    },
    {
      "cell_type": "markdown",
      "source": [
        "### Evalutation the model and calculate metrix\n",
        "\n",
        "Model Evaluation: Evaluates the model on the test set to get the loss and accuracy.\n",
        "\n",
        "Predictions: Generates predictions and calculates the predicted labels.\n",
        "\n",
        "Display Labels: Shows the first 10 actual and predicted labels for reference. Calculate Metrics: Computes accuracy, precision, recall, F1 score, confusion matrix, and ROC AUC to assess the model’s performance.\n",
        "\n",
        "Print Metrics: Outputs the computed metrics for analysis. Plot Confusion Matrix: Visualizes the confusion matrix to show the model’s performance in terms of true positives, true negatives, false positives, and false negatives. Plot ROC Curve: Visualizes the ROC curves for each class to show the model’s ability to distinguish between classes."
      ],
      "metadata": {
        "id": "r3LY2kvCDDvz"
      }
    },
    {
      "cell_type": "code",
      "source": [
        "from keras.models import Sequential\n",
        "from keras.layers import Conv1D, MaxPooling1D, Flatten"
      ],
      "metadata": {
        "id": "0eumBuZcFhy_"
      },
      "execution_count": 12,
      "outputs": []
    },
    {
      "cell_type": "code",
      "source": [
        "from sklearn.metrics import accuracy_score, precision_score, recall_score, f1_score, confusion_matrix, roc_auc_score, roc_curve, auc\n",
        "import matplotlib.pyplot as plt\n",
        "import seaborn as sns\n",
        "import numpy as np\n",
        "\n",
        "def evaluate_model(model, X_test, y_test):\n",
        "    y_pred_probs = model.predict(X_test)\n",
        "    y_pred = np.argmax(y_pred_probs, axis=1)\n",
        "    y_test_true = np.argmax(y_test, axis=1)\n",
        "\n",
        "    accuracy = accuracy_score(y_test_true, y_pred)\n",
        "    precision = precision_score(y_test_true, y_pred, average='weighted')\n",
        "    recall = recall_score(y_test_true, y_pred, average='weighted')\n",
        "    f1 = f1_score(y_test_true, y_pred, average='weighted')\n",
        "    roc_auc = roc_auc_score(y_test, y_pred_probs, multi_class='ovr')\n",
        "\n",
        "    return accuracy, precision, recall, f1, roc_auc\n",
        "\n",
        "# Evaluate Dense Model\n",
        "dense_metrics = evaluate_model(dense_model, X_test, y_test)\n",
        "print(\"Dense Model - Accuracy: {:.4f}, Precision: {:.4f}, Recall: {:.4f}, F1 Score: {:.4f}, ROC AUC: {:.4f}\".format(*dense_metrics))"
      ],
      "metadata": {
        "colab": {
          "base_uri": "https://localhost:8080/"
        },
        "id": "IMZ9zJAnFh2T",
        "outputId": "2c6571dc-e0fa-46ea-9324-cd494c40f919"
      },
      "execution_count": 13,
      "outputs": [
        {
          "output_type": "stream",
          "name": "stdout",
          "text": [
            "122/122 [==============================] - 0s 2ms/step\n",
            "Dense Model - Accuracy: 0.7526, Precision: 0.7520, Recall: 0.7526, F1 Score: 0.7507, ROC AUC: 0.8233\n"
          ]
        }
      ]
    },
    {
      "cell_type": "markdown",
      "source": [
        "### Selecting and Evaluating the Best Deep Learning Model\n",
        "Determine the best model among the Dense, CNN, and LSTM models based on their accuracy. We then re-evaluate the best model for a detailed analysis, including the confusion matrix and ROC curve.\n",
        "\n",
        "Initialization:\n",
        "\n",
        "We initialize variables to keep track of the best model (best_model), its metrics (best_metrics), and its name (best_name). Determining the Best Model:\n",
        "\n",
        "We iterate through each model, compare their accuracies, and update best_model, best_metrics, and best_name accordingly. Re-evaluation for Detailed Analysis:\n",
        "\n",
        "Based on the best model, we prepare the test data (X_test_best) in the required format for re-evaluation. We make predictions on the test data and convert the predicted probabilities to class labels. We also convert the true labels from one-hot encoding to class labels.\n",
        "\n",
        "**Confusion Matrix:**\n",
        "\n",
        "We compute the confusion matrix to visualize the performance of the best model. A confusion matrix shows the counts of actual vs. predicted classifications, which helps in understanding the model's performance in detail.\n",
        "\n",
        "**ROC Curve:**\n",
        "\n",
        "We calculate the ROC curve for each class to evaluate the model's performance. ROC curves plot the true positive rate (sensitivity) against the false positive rate (1-specificity), providing insight into the trade-off between sensitivity and specificity for different threshold values. The Area Under the Curve (AUC) is also computed to summarize the model's performance across all thresholds."
      ],
      "metadata": {
        "id": "mv80UVqzDLfZ"
      }
    },
    {
      "cell_type": "code",
      "source": [
        "best_model = None\n",
        "best_metrics = None\n",
        "best_name = \"\"\n",
        "\n",
        "# Determine the best model based on accuracy\n",
        "models = [dense_model]\n",
        "metrics = [dense_metrics]\n",
        "names = [\"Dense\"]\n",
        "\n",
        "for model, metric, name in zip(models, metrics, names):\n",
        "    if best_metrics is None or metric[0] > best_metrics[0]:  # Compare by accuracy\n",
        "        best_model = model\n",
        "        best_metrics = metric\n",
        "        best_name = name\n",
        "\n",
        "print(f\"Best model is {best_name} with accuracy {best_metrics[0]:.4f}\")\n",
        "\n",
        "# Re-evaluate best model for detailed analysis\n",
        "X_test_best = X_test_cnn if best_name == \"CNN\" else (X_test_lstm if best_name in [\"LSTM\", \"BiLSTM\"] else X_test)\n",
        "y_pred_probs = best_model.predict(X_test_best)\n",
        "y_pred = np.argmax(y_pred_probs, axis=1)\n",
        "y_test_true = np.argmax(y_test, axis=1)\n",
        "\n",
        "# Calculate confusion matrix\n",
        "conf_matrix = confusion_matrix(y_test_true, y_pred)\n",
        "plt.figure(figsize=(10, 7))\n",
        "sns.heatmap(conf_matrix, annot=True, fmt='d', cmap='Blues')\n",
        "plt.xlabel('Predicted')\n",
        "plt.ylabel('Actual')\n",
        "plt.title(f'Confusion Matrix for {best_name}')\n",
        "plt.show()\n",
        "\n",
        "# Plot ROC Curve\n",
        "fpr = {}\n",
        "tpr = {}\n",
        "roc_auc = {}\n",
        "for i in range(y_test.shape[1]):\n",
        "    fpr[i], tpr[i], _ = roc_curve(y_test[:, i], y_pred_probs[:, i])\n",
        "    roc_auc[i] = auc(fpr[i], tpr[i])\n",
        "\n",
        "plt.figure()\n",
        "colors = ['aqua', 'darkorange', 'cornflowerblue']\n",
        "for i, color in zip(range(y_test.shape[1]), colors):\n",
        "    plt.plot(fpr[i], tpr[i], color=color, lw=2, label='ROC curve of class {0} (area = {1:0.2f})'.format(i, roc_auc[i]))\n",
        "\n",
        "plt.plot([0, 1], [0, 1], 'k--', lw=2)\n",
        "plt.xlim([0.0, 1.0])\n",
        "plt.ylim([0.0, 1.05])\n",
        "plt.xlabel('False Positive Rate')\n",
        "plt.ylabel('True Positive Rate')\n",
        "plt.title(f'ROC Curve for {best_name}')\n",
        "plt.legend(loc=\"lower right\")\n",
        "plt.show()"
      ],
      "metadata": {
        "colab": {
          "base_uri": "https://localhost:8080/",
          "height": 1000
        },
        "id": "96bjVow2GFfA",
        "outputId": "0e94bbc2-d0fd-48a0-c509-74a2325ceab8"
      },
      "execution_count": 16,
      "outputs": [
        {
          "output_type": "stream",
          "name": "stdout",
          "text": [
            "Best model is Dense with accuracy 0.7526\n",
            "122/122 [==============================] - 0s 2ms/step\n"
          ]
        },
        {
          "output_type": "display_data",
          "data": {
            "text/plain": [
              "<Figure size 1000x700 with 2 Axes>"
            ],
            "image/png": "[encoded data removed]"
          },
          "metadata": {}
        },
        {
          "output_type": "display_data",
          "data": {
            "text/plain": [
              "<Figure size 640x480 with 1 Axes>"
            ],
            "image/png": "[encoded data removed]"
          },
          "metadata": {}
        }
      ]
    },
    {
      "cell_type": "markdown",
      "source": [
        "In Summary\n",
        "among these three models Dense model has more accuracy so we finilized the dense model.\n",
        "\n",
        "Confusion Matrix for Dense Model\n",
        "1767 instances where the model correctly predicted class 0. 415 instances where the model incorrectly predicted class 1.\n",
        "\n",
        "ROC Curve for Dense Model\n",
        "True Positive Rate (TPR): Also known as recall or sensitivity, this measures the proportion of actual positives correctly identified.\n",
        "False Positive Rate (FPR): This measures the proportion of actual negatives incorrectly identified as positives.\n",
        "ROC Curve: Plots TPR against FPR at various threshold settings, showing the trade-off between sensitivity and specificity.\n",
        "AUC (Area Under the Curve): Represents the degree of separability achieved by the model. AUC values close to 1 indicate a good model, while values close to 0.5 suggest a model that performs no better than random guessing.\n",
        "\n",
        "Observations in curve\n",
        "Class 0 and Class 1 AUC Scores, Both classes have an AUC score of 0.82, indicating a fairly good performance of the dense model in distinguishing between the two classes.\n"
      ],
      "metadata": {
        "id": "Xkj-QyVfDrZ-"
      }
    },
    {
      "cell_type": "markdown",
      "source": [
        "### Classification Report for Dense MOdel"
      ],
      "metadata": {
        "id": "e_J8CRGjDuJf"
      }
    },
    {
      "cell_type": "code",
      "source": [
        "from sklearn.metrics import classification_report, confusion_matrix, roc_curve, auc\n",
        "import seaborn as sns\n",
        "import matplotlib.pyplot as plt\n",
        "import numpy as np\n",
        "\n",
        "# Evaluate the model\n",
        "loss, accuracy = dense_model.evaluate(X_test, y_test, verbose=0)\n",
        "print(f\"Dense Model Accuracy: {accuracy:.4f}\")\n",
        "\n",
        "# Generate classification report\n",
        "y_pred_probs = dense_model.predict(X_test)\n",
        "y_pred = np.argmax(y_pred_probs, axis=1)\n",
        "y_test_true = np.argmax(y_test, axis=1)\n",
        "\n",
        "class_report = classification_report(y_test_true, y_pred, target_names=['Class 0', 'Class 1'])\n",
        "print(\"\\nClassification Report:\\n\", class_report)"
      ],
      "metadata": {
        "colab": {
          "base_uri": "https://localhost:8080/"
        },
        "id": "PlSG9MCdGnsx",
        "outputId": "b5cd7270-ca1e-46c2-a67d-923b25b1e458"
      },
      "execution_count": 17,
      "outputs": [
        {
          "output_type": "stream",
          "name": "stdout",
          "text": [
            "Dense Model Accuracy: 0.7526\n",
            "122/122 [==============================] - 0s 3ms/step\n",
            "\n",
            "Classification Report:\n",
            "               precision    recall  f1-score   support\n",
            "\n",
            "     Class 0       0.76      0.82      0.79      2182\n",
            "     Class 1       0.74      0.67      0.70      1711\n",
            "\n",
            "    accuracy                           0.75      3893\n",
            "   macro avg       0.75      0.74      0.75      3893\n",
            "weighted avg       0.75      0.75      0.75      3893\n",
            "\n"
          ]
        }
      ]
    },
    {
      "cell_type": "markdown",
      "source": [
        "### Hyperparameter Tuning for Dense Model\n",
        "\n",
        "Hyperparameter Tuning for Neural Networks\n",
        "Hyperparameter tuning is an essential step in optimizing the performance of neural network models. We utilized Keras Tuner to find the best set of hyperparameters for our Dense and LSTM models. The key hyperparameters tuned include:\n",
        "\n",
        "Units: Number of neurons in the dense layers.\n",
        "Dropout: Dropout rate to prevent overfitting.\n",
        "Learning Rate: Learning rate for the optimizer.\n",
        "Filters: Number of filters in the convolutional layer (for CNN).\n",
        "The tuning process involves:\n",
        "\n",
        "Defining a build function: This function constructs the model architecture and compiles it using a given set of hyperparameters.\n",
        "Running the tuner: Keras Tuner performs a search over the specified range of hyperparameters to find the best combination based on validation accuracy.\n",
        "Training the best model: The model with the best hyperparameters is trained and evaluated on the test set.\n"
      ],
      "metadata": {
        "id": "6-brqnvwEBtl"
      }
    },
    {
      "cell_type": "code",
      "source": [
        "!pip install keras-tuner\n"
      ],
      "metadata": {
        "colab": {
          "base_uri": "https://localhost:8080/"
        },
        "id": "7oQAV7AlIRN0",
        "outputId": "5748fb99-470e-407d-c0cc-69e7d20454a6"
      },
      "execution_count": 21,
      "outputs": [
        {
          "output_type": "stream",
          "name": "stdout",
          "text": [
            "Collecting keras-tuner\n",
            "  Downloading keras_tuner-1.4.7-py3-none-any.whl (129 kB)\n",
            "\u001b[2K     \u001b[90m━━━━━━━━━━━━━━━━━━━━━━━━━━━━━━━━━━━━━━━━\u001b[0m \u001b[32m129.1/129.1 kB\u001b[0m \u001b[31m3.0 MB/s\u001b[0m eta \u001b[36m0:00:00\u001b[0m\n",
            "\u001b[?25hRequirement already satisfied: keras in /usr/local/lib/python3.10/dist-packages (from keras-tuner) (2.15.0)\n",
            "Requirement already satisfied: packaging in /usr/local/lib/python3.10/dist-packages (from keras-tuner) (24.1)\n",
            "Requirement already satisfied: requests in /usr/local/lib/python3.10/dist-packages (from keras-tuner) (2.31.0)\n",
            "Collecting kt-legacy (from keras-tuner)\n",
            "  Downloading kt_legacy-1.0.5-py3-none-any.whl (9.6 kB)\n",
            "Requirement already satisfied: charset-normalizer<4,>=2 in /usr/local/lib/python3.10/dist-packages (from requests->keras-tuner) (3.3.2)\n",
            "Requirement already satisfied: idna<4,>=2.5 in /usr/local/lib/python3.10/dist-packages (from requests->keras-tuner) (3.7)\n",
            "Requirement already satisfied: urllib3<3,>=1.21.1 in /usr/local/lib/python3.10/dist-packages (from requests->keras-tuner) (2.0.7)\n",
            "Requirement already satisfied: certifi>=2017.4.17 in /usr/local/lib/python3.10/dist-packages (from requests->keras-tuner) (2024.7.4)\n",
            "Installing collected packages: kt-legacy, keras-tuner\n",
            "Successfully installed keras-tuner-1.4.7 kt-legacy-1.0.5\n"
          ]
        }
      ]
    },
    {
      "cell_type": "code",
      "source": [
        "import keras_tuner as kt\n",
        "from tensorflow.keras.optimizers import Adam\n",
        "from tensorflow.keras.models import Sequential\n",
        "from tensorflow.keras.layers import Dense, Dropout\n",
        "\n",
        "def build_dense_model(hp):\n",
        "    dense_model = Sequential()\n",
        "    dense_model.add(Dense(hp.Int('units', min_value=32, max_value=512, step=32), input_shape=(X_train.shape[1],), activation='relu'))\n",
        "    dense_model.add(Dropout(hp.Float('dropout', min_value=0.2, max_value=0.5, step=0.1)))\n",
        "    dense_model.add(Dense(y_train.shape[1], activation='softmax'))\n",
        "\n",
        "    dense_model.compile(\n",
        "        optimizer=Adam(hp.Float('learning_rate', min_value=1e-4, max_value=1e-2, sampling='log')),\n",
        "        loss='categorical_crossentropy',\n",
        "        metrics=['accuracy']\n",
        "    )\n",
        "    return dense_model\n",
        "\n",
        "tuner = kt.RandomSearch(\n",
        "    build_dense_model,\n",
        "    objective='val_accuracy',\n",
        "    max_trials=5,\n",
        "    executions_per_trial=3,\n",
        "    directory='dense_tuner',\n",
        "    project_name='dense_hyperparameter_tuning'\n",
        ")\n",
        "\n",
        "tuner.search(X_train, y_train, epochs=10, validation_data=(X_test, y_test))\n",
        "\n",
        "best_hps = tuner.get_best_hyperparameters(num_trials=1)[0]\n",
        "print(f\"Best units: {best_hps.get('units')}\")\n",
        "print(f\"Best dropout: {best_hps.get('dropout')}\")\n",
        "print(f\"Best learning_rate: {best_hps.get('learning_rate')}\")\n",
        "\n",
        "# Train the best model\n",
        "best_dense_model = tuner.hypermodel.build(best_hps)\n",
        "best_dense_model.fit(X_train, y_train, epochs=10, validation_data=(X_test, y_test))\n"
      ],
      "metadata": {
        "colab": {
          "base_uri": "https://localhost:8080/"
        },
        "id": "03hrggq6IVqG",
        "outputId": "5aaa5c84-30cc-40b0-becd-bd93c41975e9"
      },
      "execution_count": 22,
      "outputs": [
        {
          "output_type": "stream",
          "name": "stdout",
          "text": [
            "Trial 5 Complete [00h 01m 12s]\n",
            "val_accuracy: 0.7579416036605835\n",
            "\n",
            "Best val_accuracy So Far: 0.7666752338409424\n",
            "Total elapsed time: 00h 07m 18s\n",
            "Best units: 96\n",
            "Best dropout: 0.2\n",
            "Best learning_rate: 0.0001700786689115504\n",
            "Epoch 1/10\n",
            "487/487 [==============================] - 3s 4ms/step - loss: 0.6649 - accuracy: 0.5919 - val_loss: 0.6303 - val_accuracy: 0.6550\n",
            "Epoch 2/10\n",
            "487/487 [==============================] - 2s 5ms/step - loss: 0.5589 - accuracy: 0.7507 - val_loss: 0.5361 - val_accuracy: 0.7521\n",
            "Epoch 3/10\n",
            "487/487 [==============================] - 2s 4ms/step - loss: 0.4608 - accuracy: 0.8113 - val_loss: 0.4956 - val_accuracy: 0.7639\n",
            "Epoch 4/10\n",
            "487/487 [==============================] - 2s 3ms/step - loss: 0.4067 - accuracy: 0.8323 - val_loss: 0.4845 - val_accuracy: 0.7660\n",
            "Epoch 5/10\n",
            "487/487 [==============================] - 2s 4ms/step - loss: 0.3730 - accuracy: 0.8449 - val_loss: 0.4843 - val_accuracy: 0.7609\n",
            "Epoch 6/10\n",
            "487/487 [==============================] - 2s 4ms/step - loss: 0.3504 - accuracy: 0.8518 - val_loss: 0.4895 - val_accuracy: 0.7557\n",
            "Epoch 7/10\n",
            "487/487 [==============================] - 2s 4ms/step - loss: 0.3335 - accuracy: 0.8594 - val_loss: 0.4980 - val_accuracy: 0.7526\n",
            "Epoch 8/10\n",
            "487/487 [==============================] - 2s 4ms/step - loss: 0.3181 - accuracy: 0.8643 - val_loss: 0.5092 - val_accuracy: 0.7557\n",
            "Epoch 9/10\n",
            "487/487 [==============================] - 2s 5ms/step - loss: 0.3081 - accuracy: 0.8697 - val_loss: 0.5183 - val_accuracy: 0.7565\n",
            "Epoch 10/10\n",
            "487/487 [==============================] - 2s 4ms/step - loss: 0.2960 - accuracy: 0.8737 - val_loss: 0.5300 - val_accuracy: 0.7555\n"
          ]
        },
        {
          "output_type": "execute_result",
          "data": {
            "text/plain": [
              "<keras.src.callbacks.History at 0x79435ef1f130>"
            ]
          },
          "metadata": {},
          "execution_count": 22
        }
      ]
    },
    {
      "cell_type": "code",
      "source": [],
      "metadata": {
        "id": "GiqIg5nhf3Pn"
      },
      "execution_count": null,
      "outputs": []
    },
    {
      "cell_type": "markdown",
      "source": [
        "### save the model and Experiment with YT Comments"
      ],
      "metadata": {
        "id": "2eqijxuESler"
      }
    },
    {
      "cell_type": "code",
      "source": [],
      "metadata": {
        "id": "8pHKwLWxitcA"
      },
      "execution_count": null,
      "outputs": []
    },
    {
      "cell_type": "code",
      "source": [
        "\n",
        "import numpy as np\n",
        "# Save the best model\n",
        "best_model.save('dense_model.h5')\n",
        "\n",
        "# Function to predict sarcasm\n",
        "def predict_sarcasm(comment, model, tfidf):\n",
        "\n",
        "  # Preprocess the comment\n",
        "  comment_processed = tfidf.transform([comment]).toarray()\n",
        "\n",
        "  # Make the prediction\n",
        "  prediction = model.predict(comment_processed)\n",
        "  predicted_class = np.argmax(prediction)\n",
        "\n",
        "  # Interpret the prediction\n",
        "  if predicted_class == 1:\n",
        "    return \"The comment is  sarcastic.\"\n",
        "  else:\n",
        "    return \"The comment is not sarcastic.\"\n"
      ],
      "metadata": {
        "colab": {
          "base_uri": "https://localhost:8080/"
        },
        "id": "I4cA2ctQMxWJ",
        "outputId": "dd1bb21f-d955-46f4-a173-1210eaf03cf1"
      },
      "execution_count": 38,
      "outputs": [
        {
          "output_type": "stream",
          "name": "stderr",
          "text": [
            "/usr/local/lib/python3.10/dist-packages/keras/src/engine/training.py:3103: UserWarning: You are saving your model as an HDF5 file via `model.save()`. This file format is considered legacy. We recommend using instead the native Keras format, e.g. `model.save('my_model.keras')`.\n",
            "  saving_api.save_model(\n"
          ]
        }
      ]
    },
    {
      "cell_type": "code",
      "source": [
        "# Example usage\n",
        "new_comment = \"Oh, fantastic! Another meeting that could have been an email.\"\n",
        "prediction_result = predict_sarcasm(new_comment, dense_model, tfidf)\n",
        "print(prediction_result)"
      ],
      "metadata": {
        "colab": {
          "base_uri": "https://localhost:8080/"
        },
        "id": "XNap9YWOSReW",
        "outputId": "81700202-af54-4f23-ea88-da003b9e4823"
      },
      "execution_count": 42,
      "outputs": [
        {
          "output_type": "stream",
          "name": "stdout",
          "text": [
            "1/1 [==============================] - 0s 68ms/step\n",
            "The comment is  sarcastic.\n"
          ]
        }
      ]
    },
    {
      "cell_type": "code",
      "source": [
        "\n",
        "new_comment = \"john is a best content creator.\"\n",
        "prediction_result = predict_sarcasm(new_comment, dense_model, tfidf)\n",
        "print(prediction_result)"
      ],
      "metadata": {
        "colab": {
          "base_uri": "https://localhost:8080/"
        },
        "id": "Pl4ZklAHQTFT",
        "outputId": "3571e393-1a96-48ad-9cac-90230cab31d8"
      },
      "execution_count": 43,
      "outputs": [
        {
          "output_type": "stream",
          "name": "stdout",
          "text": [
            "1/1 [==============================] - 0s 18ms/step\n",
            "The comment is not sarcastic.\n"
          ]
        }
      ]
    },
    {
      "cell_type": "code",
      "source": [
        "new_comment = \"please hide your hidden talent from us.\"\n",
        "prediction_result = predict_sarcasm(new_comment, dense_model, tfidf)\n",
        "print(prediction_result)"
      ],
      "metadata": {
        "colab": {
          "base_uri": "https://localhost:8080/"
        },
        "id": "XFoZXNm4R2J8",
        "outputId": "800639cb-f46b-4fbc-99c4-fc5113ffcb99"
      },
      "execution_count": 47,
      "outputs": [
        {
          "output_type": "stream",
          "name": "stdout",
          "text": [
            "1/1 [==============================] - 0s 28ms/step\n",
            "The comment is  sarcastic.\n"
          ]
        }
      ]
    }
  ]
}